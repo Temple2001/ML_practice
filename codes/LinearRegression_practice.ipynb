{
  "nbformat": 4,
  "nbformat_minor": 0,
  "metadata": {
    "colab": {
      "name": "LinearRegression_practice.ipynb",
      "provenance": [],
      "authorship_tag": "ABX9TyN2vI9M9B21k7WeCJdPec5m",
      "include_colab_link": true
    },
    "kernelspec": {
      "name": "python3",
      "display_name": "Python 3"
    }
  },
  "cells": [
    {
      "cell_type": "markdown",
      "metadata": {
        "id": "view-in-github",
        "colab_type": "text"
      },
      "source": [
        "<a href=\"https://colab.research.google.com/github/Temple2001/ML_practice/blob/main/codes/LinearRegression_practice.ipynb\" target=\"_parent\"><img src=\"https://colab.research.google.com/assets/colab-badge.svg\" alt=\"Open In Colab\"/></a>"
      ]
    },
    {
      "cell_type": "markdown",
      "metadata": {
        "id": "9wSE-RAxOhoy"
      },
      "source": [
        "# Example 1"
      ]
    },
    {
      "cell_type": "code",
      "metadata": {
        "id": "8k0J6IaYAHWk"
      },
      "source": [
        "import numpy as np\r\n",
        "\r\n",
        "def numerical_derivative(f, x):\r\n",
        "  delta_x = 1e-4\r\n",
        "  grad = np.zeros_like(x)\r\n",
        "\r\n",
        "  it = np.nditer(x, flags=['multi_index'], op_flags=['readwrite'])\r\n",
        "\r\n",
        "  while not it.finished:\r\n",
        "    idx = it.multi_index\r\n",
        "    tmp_val = x[idx]\r\n",
        "    x[idx] = float(tmp_val) + delta_x\r\n",
        "    fx1 = f(x)\r\n",
        "\r\n",
        "    x[idx] = float(tmp_val) - delta_x\r\n",
        "    fx2 = f(x)\r\n",
        "    grad[idx] = (fx1 - fx2) / (2*delta_x)\r\n",
        "\r\n",
        "    x[idx] = tmp_val\r\n",
        "    it.iternext()\r\n",
        "\r\n",
        "  return grad"
      ],
      "execution_count": 1,
      "outputs": []
    },
    {
      "cell_type": "code",
      "metadata": {
        "colab": {
          "base_uri": "https://localhost:8080/"
        },
        "id": "dDrkXTTJEMXu",
        "outputId": "c0804d6b-527c-463c-dde9-8d1e100f0ea7"
      },
      "source": [
        "x_data = np.array([1.0, 2.0, 3.0, 4.0, 5.0]).reshape(5,1)\r\n",
        "t_data = np.array([2.0, 3.0, 4.0, 5.0, 6.0]).reshape(5,1)\r\n",
        "\r\n",
        "print('x_data.shape = ', x_data.shape, ', t_data.shape = ', t_data.shape)"
      ],
      "execution_count": 2,
      "outputs": [
        {
          "output_type": "stream",
          "text": [
            "x_data.shape =  (5, 1) , t_data.shape =  (5, 1)\n"
          ],
          "name": "stdout"
        }
      ]
    },
    {
      "cell_type": "code",
      "metadata": {
        "colab": {
          "base_uri": "https://localhost:8080/"
        },
        "id": "e8InSoFuE4xm",
        "outputId": "7d6e2e4e-1859-42ea-9c1a-1ed3d597910c"
      },
      "source": [
        "W = np.random.rand(1,1)\r\n",
        "b = np.random.rand(1)\r\n",
        "\r\n",
        "print('W = ', W, ', W.shape = ', W.shape, ', b = ', b, ', b.shape = ', b.shape)"
      ],
      "execution_count": 3,
      "outputs": [
        {
          "output_type": "stream",
          "text": [
            "W =  [[0.55508332]] , W.shape =  (1, 1) , b =  [0.54836789] , b.shape =  (1,)\n"
          ],
          "name": "stdout"
        }
      ]
    },
    {
      "cell_type": "code",
      "metadata": {
        "id": "6mXAyRG-Fc7H"
      },
      "source": [
        "def loss_func(x, t):\r\n",
        "  y = np.dot(x,W) + b\r\n",
        "\r\n",
        "  return ( np.sum((t-y)**2) / (len(x)))\r\n",
        "\r\n",
        "def loss_val(x, t):\r\n",
        "  y = np.dot(x,W) + b\r\n",
        "\r\n",
        "  return ( np.sum((t-y)**2) / (len(x)))\r\n",
        "\r\n",
        "def predict(x):\r\n",
        "  y = np.dot(x,W) + b\r\n",
        "  return y"
      ],
      "execution_count": 4,
      "outputs": []
    },
    {
      "cell_type": "code",
      "metadata": {
        "id": "LXN-rJztF72W",
        "outputId": "ac71ae67-d764-4932-c446-2e1dfb21ee10",
        "colab": {
          "base_uri": "https://localhost:8080/"
        }
      },
      "source": [
        "learning_rate = 1e-2\r\n",
        "\r\n",
        "f = lambda x : loss_func(x_data, t_data)\r\n",
        "\r\n",
        "print('initial loss value = ', loss_val(x_data, t_data), 'initial W = ', W, '\\n', ', b = ', b)\r\n",
        "\r\n",
        "for step in range(8001):\r\n",
        "  W -= learning_rate * numerical_derivative(f, W)\r\n",
        "  b -= learning_rate * numerical_derivative(f, b)\r\n",
        "\r\n",
        "  if (step % 400 == 0):\r\n",
        "    print('step = ', step, ', loss value = ', loss_val(x_data, t_data), ', W = ', W, ', b = ', b)"
      ],
      "execution_count": 5,
      "outputs": [
        {
          "output_type": "stream",
          "text": [
            "initial loss value =  3.5870628239170346 initial W =  [[0.55508332]] \n",
            " , b =  [0.54836789]\n",
            "step =  0 , loss value =  2.1180017730356226 , W =  [[0.68006292]] , b =  [0.57659676]\n",
            "step =  400 , loss value =  0.001297594841720573 , W =  [[1.02339194]] , b =  [0.91556834]\n",
            "step =  800 , loss value =  8.279422224720827e-05 , W =  [[1.00590877]] , b =  [0.9786727]\n",
            "step =  1200 , loss value =  5.282760856564825e-06 , W =  [[1.00149254]] , b =  [0.99461276]\n",
            "step =  1600 , loss value =  3.370713741871358e-07 , W =  [[1.00037701]] , b =  [0.99863919]\n",
            "step =  2000 , loss value =  2.1507146429859164e-08 , W =  [[1.00009523]] , b =  [0.99965626]\n",
            "step =  2400 , loss value =  1.3722830918986414e-09 , W =  [[1.00002406]] , b =  [0.99991317]\n",
            "step =  2800 , loss value =  8.75597741672192e-11 , W =  [[1.00000608]] , b =  [0.99997807]\n",
            "step =  3200 , loss value =  5.586831243095368e-12 , W =  [[1.00000153]] , b =  [0.99999446]\n",
            "step =  3600 , loss value =  3.564728628107527e-13 , W =  [[1.00000039]] , b =  [0.9999986]\n",
            "step =  4000 , loss value =  2.274507604758876e-14 , W =  [[1.0000001]] , b =  [0.99999965]\n",
            "step =  4400 , loss value =  1.4512703154342941e-15 , W =  [[1.00000002]] , b =  [0.99999991]\n",
            "step =  4800 , loss value =  9.259962773900011e-17 , W =  [[1.00000001]] , b =  [0.99999998]\n",
            "step =  5200 , loss value =  5.90840368365256e-18 , W =  [[1.]] , b =  [0.99999999]\n",
            "step =  5600 , loss value =  3.769913443026588e-19 , W =  [[1.]] , b =  [1.]\n",
            "step =  6000 , loss value =  2.40543078643063e-20 , W =  [[1.]] , b =  [1.]\n",
            "step =  6400 , loss value =  1.5348185029551592e-21 , W =  [[1.]] , b =  [1.]\n",
            "step =  6800 , loss value =  9.793072363760907e-23 , W =  [[1.]] , b =  [1.]\n",
            "step =  7200 , loss value =  6.250686909368725e-24 , W =  [[1.]] , b =  [1.]\n",
            "step =  7600 , loss value =  3.9970386943277257e-25 , W =  [[1.]] , b =  [1.]\n",
            "step =  8000 , loss value =  2.5663183525604696e-26 , W =  [[1.]] , b =  [1.]\n"
          ],
          "name": "stdout"
        }
      ]
    },
    {
      "cell_type": "code",
      "metadata": {
        "id": "hoMpTPeRM-nH",
        "outputId": "3ecde5af-5a4e-42f3-9059-42bc530dc6c7",
        "colab": {
          "base_uri": "https://localhost:8080/"
        }
      },
      "source": [
        "test_data = np.array([43])\r\n",
        "predict(test_data)"
      ],
      "execution_count": 10,
      "outputs": [
        {
          "output_type": "execute_result",
          "data": {
            "text/plain": [
              "array([44.])"
            ]
          },
          "metadata": {
            "tags": []
          },
          "execution_count": 10
        }
      ]
    },
    {
      "cell_type": "markdown",
      "metadata": {
        "id": "hsit8-DNOdK-"
      },
      "source": [
        "# Example 2"
      ]
    },
    {
      "cell_type": "code",
      "metadata": {
        "id": "ih4n-VafPlxt"
      },
      "source": [
        "import numpy as np"
      ],
      "execution_count": 12,
      "outputs": []
    },
    {
      "cell_type": "code",
      "metadata": {
        "id": "ctSKOHqXP9rW",
        "outputId": "d35cd50b-87f4-46de-ed69-aab9518299e2",
        "colab": {
          "base_uri": "https://localhost:8080/"
        }
      },
      "source": [
        "loaded_data = np.loadtxt('data-01.csv', delimiter=',', dtype=np.float32)\r\n",
        "\r\n",
        "x_data = loaded_data[:, 0:-1]\r\n",
        "t_data = loaded_data[:,[-1]]\r\n",
        "\r\n",
        "print('x_data.ndim = ', x_data.ndim, ', x_data.shape = ', x_data.shape)\r\n",
        "print('t_data.ndim = ', t_data.ndim, ', t_data.shape = ', t_data.shape)"
      ],
      "execution_count": 17,
      "outputs": [
        {
          "output_type": "stream",
          "text": [
            "x_data.ndim =  2 , x_data.shape =  (25, 3)\n",
            "t_data.ndim =  2 , t_data.shape =  (25, 1)\n"
          ],
          "name": "stdout"
        }
      ]
    },
    {
      "cell_type": "code",
      "metadata": {
        "id": "yOdWyZ7XSMpq",
        "outputId": "23d7415b-cdb1-4e4d-debf-d71c31f751bf",
        "colab": {
          "base_uri": "https://localhost:8080/"
        }
      },
      "source": [
        "W = np.random.rand(3,1)\r\n",
        "b = np.random.rand(1)\r\n",
        "print('W = ', W, ', W.shape = ', W.shape, ',b = ', b, ', b.shape = ', b.shape)"
      ],
      "execution_count": 18,
      "outputs": [
        {
          "output_type": "stream",
          "text": [
            "W =  [[0.50765183]\n",
            " [0.09642743]\n",
            " [0.08342387]] , W.shape =  (3, 1) ,b =  [0.79164721] , b.shape =  (1,)\n"
          ],
          "name": "stdout"
        }
      ]
    },
    {
      "cell_type": "code",
      "metadata": {
        "id": "e_uMgr_wTD08"
      },
      "source": [
        "def loss_func(x, t):\r\n",
        "  y = np.dot(x,W) + b\r\n",
        "  return (np.sum((t - y)**2)) / (len(x))\r\n",
        "\r\n",
        "def loss_val(x, t):\r\n",
        "  y = np.dot(x,W) + b\r\n",
        "  return (np.sum((t - y)**2)) / (len(x))\r\n",
        "\r\n",
        "def predict(x):\r\n",
        "  y = np.dot(x,W) + b\r\n",
        "  return y"
      ],
      "execution_count": 19,
      "outputs": []
    },
    {
      "cell_type": "code",
      "metadata": {
        "id": "An-GVeMsUubP",
        "outputId": "e672561e-5cff-4355-c68d-cdef023e0fcb",
        "colab": {
          "base_uri": "https://localhost:8080/"
        }
      },
      "source": [
        "learning_rate = 1e-5\r\n",
        "\r\n",
        "f = lambda x : loss_func(x_data, t_data)\r\n",
        "\r\n",
        "print('initial loss value = ', loss_val(x_data, t_data), ', initial W = ', W, '\\n', ', b = ', b)\r\n",
        "\r\n",
        "for step in range(40001):\r\n",
        "  W -= learning_rate * numerical_derivative(f, W)\r\n",
        "  b -= learning_rate * numerical_derivative(f, b)\r\n",
        "\r\n",
        "  if (step % 400 == 0):\r\n",
        "    print('step = ', step, ', loss value = ', loss_val(x_data, t_data), ', W = ', W, ', b = ', b)"
      ],
      "execution_count": 20,
      "outputs": [
        {
          "output_type": "stream",
          "text": [
            "initial loss value =  11628.795691169276 , initial W =  [[0.50765183]\n",
            " [0.09642743]\n",
            " [0.08342387]] \n",
            " , b =  [0.79164721]\n",
            "step =  0 , loss value =  4310.214154825574 , W =  [[0.67969393]\n",
            " [0.26950493]\n",
            " [0.26081229]] , b =  [0.79294429]\n",
            "step =  400 , loss value =  14.394925043016055 , W =  [[0.88936112]\n",
            " [0.51592728]\n",
            " [0.61323477]] , b =  [0.79482456]\n",
            "step =  800 , loss value =  12.543694245744419 , W =  [[0.83756037]\n",
            " [0.49930831]\n",
            " [0.67982066]] , b =  [0.79460591]\n",
            "step =  1200 , loss value =  11.139996584462319 , W =  [[0.79086079]\n",
            " [0.4871671 ]\n",
            " [0.73707411]] , b =  [0.79431304]\n",
            "step =  1600 , loss value =  10.069179166940126 , W =  [[0.74874883]\n",
            " [0.47860578]\n",
            " [0.78637152]] , b =  [0.79395626]\n",
            "step =  2000 , loss value =  9.24740937676927 , W =  [[0.71076439]\n",
            " [0.47288875]\n",
            " [0.82887875]] , b =  [0.79354435]\n",
            "step =  2400 , loss value =  8.613083539253264 , W =  [[0.67649501]\n",
            " [0.46941476]\n",
            " [0.86558413]] , b =  [0.79308483]\n",
            "step =  2800 , loss value =  8.12069229131067 , W =  [[0.64557068]\n",
            " [0.46769364]\n",
            " [0.89732617]] , b =  [0.79258412]\n",
            "step =  3200 , loss value =  7.736428130582952 , W =  [[0.61765931]\n",
            " [0.46732694]\n",
            " [0.9248169 ]] , b =  [0.79204775]\n",
            "step =  3600 , loss value =  7.435030717219558 , W =  [[0.59246267]\n",
            " [0.46799185]\n",
            " [0.94866158]] , b =  [0.79148043]\n",
            "step =  4000 , loss value =  7.197513397679992 , W =  [[0.56971278]\n",
            " [0.46942789]\n",
            " [0.96937512]] , b =  [0.79088623]\n",
            "step =  4400 , loss value =  7.009518607613969 , W =  [[0.54916876]\n",
            " [0.47142581]\n",
            " [0.98739609]] , b =  [0.79026865]\n",
            "step =  4800 , loss value =  6.860123271621363 , W =  [[0.53061394]\n",
            " [0.47381839]\n",
            " [1.0030984 ]] , b =  [0.78963071]\n",
            "step =  5200 , loss value =  6.740967165491427 , W =  [[0.5138534 ]\n",
            " [0.47647285]\n",
            " [1.01680122]] , b =  [0.78897499]\n",
            "step =  5600 , loss value =  6.64561384251482 , W =  [[0.49871169]\n",
            " [0.47928459]\n",
            " [1.02877728]] , b =  [0.78830375]\n",
            "step =  6000 , loss value =  6.569079647134823 , W =  [[0.48503081]\n",
            " [0.4821719 ]\n",
            " [1.03925991]] , b =  [0.78761893]\n",
            "step =  6400 , loss value =  6.507484707958813 , W =  [[0.47266846]\n",
            " [0.48507176]\n",
            " [1.04844901]] , b =  [0.78692222]\n",
            "step =  6800 , loss value =  6.457792841389785 , W =  [[0.46149642]\n",
            " [0.4879362 ]\n",
            " [1.05651603]] , b =  [0.78621507]\n",
            "step =  7200 , loss value =  6.417616571539145 , W =  [[0.45139912]\n",
            " [0.49072946]\n",
            " [1.06360822]] , b =  [0.78549877]\n",
            "step =  7600 , loss value =  6.385070083491279 , W =  [[0.44227235]\n",
            " [0.49342556]\n",
            " [1.06985223]] , b =  [0.78477441]\n",
            "step =  8000 , loss value =  6.358657652033667 , W =  [[0.43402217]\n",
            " [0.4960063 ]\n",
            " [1.07535714]] , b =  [0.78404296]\n",
            "step =  8400 , loss value =  6.337188474473746 , W =  [[0.4265638 ]\n",
            " [0.49845971]\n",
            " [1.08021701]] , b =  [0.78330526]\n",
            "step =  8800 , loss value =  6.31971127107256 , W =  [[0.41982079]\n",
            " [0.50077869]\n",
            " [1.08451309]] , b =  [0.78256206]\n",
            "step =  9200 , loss value =  6.305463773511589 , W =  [[0.41372412]\n",
            " [0.50295994]\n",
            " [1.08831568]] , b =  [0.78181399]\n",
            "step =  9600 , loss value =  6.293833494419787 , W =  [[0.4082115 ]\n",
            " [0.50500309]\n",
            " [1.09168564]] , b =  [0.78106162]\n",
            "step =  10000 , loss value =  6.284327096734846 , W =  [[0.40322671]\n",
            " [0.50691001]\n",
            " [1.09467581]] , b =  [0.78030545]\n",
            "step =  10400 , loss value =  6.276546358212729 , W =  [[0.39871897]\n",
            " [0.50868423]\n",
            " [1.09733206]] , b =  [0.77954592]\n",
            "step =  10800 , loss value =  6.2701692232676 , W =  [[0.39464243]\n",
            " [0.51033047]\n",
            " [1.09969435]] , b =  [0.77878341]\n",
            "step =  11200 , loss value =  6.264934801164697 , W =  [[0.39095569]\n",
            " [0.51185429]\n",
            " [1.10179747]] , b =  [0.77801826]\n",
            "step =  11600 , loss value =  6.260631441933821 , W =  [[0.38762132]\n",
            " [0.51326181]\n",
            " [1.10367182]] , b =  [0.77725077]\n",
            "step =  12000 , loss value =  6.257087224732644 , W =  [[0.38460554]\n",
            " [0.51455945]\n",
            " [1.10534393]] , b =  [0.77648122]\n",
            "step =  12400 , loss value =  6.25416234614067 , W =  [[0.38187781]\n",
            " [0.51575379]\n",
            " [1.10683707]] , b =  [0.77570982]\n",
            "step =  12800 , loss value =  6.251743011299514 , W =  [[0.37941053]\n",
            " [0.51685142]\n",
            " [1.10817162]] , b =  [0.7749368]\n",
            "step =  13200 , loss value =  6.249736518577435 , W =  [[0.37717878]\n",
            " [0.5178588 ]\n",
            " [1.10936547]] , b =  [0.77416233]\n",
            "step =  13600 , loss value =  6.248067295563693 , W =  [[0.37516   ]\n",
            " [0.51878226]\n",
            " [1.11043437]] , b =  [0.77338659]\n",
            "step =  14000 , loss value =  6.246673695846011 , W =  [[0.37333383]\n",
            " [0.51962787]\n",
            " [1.11139217]] , b =  [0.77260971]\n",
            "step =  14400 , loss value =  6.245505405989165 , W =  [[0.37168186]\n",
            " [0.52040144]\n",
            " [1.11225108]] , b =  [0.77183183]\n",
            "step =  14800 , loss value =  6.244521343229632 , W =  [[0.37018742]\n",
            " [0.5211085 ]\n",
            " [1.1130219 ]] , b =  [0.77105306]\n",
            "step =  15200 , loss value =  6.243687948721213 , W =  [[0.36883548]\n",
            " [0.52175425]\n",
            " [1.11371415]] , b =  [0.77027351]\n",
            "step =  15600 , loss value =  6.242977800280838 , W =  [[0.36761242]\n",
            " [0.52234358]\n",
            " [1.11433629]] , b =  [0.76949327]\n",
            "step =  16000 , loss value =  6.242368483675233 , W =  [[0.36650593]\n",
            " [0.52288109]\n",
            " [1.11489578]] , b =  [0.76871242]\n",
            "step =  16400 , loss value =  6.241841673452235 , W =  [[0.36550489]\n",
            " [0.52337105]\n",
            " [1.11539927]] , b =  [0.76793104]\n",
            "step =  16800 , loss value =  6.241382383843271 , W =  [[0.36459924]\n",
            " [0.52381743]\n",
            " [1.11585265]] , b =  [0.76714919]\n",
            "step =  17200 , loss value =  6.240978357865274 , W =  [[0.36377987]\n",
            " [0.52422392]\n",
            " [1.11626116]] , b =  [0.76636693]\n",
            "step =  17600 , loss value =  6.240619568842545 , W =  [[0.36303855]\n",
            " [0.52459392]\n",
            " [1.11662946]] , b =  [0.76558431]\n",
            "step =  18000 , loss value =  6.240297813460522 , W =  [[0.36236785]\n",
            " [0.5249306 ]\n",
            " [1.11696172]] , b =  [0.76480139]\n",
            "step =  18400 , loss value =  6.240006379403776 , W =  [[0.36176102]\n",
            " [0.52523684]\n",
            " [1.11726164]] , b =  [0.7640182]\n",
            "step =  18800 , loss value =  6.2397397738101485 , W =  [[0.36121199]\n",
            " [0.52551532]\n",
            " [1.11753253]] , b =  [0.76323478]\n",
            "step =  19200 , loss value =  6.239493501342812 , W =  [[0.36071523]\n",
            " [0.52576849]\n",
            " [1.11777734]] , b =  [0.76245117]\n",
            "step =  19600 , loss value =  6.239263882766103 , W =  [[0.36026577]\n",
            " [0.5259986 ]\n",
            " [1.11799873]] , b =  [0.76166739]\n",
            "step =  20000 , loss value =  6.239047906597956 , W =  [[0.3598591 ]\n",
            " [0.52620771]\n",
            " [1.11819905]] , b =  [0.76088349]\n",
            "step =  20400 , loss value =  6.238843107784652 , W =  [[0.35949115]\n",
            " [0.52639771]\n",
            " [1.11838042]] , b =  [0.76009947]\n",
            "step =  20800 , loss value =  6.238647468459166 , W =  [[0.35915822]\n",
            " [0.52657032]\n",
            " [1.11854474]] , b =  [0.75931537]\n",
            "step =  21200 , loss value =  6.238459336751192 , W =  [[0.35885698]\n",
            " [0.52672712]\n",
            " [1.11869371]] , b =  [0.7585312]\n",
            "step =  21600 , loss value =  6.238277360357335 , W =  [[0.35858442]\n",
            " [0.52686955]\n",
            " [1.11882887]] , b =  [0.75774698]\n",
            "step =  22000 , loss value =  6.238100432182189 , W =  [[0.3583378 ]\n",
            " [0.52699892]\n",
            " [1.11895157]] , b =  [0.75696273]\n",
            "step =  22400 , loss value =  6.237927645852796 , W =  [[0.35811465]\n",
            " [0.52711642]\n",
            " [1.11906306]] , b =  [0.75617847]\n",
            "step =  22800 , loss value =  6.237758259310487 , W =  [[0.35791273]\n",
            " [0.52722316]\n",
            " [1.11916443]] , b =  [0.7553942]\n",
            "step =  23200 , loss value =  6.2375916650110685 , W =  [[0.35773003]\n",
            " [0.52732011]\n",
            " [1.11925669]] , b =  [0.75460994]\n",
            "step =  23600 , loss value =  6.237427365533095 , W =  [[0.35756472]\n",
            " [0.52740819]\n",
            " [1.11934072]] , b =  [0.7538257]\n",
            "step =  24000 , loss value =  6.237264953611173 , W =  [[0.35741513]\n",
            " [0.52748822]\n",
            " [1.11941734]] , b =  [0.75304149]\n",
            "step =  24400 , loss value =  6.2371040957912065 , W =  [[0.35727978]\n",
            " [0.52756094]\n",
            " [1.11948726]] , b =  [0.75225732]\n",
            "step =  24800 , loss value =  6.236944519049984 , W =  [[0.35715731]\n",
            " [0.52762703]\n",
            " [1.11955114]] , b =  [0.75147319]\n",
            "step =  25200 , loss value =  6.23678599984109 , W =  [[0.35704649]\n",
            " [0.52768711]\n",
            " [1.11960958]] , b =  [0.75068912]\n",
            "step =  25600 , loss value =  6.2366283551270945 , W =  [[0.35694621]\n",
            " [0.52774175]\n",
            " [1.11966308]] , b =  [0.7499051]\n",
            "step =  26000 , loss value =  6.23647143503748 , W =  [[0.35685548]\n",
            " [0.52779144]\n",
            " [1.11971215]] , b =  [0.74912115]\n",
            "step =  26400 , loss value =  6.236315116857497 , W =  [[0.35677337]\n",
            " [0.52783665]\n",
            " [1.1197572 ]] , b =  [0.74833728]\n",
            "step =  26800 , loss value =  6.236159300106826 , W =  [[0.35669908]\n",
            " [0.52787781]\n",
            " [1.11979862]] , b =  [0.74755348]\n",
            "step =  27200 , loss value =  6.236003902510211 , W =  [[0.35663185]\n",
            " [0.52791528]\n",
            " [1.11983677]] , b =  [0.74676976]\n",
            "step =  27600 , loss value =  6.235848856698249 , W =  [[0.35657102]\n",
            " [0.52794943]\n",
            " [1.11987196]] , b =  [0.74598612]\n",
            "step =  28000 , loss value =  6.235694107506302 , W =  [[0.35651598]\n",
            " [0.52798055]\n",
            " [1.11990447]] , b =  [0.74520257]\n",
            "step =  28400 , loss value =  6.23553960976295 , W =  [[0.35646617]\n",
            " [0.52800894]\n",
            " [1.11993457]] , b =  [0.74441911]\n",
            "step =  28800 , loss value =  6.235385326478973 , W =  [[0.3564211 ]\n",
            " [0.52803486]\n",
            " [1.11996248]] , b =  [0.74363574]\n",
            "step =  29200 , loss value =  6.2352312273649 , W =  [[0.35638031]\n",
            " [0.52805852]\n",
            " [1.11998842]] , b =  [0.74285248]\n",
            "step =  29600 , loss value =  6.2350772876168685 , W =  [[0.35634341]\n",
            " [0.52808016]\n",
            " [1.12001258]] , b =  [0.74206931]\n",
            "step =  30000 , loss value =  6.234923486922607 , W =  [[0.35631001]\n",
            " [0.52809995]\n",
            " [1.12003512]] , b =  [0.74128624]\n",
            "step =  30400 , loss value =  6.234769808647813 , W =  [[0.35627979]\n",
            " [0.52811808]\n",
            " [1.1200562 ]] , b =  [0.74050327]\n",
            "step =  30800 , loss value =  6.234616239169396 , W =  [[0.35625245]\n",
            " [0.5281347 ]\n",
            " [1.12007597]] , b =  [0.7397204]\n",
            "step =  31200 , loss value =  6.234462767330079 , W =  [[0.3562277 ]\n",
            " [0.52814994]\n",
            " [1.12009454]] , b =  [0.73893765]\n",
            "step =  31600 , loss value =  6.234309383991473 , W =  [[0.35620531]\n",
            " [0.52816396]\n",
            " [1.12011203]] , b =  [0.738155]\n",
            "step =  32000 , loss value =  6.234156081668427 , W =  [[0.35618505]\n",
            " [0.52817685]\n",
            " [1.12012855]] , b =  [0.73737246]\n",
            "step =  32400 , loss value =  6.234002854229269 , W =  [[0.35616671]\n",
            " [0.52818872]\n",
            " [1.12014419]] , b =  [0.73659002]\n",
            "step =  32800 , loss value =  6.2338496966508385 , W =  [[0.35615012]\n",
            " [0.52819968]\n",
            " [1.12015902]] , b =  [0.7358077]\n",
            "step =  33200 , loss value =  6.233696604817348 , W =  [[0.35613511]\n",
            " [0.52820981]\n",
            " [1.12017314]] , b =  [0.73502549]\n",
            "step =  33600 , loss value =  6.233543575356141 , W =  [[0.35612152]\n",
            " [0.52821918]\n",
            " [1.1201866 ]] , b =  [0.73424339]\n",
            "step =  34000 , loss value =  6.233390605503051 , W =  [[0.35610923]\n",
            " [0.52822787]\n",
            " [1.12019948]] , b =  [0.73346141]\n",
            "step =  34400 , loss value =  6.2332376929920805 , W =  [[0.3560981 ]\n",
            " [0.52823594]\n",
            " [1.12021182]] , b =  [0.73267954]\n",
            "step =  34800 , loss value =  6.2330848359651485 , W =  [[0.35608803]\n",
            " [0.52824346]\n",
            " [1.12022367]] , b =  [0.73189779]\n",
            "step =  35200 , loss value =  6.23293203289825 , W =  [[0.35607892]\n",
            " [0.52825047]\n",
            " [1.12023509]] , b =  [0.73111614]\n",
            "step =  35600 , loss value =  6.232779282540833 , W =  [[0.35607067]\n",
            " [0.52825702]\n",
            " [1.12024611]] , b =  [0.73033462]\n",
            "step =  36000 , loss value =  6.232626583866352 , W =  [[0.35606321]\n",
            " [0.52826316]\n",
            " [1.12025678]] , b =  [0.72955321]\n",
            "step =  36400 , loss value =  6.2324739360316 , W =  [[0.35605646]\n",
            " [0.52826892]\n",
            " [1.12026712]] , b =  [0.72877192]\n",
            "step =  36800 , loss value =  6.232321338343477 , W =  [[0.35605034]\n",
            " [0.52827434]\n",
            " [1.12027716]] , b =  [0.72799074]\n",
            "step =  37200 , loss value =  6.232168790231913 , W =  [[0.35604481]\n",
            " [0.52827946]\n",
            " [1.12028694]] , b =  [0.72720969]\n",
            "step =  37600 , loss value =  6.232016291227422 , W =  [[0.35603981]\n",
            " [0.52828429]\n",
            " [1.12029649]] , b =  [0.72642874]\n",
            "step =  38000 , loss value =  6.231863840943072 , W =  [[0.35603528]\n",
            " [0.52828888]\n",
            " [1.12030581]] , b =  [0.72564792]\n",
            "step =  38400 , loss value =  6.231711439059281 , W =  [[0.35603117]\n",
            " [0.52829324]\n",
            " [1.12031494]] , b =  [0.72486722]\n",
            "step =  38800 , loss value =  6.231559085311825 , W =  [[0.35602746]\n",
            " [0.52829739]\n",
            " [1.12032389]] , b =  [0.72408663]\n",
            "step =  39200 , loss value =  6.231406779481681 , W =  [[0.3560241 ]\n",
            " [0.52830135]\n",
            " [1.12033267]] , b =  [0.72330616]\n",
            "step =  39600 , loss value =  6.231254521386926 , W =  [[0.35602106]\n",
            " [0.52830515]\n",
            " [1.12034131]] , b =  [0.72252581]\n",
            "step =  40000 , loss value =  6.231102310875965 , W =  [[0.35601831]\n",
            " [0.52830879]\n",
            " [1.12034982]] , b =  [0.72174558]\n"
          ],
          "name": "stdout"
        }
      ]
    },
    {
      "cell_type": "code",
      "metadata": {
        "id": "qaV_wJ8zWRRa",
        "outputId": "bbecae79-5d17-4fbd-b428-84a511282a1d",
        "colab": {
          "base_uri": "https://localhost:8080/"
        }
      },
      "source": [
        "test_data = np.array([100, 98, 81])\r\n",
        "predict(test_data)"
      ],
      "execution_count": 21,
      "outputs": [
        {
          "output_type": "execute_result",
          "data": {
            "text/plain": [
              "array([178.84617432])"
            ]
          },
          "metadata": {
            "tags": []
          },
          "execution_count": 21
        }
      ]
    }
  ]
}