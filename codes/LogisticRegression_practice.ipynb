{
  "nbformat": 4,
  "nbformat_minor": 0,
  "metadata": {
    "colab": {
      "name": "LogisticRegression_practice.ipynb",
      "provenance": [],
      "authorship_tag": "ABX9TyNJ+8qhzJAVjpcwLXbiN4xc",
      "include_colab_link": true
    },
    "kernelspec": {
      "name": "python3",
      "display_name": "Python 3"
    }
  },
  "cells": [
    {
      "cell_type": "markdown",
      "metadata": {
        "id": "view-in-github",
        "colab_type": "text"
      },
      "source": [
        "<a href=\"https://colab.research.google.com/github/Temple2001/ML_practice/blob/main/codes/LogisticRegression_practice.ipynb\" target=\"_parent\"><img src=\"https://colab.research.google.com/assets/colab-badge.svg\" alt=\"Open In Colab\"/></a>"
      ]
    },
    {
      "cell_type": "markdown",
      "metadata": {
        "id": "OzS0NIHZi3ms"
      },
      "source": [
        "#Example 1"
      ]
    },
    {
      "cell_type": "code",
      "metadata": {
        "id": "Uyr1Ah3-icY4"
      },
      "source": [
        "import numpy as np\r\n",
        "from datetime import datetime\r\n",
        "\r\n",
        "np.random.seed(0)\r\n",
        "\r\n",
        "def numerical_derivative(f, x):\r\n",
        "    delta_x = 1e-4 # 0.0001\r\n",
        "    grad = np.zeros_like(x)\r\n",
        "    \r\n",
        "    it = np.nditer(x, flags=['multi_index'], op_flags=['readwrite'])\r\n",
        "    \r\n",
        "    while not it.finished:\r\n",
        "        idx = it.multi_index        \r\n",
        "        tmp_val = x[idx]\r\n",
        "        x[idx] = float(tmp_val) + delta_x\r\n",
        "        fx1 = f(x) # f(x+delta_x)\r\n",
        "        \r\n",
        "        x[idx] = float(tmp_val) - delta_x \r\n",
        "        fx2 = f(x) # f(x-delta_x)\r\n",
        "        grad[idx] = (fx1 - fx2) / (2*delta_x)\r\n",
        "        \r\n",
        "        x[idx] = tmp_val \r\n",
        "        it.iternext()   \r\n",
        "        \r\n",
        "    return grad"
      ],
      "execution_count": 1,
      "outputs": []
    },
    {
      "cell_type": "code",
      "metadata": {
        "id": "lIUeQ-3tjYKm"
      },
      "source": [
        "def sigmoid(z):\r\n",
        "    return 1 / (1+np.exp(-z))"
      ],
      "execution_count": 2,
      "outputs": []
    },
    {
      "cell_type": "code",
      "metadata": {
        "colab": {
          "base_uri": "https://localhost:8080/"
        },
        "id": "DDwx2854jtni",
        "outputId": "975708bf-2d06-4858-ea96-717211168fe2"
      },
      "source": [
        "x_data = np.array([2,4,6,8,10,12,14,16,18,20]).reshape(10,1)\r\n",
        "t_data = np.array([0,0,0,0,0,0,1,1,1,1]).reshape(10,1)\r\n",
        "\r\n",
        "print('x_data.shape = ', x_data.shape, ', t_data.shape = ', t_data.shape)"
      ],
      "execution_count": 3,
      "outputs": [
        {
          "output_type": "stream",
          "text": [
            "x_data.shape =  (10, 1) , t_data.shape =  (10, 1)\n"
          ],
          "name": "stdout"
        }
      ]
    },
    {
      "cell_type": "code",
      "metadata": {
        "colab": {
          "base_uri": "https://localhost:8080/"
        },
        "id": "ejyHXWETkB8D",
        "outputId": "c35426aa-929b-420f-c637-c4d8453a6c32"
      },
      "source": [
        "W = np.random.rand(1,1)\r\n",
        "b = np.random.rand(1)\r\n",
        "\r\n",
        "print('W = ', W, ', W.shape = ', W.shape, ', b = ', b, ', b.shape = ', b.shape)"
      ],
      "execution_count": 6,
      "outputs": [
        {
          "output_type": "stream",
          "text": [
            "W =  [[0.60276338]] , W.shape =  (1, 1) , b =  [0.54488318] , b.shape =  (1,)\n"
          ],
          "name": "stdout"
        }
      ]
    },
    {
      "cell_type": "code",
      "metadata": {
        "id": "g-dmU8mbkbdj"
      },
      "source": [
        "def loss_func(x, t):\r\n",
        "    delta = 1e-7\r\n",
        "\r\n",
        "    z = np.dot(x, W) + b\r\n",
        "    y = sigmoid(z)\r\n",
        "\r\n",
        "    return -np.sum(t*np.log(y+delta) + (1-t)*np.log((1-y)+delta))\r\n",
        "    # return (np.sum((t-y)**2)) / (len(x)) -> MSB\r\n",
        "\r\n",
        "def error_val(x, t):\r\n",
        "    delta = 1e-7\r\n",
        "\r\n",
        "    z = np.dot(x, W) + b\r\n",
        "    y = sigmoid(z)\r\n",
        "\r\n",
        "    return -np.sum(t*np.log(y+delta) + (1-t)*np.log((1-y)+delta))\r\n",
        "    # return (np.sum((t-y)**2)) / (len(x)) -> MSB\r\n",
        "\r\n",
        "def predict(test_data):\r\n",
        "    z = np.dot(test_data, W) + b\r\n",
        "    y = sigmoid(z)\r\n",
        "\r\n",
        "    if y >= 0.5:\r\n",
        "        result = 1\r\n",
        "    else:\r\n",
        "        result = 0\r\n",
        "  \r\n",
        "    return y, result"
      ],
      "execution_count": 7,
      "outputs": []
    },
    {
      "cell_type": "code",
      "metadata": {
        "colab": {
          "base_uri": "https://localhost:8080/"
        },
        "id": "zyLlCFCVnsxj",
        "outputId": "7080cc81-6dee-4b47-f37e-72ec4f6b1274"
      },
      "source": [
        "learning_rate = 1e-2\r\n",
        "\r\n",
        "f = lambda x : loss_func(x_data, t_data)\r\n",
        "\r\n",
        "print('initial error value = ', error_val(x_data, t_data))\r\n",
        "\r\n",
        "start_time = datetime.now()\r\n",
        "\r\n",
        "for step in range(100001):\r\n",
        "    W -= learning_rate * numerical_derivative(f, W)\r\n",
        "    b -= learning_rate * numerical_derivative(f, b)\r\n",
        "\r\n",
        "    if (step % 5000 == 0):\r\n",
        "        print('step = ', step, ', error value = ', error_val(x_data, t_data))\r\n",
        "\r\n",
        "end_time = datetime.now()\r\n",
        "\r\n",
        "print('')\r\n",
        "print('Elapsed time => ', end_time - start_time)"
      ],
      "execution_count": 13,
      "outputs": [
        {
          "output_type": "stream",
          "text": [
            "initial error value =  28.818019848960184\n",
            "step =  0 , error value =  12.07702817749831\n",
            "step =  5000 , error value =  0.8455208271480559\n",
            "step =  10000 , error value =  0.621105834119665\n",
            "step =  15000 , error value =  0.5095648493166686\n",
            "step =  20000 , error value =  0.43783320654711444\n",
            "step =  25000 , error value =  0.3861872518769276\n",
            "step =  30000 , error value =  0.3465576894276898\n",
            "step =  35000 , error value =  0.314876438732039\n",
            "step =  40000 , error value =  0.28881188707818484\n",
            "step =  45000 , error value =  0.2669061321875256\n",
            "step =  50000 , error value =  0.24818845354840835\n",
            "step =  55000 , error value =  0.23198114208438508\n",
            "step =  60000 , error value =  0.2177932469227318\n",
            "step =  65000 , error value =  0.20525843461807425\n",
            "step =  70000 , error value =  0.1940966633087609\n",
            "step =  75000 , error value =  0.1840894962098742\n",
            "step =  80000 , error value =  0.17506361628901515\n",
            "step =  85000 , error value =  0.16687947747373308\n",
            "step =  90000 , error value =  0.15942328631868707\n",
            "step =  95000 , error value =  0.15260120831021598\n",
            "step =  100000 , error value =  0.14633509900782102\n",
            "\n",
            "Elapsed time =>  0:00:13.145696\n"
          ],
          "name": "stdout"
        }
      ]
    },
    {
      "cell_type": "code",
      "metadata": {
        "colab": {
          "base_uri": "https://localhost:8080/"
        },
        "id": "2abpP9tcpstK",
        "outputId": "0c4489bb-5797-40a3-c3e5-510112778469"
      },
      "source": [
        "test_data = np.array([13.0])\r\n",
        "(real_val, logical_val) = predict(test_data)\r\n",
        "print(real_val, logical_val)"
      ],
      "execution_count": 14,
      "outputs": [
        {
          "output_type": "stream",
          "text": [
            "[0.52082836] 1\n"
          ],
          "name": "stdout"
        }
      ]
    },
    {
      "cell_type": "code",
      "metadata": {
        "colab": {
          "base_uri": "https://localhost:8080/"
        },
        "id": "x6MNxN7ep6PI",
        "outputId": "89c40635-80e6-4419-a66c-52d386a1a35c"
      },
      "source": [
        "test_data = np.array([11.0])\r\n",
        "(real_val, logical_val) = predict(test_data)\r\n",
        "print(real_val, logical_val)"
      ],
      "execution_count": 15,
      "outputs": [
        {
          "output_type": "stream",
          "text": [
            "[0.00611016] 0\n"
          ],
          "name": "stdout"
        }
      ]
    },
    {
      "cell_type": "code",
      "metadata": {
        "colab": {
          "base_uri": "https://localhost:8080/"
        },
        "id": "IAwnZDFMqAo6",
        "outputId": "9d1f53ce-de76-41c5-d7d7-54f5d9cdb67b"
      },
      "source": [
        "test_data = np.array([3.0])\r\n",
        "(real_val, logical_val) = predict(test_data)\r\n",
        "print(real_val, logical_val)"
      ],
      "execution_count": 16,
      "outputs": [
        {
          "output_type": "stream",
          "text": [
            "[6.29156451e-12] 0\n"
          ],
          "name": "stdout"
        }
      ]
    }
  ]
}