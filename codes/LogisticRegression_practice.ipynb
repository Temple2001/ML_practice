{
  "nbformat": 4,
  "nbformat_minor": 0,
  "metadata": {
    "colab": {
      "name": "LogisticRegression_practice.ipynb",
      "provenance": [],
      "authorship_tag": "ABX9TyNTxNLIGfdfYfgDoKLiRAlI",
      "include_colab_link": true
    },
    "kernelspec": {
      "name": "python3",
      "display_name": "Python 3"
    }
  },
  "cells": [
    {
      "cell_type": "markdown",
      "metadata": {
        "id": "view-in-github",
        "colab_type": "text"
      },
      "source": [
        "<a href=\"https://colab.research.google.com/github/Temple2001/ML_practice/blob/main/codes/LogisticRegression_practice.ipynb\" target=\"_parent\"><img src=\"https://colab.research.google.com/assets/colab-badge.svg\" alt=\"Open In Colab\"/></a>"
      ]
    },
    {
      "cell_type": "markdown",
      "metadata": {
        "id": "OzS0NIHZi3ms"
      },
      "source": [
        "#Example 1"
      ]
    },
    {
      "cell_type": "code",
      "metadata": {
        "id": "Uyr1Ah3-icY4"
      },
      "source": [
        "import numpy as np\r\n",
        "from datetime import datetime\r\n",
        "\r\n",
        "np.random.seed(0)\r\n",
        "\r\n",
        "def numerical_derivative(f, x):\r\n",
        "    delta_x = 1e-4 # 0.0001\r\n",
        "    grad = np.zeros_like(x)\r\n",
        "    \r\n",
        "    it = np.nditer(x, flags=['multi_index'], op_flags=['readwrite'])\r\n",
        "    \r\n",
        "    while not it.finished:\r\n",
        "        idx = it.multi_index        \r\n",
        "        tmp_val = x[idx]\r\n",
        "        x[idx] = float(tmp_val) + delta_x\r\n",
        "        fx1 = f(x) # f(x+delta_x)\r\n",
        "        \r\n",
        "        x[idx] = float(tmp_val) - delta_x \r\n",
        "        fx2 = f(x) # f(x-delta_x)\r\n",
        "        grad[idx] = (fx1 - fx2) / (2*delta_x)\r\n",
        "        \r\n",
        "        x[idx] = tmp_val \r\n",
        "        it.iternext()   \r\n",
        "        \r\n",
        "    return grad"
      ],
      "execution_count": 1,
      "outputs": []
    },
    {
      "cell_type": "code",
      "metadata": {
        "id": "lIUeQ-3tjYKm"
      },
      "source": [
        "def sigmoid(z):\r\n",
        "    return 1 / (1+np.exp(-z))"
      ],
      "execution_count": null,
      "outputs": []
    },
    {
      "cell_type": "code",
      "metadata": {
        "colab": {
          "base_uri": "https://localhost:8080/"
        },
        "id": "DDwx2854jtni",
        "outputId": "975708bf-2d06-4858-ea96-717211168fe2"
      },
      "source": [
        "x_data = np.array([2,4,6,8,10,12,14,16,18,20]).reshape(10,1)\r\n",
        "t_data = np.array([0,0,0,0,0,0,1,1,1,1]).reshape(10,1)\r\n",
        "\r\n",
        "print('x_data.shape = ', x_data.shape, ', t_data.shape = ', t_data.shape)"
      ],
      "execution_count": null,
      "outputs": [
        {
          "output_type": "stream",
          "text": [
            "x_data.shape =  (10, 1) , t_data.shape =  (10, 1)\n"
          ],
          "name": "stdout"
        }
      ]
    },
    {
      "cell_type": "code",
      "metadata": {
        "colab": {
          "base_uri": "https://localhost:8080/"
        },
        "id": "ejyHXWETkB8D",
        "outputId": "c35426aa-929b-420f-c637-c4d8453a6c32"
      },
      "source": [
        "W = np.random.rand(1,1)\r\n",
        "b = np.random.rand(1)\r\n",
        "\r\n",
        "print('W = ', W, ', W.shape = ', W.shape, ', b = ', b, ', b.shape = ', b.shape)"
      ],
      "execution_count": null,
      "outputs": [
        {
          "output_type": "stream",
          "text": [
            "W =  [[0.60276338]] , W.shape =  (1, 1) , b =  [0.54488318] , b.shape =  (1,)\n"
          ],
          "name": "stdout"
        }
      ]
    },
    {
      "cell_type": "code",
      "metadata": {
        "id": "g-dmU8mbkbdj"
      },
      "source": [
        "def loss_func(x, t):\r\n",
        "    delta = 1e-7\r\n",
        "\r\n",
        "    z = np.dot(x, W) + b\r\n",
        "    y = sigmoid(z)\r\n",
        "\r\n",
        "    return -np.sum(t*np.log(y+delta) + (1-t)*np.log((1-y)+delta))\r\n",
        "    # return (np.sum((t-y)**2)) / (len(x)) -> MSB\r\n",
        "\r\n",
        "def error_val(x, t):\r\n",
        "    delta = 1e-7\r\n",
        "\r\n",
        "    z = np.dot(x, W) + b\r\n",
        "    y = sigmoid(z)\r\n",
        "\r\n",
        "    return -np.sum(t*np.log(y+delta) + (1-t)*np.log((1-y)+delta))\r\n",
        "    # return (np.sum((t-y)**2)) / (len(x)) -> MSB\r\n",
        "\r\n",
        "def predict(test_data):\r\n",
        "    z = np.dot(test_data, W) + b\r\n",
        "    y = sigmoid(z)\r\n",
        "\r\n",
        "    if y >= 0.5:\r\n",
        "        result = 1\r\n",
        "    else:\r\n",
        "        result = 0\r\n",
        "  \r\n",
        "    return y, result"
      ],
      "execution_count": null,
      "outputs": []
    },
    {
      "cell_type": "code",
      "metadata": {
        "colab": {
          "base_uri": "https://localhost:8080/"
        },
        "id": "zyLlCFCVnsxj",
        "outputId": "7080cc81-6dee-4b47-f37e-72ec4f6b1274"
      },
      "source": [
        "learning_rate = 1e-2\r\n",
        "\r\n",
        "f = lambda x : loss_func(x_data, t_data)\r\n",
        "\r\n",
        "print('initial error value = ', error_val(x_data, t_data))\r\n",
        "\r\n",
        "start_time = datetime.now()\r\n",
        "\r\n",
        "for step in range(100001):\r\n",
        "    W -= learning_rate * numerical_derivative(f, W)\r\n",
        "    b -= learning_rate * numerical_derivative(f, b)\r\n",
        "\r\n",
        "    if (step % 5000 == 0):\r\n",
        "        print('step = ', step, ', error value = ', error_val(x_data, t_data))\r\n",
        "\r\n",
        "end_time = datetime.now()\r\n",
        "\r\n",
        "print('')\r\n",
        "print('Elapsed time => ', end_time - start_time)"
      ],
      "execution_count": null,
      "outputs": [
        {
          "output_type": "stream",
          "text": [
            "initial error value =  28.818019848960184\n",
            "step =  0 , error value =  12.07702817749831\n",
            "step =  5000 , error value =  0.8455208271480559\n",
            "step =  10000 , error value =  0.621105834119665\n",
            "step =  15000 , error value =  0.5095648493166686\n",
            "step =  20000 , error value =  0.43783320654711444\n",
            "step =  25000 , error value =  0.3861872518769276\n",
            "step =  30000 , error value =  0.3465576894276898\n",
            "step =  35000 , error value =  0.314876438732039\n",
            "step =  40000 , error value =  0.28881188707818484\n",
            "step =  45000 , error value =  0.2669061321875256\n",
            "step =  50000 , error value =  0.24818845354840835\n",
            "step =  55000 , error value =  0.23198114208438508\n",
            "step =  60000 , error value =  0.2177932469227318\n",
            "step =  65000 , error value =  0.20525843461807425\n",
            "step =  70000 , error value =  0.1940966633087609\n",
            "step =  75000 , error value =  0.1840894962098742\n",
            "step =  80000 , error value =  0.17506361628901515\n",
            "step =  85000 , error value =  0.16687947747373308\n",
            "step =  90000 , error value =  0.15942328631868707\n",
            "step =  95000 , error value =  0.15260120831021598\n",
            "step =  100000 , error value =  0.14633509900782102\n",
            "\n",
            "Elapsed time =>  0:00:13.145696\n"
          ],
          "name": "stdout"
        }
      ]
    },
    {
      "cell_type": "code",
      "metadata": {
        "colab": {
          "base_uri": "https://localhost:8080/"
        },
        "id": "2abpP9tcpstK",
        "outputId": "0c4489bb-5797-40a3-c3e5-510112778469"
      },
      "source": [
        "test_data = np.array([13.0])\r\n",
        "(real_val, logical_val) = predict(test_data)\r\n",
        "print(real_val, logical_val)"
      ],
      "execution_count": null,
      "outputs": [
        {
          "output_type": "stream",
          "text": [
            "[0.52082836] 1\n"
          ],
          "name": "stdout"
        }
      ]
    },
    {
      "cell_type": "code",
      "metadata": {
        "colab": {
          "base_uri": "https://localhost:8080/"
        },
        "id": "x6MNxN7ep6PI",
        "outputId": "89c40635-80e6-4419-a66c-52d386a1a35c"
      },
      "source": [
        "test_data = np.array([11.0])\r\n",
        "(real_val, logical_val) = predict(test_data)\r\n",
        "print(real_val, logical_val)"
      ],
      "execution_count": null,
      "outputs": [
        {
          "output_type": "stream",
          "text": [
            "[0.00611016] 0\n"
          ],
          "name": "stdout"
        }
      ]
    },
    {
      "cell_type": "code",
      "metadata": {
        "colab": {
          "base_uri": "https://localhost:8080/"
        },
        "id": "IAwnZDFMqAo6",
        "outputId": "9d1f53ce-de76-41c5-d7d7-54f5d9cdb67b"
      },
      "source": [
        "test_data = np.array([3.0])\r\n",
        "(real_val, logical_val) = predict(test_data)\r\n",
        "print(real_val, logical_val)"
      ],
      "execution_count": null,
      "outputs": [
        {
          "output_type": "stream",
          "text": [
            "[6.29156451e-12] 0\n"
          ],
          "name": "stdout"
        }
      ]
    },
    {
      "cell_type": "markdown",
      "metadata": {
        "id": "hGrNMeUh-FOq"
      },
      "source": [
        "#Example 2"
      ]
    },
    {
      "cell_type": "code",
      "metadata": {
        "id": "yObEDDBc-Gwa"
      },
      "source": [
        "def sigmoid(z):\r\n",
        "    return 1 / (1+np.exp(-z))"
      ],
      "execution_count": 2,
      "outputs": []
    },
    {
      "cell_type": "code",
      "metadata": {
        "id": "ffbg6y22Bdqp",
        "outputId": "89b19a3d-64ec-4115-a172-3995327c0a03",
        "colab": {
          "base_uri": "https://localhost:8080/"
        }
      },
      "source": [
        "x_data = [[2,4],[4,11],[6,6],[8,5],[10,7],[12,16],[14,8],[16,3],[18,7]]\r\n",
        "t_data = [0,0,0,0,1,1,1,1,1]\r\n",
        "\r\n",
        "W = np.random.rand(2, 1)\r\n",
        "b = np.random.rand(1)\r\n",
        "\r\n",
        "print('W = ', W, ', W.shape = ', W.shape, ', b = ', b, ', b.shape = ', b.shape)"
      ],
      "execution_count": 3,
      "outputs": [
        {
          "output_type": "stream",
          "text": [
            "W =  [[0.5488135 ]\n",
            " [0.71518937]] , W.shape =  (2, 1) , b =  [0.60276338] , b.shape =  (1,)\n"
          ],
          "name": "stdout"
        }
      ]
    },
    {
      "cell_type": "code",
      "metadata": {
        "id": "sO6ArpqfCeGd"
      },
      "source": [
        "def loss_func(x, t):\r\n",
        "    delta = 1e-7\r\n",
        "\r\n",
        "    z = np.dot(x, W) + b\r\n",
        "    y = sigmoid(z)\r\n",
        "\r\n",
        "    return -np.sum(t*np.log(y+delta) + (1-t)*np.log((1-y)+delta))\r\n",
        "\r\n",
        "def error_val(x, t):\r\n",
        "    delta = 1e-7\r\n",
        "\r\n",
        "    z = np.dot(x, W) + b\r\n",
        "    y = sigmoid(z)\r\n",
        "\r\n",
        "    return -np.sum(t*np.log(y+delta) + (1-t)*np.log((1-y)+delta))\r\n",
        "\r\n",
        "def predict(test_data):\r\n",
        "    z = np.dot(test_data, W) + b\r\n",
        "    y = sigmoid(z)\r\n",
        "\r\n",
        "    if y >= 0.5:\r\n",
        "        result = 1\r\n",
        "    else:\r\n",
        "        result = 0\r\n",
        "\r\n",
        "    return y, result"
      ],
      "execution_count": 4,
      "outputs": []
    },
    {
      "cell_type": "code",
      "metadata": {
        "id": "NwdfUSx7G5XX",
        "outputId": "8a557b5d-5a05-4d7b-cd44-8cc6b32b3045",
        "colab": {
          "base_uri": "https://localhost:8080/"
        }
      },
      "source": [
        "learning_rate = 1e-2\r\n",
        "\r\n",
        "input_xdata = np.array(x_data)\r\n",
        "input_tdata = np.array(t_data).reshape(len(t_data), 1)\r\n",
        "\r\n",
        "f = lambda x : loss_func(input_xdata, input_tdata)\r\n",
        "\r\n",
        "print('initial error value = ', error_val(input_xdata, input_tdata))\r\n",
        "\r\n",
        "start_time = datetime.now()\r\n",
        "\r\n",
        "for step in range(100001):\r\n",
        "    W -= learning_rate * numerical_derivative(f, W)\r\n",
        "    b -= learning_rate * numerical_derivative(f, b)\r\n",
        "\r\n",
        "    if (step % 5000 == 0):\r\n",
        "        print('step = ', step, 'error value = ', error_val(input_xdata, input_tdata))\r\n",
        "\r\n",
        "end_time = datetime.now()\r\n",
        "\r\n",
        "print('')\r\n",
        "print('Elapsed time => ', end_time - start_time)"
      ],
      "execution_count": 6,
      "outputs": [
        {
          "output_type": "stream",
          "text": [
            "initial error value =  31.989985049872136\n",
            "step =  0 error value =  21.155775561285513\n",
            "step =  5000 error value =  0.605372093921429\n",
            "step =  10000 error value =  0.40460865259622114\n",
            "step =  15000 error value =  0.30717188727050876\n",
            "step =  20000 error value =  0.24747210393094068\n",
            "step =  25000 error value =  0.20700760439720442\n",
            "step =  30000 error value =  0.17778892090805623\n",
            "step =  35000 error value =  0.15571997150309752\n",
            "step =  40000 error value =  0.13847565618051416\n",
            "step =  45000 error value =  0.12463783558851207\n",
            "step =  50000 error value =  0.11329289021655331\n",
            "step =  55000 error value =  0.10382607241181756\n",
            "step =  60000 error value =  0.09580877818938051\n",
            "step =  65000 error value =  0.08893319938472193\n",
            "step =  70000 error value =  0.08297265988852254\n",
            "step =  75000 error value =  0.07775659371971212\n",
            "step =  80000 error value =  0.07315423124112233\n",
            "step =  85000 error value =  0.06906365562893353\n",
            "step =  90000 error value =  0.0654042768106031\n",
            "step =  95000 error value =  0.06211154083643828\n",
            "step =  100000 error value =  0.05913313747767598\n",
            "\n",
            "Elapsed time =>  0:00:19.386327\n"
          ],
          "name": "stdout"
        }
      ]
    },
    {
      "cell_type": "code",
      "metadata": {
        "id": "jTwL9dxtJhMd",
        "outputId": "9ff78e50-795e-4450-9f6b-f63e0214228f",
        "colab": {
          "base_uri": "https://localhost:8080/"
        }
      },
      "source": [
        "test_data = np.array([3,17])\r\n",
        "(real_val, logical_val) = predict(test_data)\r\n",
        "print(real_val, logical_val)\r\n",
        "\r\n",
        "test_data = np.array([5,8])\r\n",
        "(real_val, logical_val) = predict(test_data)\r\n",
        "print(real_val, logical_val)\r\n",
        "\r\n",
        "test_data = np.array([7,21])\r\n",
        "(real_val, logical_val) = predict(test_data)\r\n",
        "print(real_val, logical_val)\r\n",
        "\r\n",
        "print('W = ', W, ', b = ', b)"
      ],
      "execution_count": 7,
      "outputs": [
        {
          "output_type": "stream",
          "text": [
            "[0.15441576] 0\n",
            "[0.0007137] 0\n",
            "[0.99999641] 1\n",
            "W =  [[2.40840258]\n",
            " [1.15119589]] , b =  [-28.49591692]\n"
          ],
          "name": "stdout"
        }
      ]
    },
    {
      "cell_type": "markdown",
      "metadata": {
        "id": "HiTPbaYcLKDL"
      },
      "source": [
        "#Example 3"
      ]
    },
    {
      "cell_type": "code",
      "metadata": {
        "id": "ojlFRp4YLL71"
      },
      "source": [
        "import matplotlib.pyplot as plt\r\n",
        "\r\n",
        "def sigmoid(z):\r\n",
        "    return 1 / (1+np.exp(-z))"
      ],
      "execution_count": 8,
      "outputs": []
    },
    {
      "cell_type": "code",
      "metadata": {
        "id": "tjL5H-GyLYfN"
      },
      "source": [
        "class SimpleTest:\r\n",
        "    \r\n",
        "    def __init__(self, xdata, tdata, learning_rate, iteration_count):\r\n",
        "\r\n",
        "        if xdata.ndim == 1:\r\n",
        "            self.xdata = xdata.reshape(len(xdata), 1)\r\n",
        "            self.tdata = tdata.reshape(len(tdata), 1)\r\n",
        "        elif xdata.ndim == 2:\r\n",
        "            self.xdata = xdata\r\n",
        "            self.tdata = tdata\r\n",
        "        \r\n",
        "        self.learning_rate = learning_rate\r\n",
        "        self.iteration_count = iteration_count\r\n",
        "\r\n",
        "        self.W = np.random.rand(xdata.shape[1], 1)\r\n",
        "        self.b = np.random.rand(1)\r\n",
        "\r\n",
        "        self.loss_val_list = []\r\n",
        "\r\n",
        "        print('SimpleTest Object is created')\r\n",
        "    \r\n",
        "    def loss_func(self):\r\n",
        "        delta = 1e-7\r\n",
        "\r\n",
        "        z = np.dot(self.xdata, self.W) + self.b\r\n",
        "        y = sigmoid(z)\r\n",
        "\r\n",
        "        return -np.sum(self.tdata*np.log(y+delta) + (1-self.tdata)*np.log((1-y)+delta))\r\n",
        "\r\n",
        "    def error_val(self):\r\n",
        "        delta = 1e-7\r\n",
        "\r\n",
        "        z = np.dot(self.xdata, self.W) + self.b\r\n",
        "        y = sigmoid(z)\r\n",
        "\r\n",
        "        return -np.sum(self.tdata*np.log(y+delta) + (1-self.tdata)*np.log((1-y)+delta))\r\n",
        "    \r\n",
        "    def predict(self, test_data):\r\n",
        "        z = np.dot(test_data, self.W) + self.b\r\n",
        "        y = sigmoid(z)\r\n",
        "\r\n",
        "        if y >= 0.5:\r\n",
        "            result = 1\r\n",
        "        else:\r\n",
        "            result = 0\r\n",
        "        \r\n",
        "        return y, result\r\n",
        "    \r\n",
        "    def display_lossval_trend(self):\r\n",
        "        plt.title('Loss Value Trend')\r\n",
        "        plt.xlabel('epochs ( X 1000)')\r\n",
        "        plt.ylabel('loss value')\r\n",
        "        plt.grid()\r\n",
        "\r\n",
        "        label_str = 'lr=' + str(self.learning_rate) + ', epoch=' + str(self.iteration_count)\r\n",
        "\r\n",
        "        plt.plot(self.loss_val_list, ls='--', lw=2, color='r', label=label_str)\r\n",
        "        plt.legend(loc='best')\r\n",
        "\r\n",
        "        plt.show()\r\n",
        "    \r\n",
        "    def train(self):\r\n",
        "        f = lambda x : self.loss_func()\r\n",
        "\r\n",
        "        print('initial error value = ', self.error_val())\r\n",
        "\r\n",
        "        start_time = datetime.now()\r\n",
        "\r\n",
        "        for step in range(self.iteration_count):\r\n",
        "            self.W -= self.learning_rate * numerical_derivative(f, self.W)\r\n",
        "            self.b -= self.learning_rate * numerical_derivative(f, self.b)\r\n",
        "\r\n",
        "            if (step % (int)(0.05*self.iteration_count) == 0):\r\n",
        "                current_loss_val = self.error_val()\r\n",
        "                print('step = ', step, ', error value = ', current_loss_val)\r\n",
        "                self.loss_val_list.append(current_loss_val)\r\n",
        "        \r\n",
        "        end_time = datetime.now()\r\n",
        "\r\n",
        "        print('')\r\n",
        "        print('Elapsed time => ', end_time - start_time)"
      ],
      "execution_count": 4,
      "outputs": []
    },
    {
      "cell_type": "code",
      "metadata": {
        "id": "FoDr2kNlOF5p",
        "outputId": "096793e4-bcb4-4cb1-e599-9b977c55a4af",
        "colab": {
          "base_uri": "https://localhost:8080/"
        }
      },
      "source": [
        "x_data = np.array( [ [2, 4], [4, 11], [6, 6], [8, 5], [10, 7], [12, 16], [14, 8], [16, 3], [18, 7] ] )\r\n",
        "t_data = np.array( [0, 0, 0, 0, 1, 1, 1, 1, 1] ).reshape(9, 1)\r\n",
        "\r\n",
        "print(\"x_data.shape = \", x_data.shape, \", t_data.shape = \", t_data.shape)"
      ],
      "execution_count": 5,
      "outputs": [
        {
          "output_type": "stream",
          "text": [
            "x_data.shape =  (9, 2) , t_data.shape =  (9, 1)\n"
          ],
          "name": "stdout"
        }
      ]
    },
    {
      "cell_type": "code",
      "metadata": {
        "id": "4bVEyWwRRhnP",
        "outputId": "d91ddbf8-ba5d-436e-b9a3-c92cac6b2746",
        "colab": {
          "base_uri": "https://localhost:8080/"
        }
      },
      "source": [
        "obj1 = SimpleTest(x_data, t_data, 1e-2, 100001)\r\n",
        "obj1.train()"
      ],
      "execution_count": 6,
      "outputs": [
        {
          "output_type": "stream",
          "text": [
            "SimpleTest Object is created\n",
            "initial error value =  31.987989823677083\n",
            "step =  0 , error value =  21.153788725085356\n",
            "step =  5000 , error value =  0.6053721152075823\n",
            "step =  10000 , error value =  0.40460866102294285\n",
            "step =  15000 , error value =  0.3071718920969315\n",
            "step =  20000 , error value =  0.24747210708063458\n",
            "step =  25000 , error value =  0.2070076066134636\n",
            "step =  30000 , error value =  0.17778892255033538\n",
            "step =  35000 , error value =  0.15571997276750238\n",
            "step =  40000 , error value =  0.13847565718323426\n",
            "step =  45000 , error value =  0.12463783640270983\n",
            "step =  50000 , error value =  0.11329289089055021\n",
            "step =  55000 , error value =  0.1038260729787625\n",
            "step =  60000 , error value =  0.0958087786727894\n",
            "step =  65000 , error value =  0.088933199801698\n",
            "step =  70000 , error value =  0.08297266025182055\n",
            "step =  75000 , error value =  0.07775659403904457\n",
            "step =  80000 , error value =  0.07315423152397402\n",
            "step =  85000 , error value =  0.06906365588119026\n",
            "step =  90000 , error value =  0.0654042770369596\n",
            "step =  95000 , error value =  0.06211154104067818\n",
            "step =  100000 , error value =  0.05913313766289349\n",
            "\n",
            "Elapsed time =>  0:00:20.226219\n"
          ],
          "name": "stdout"
        }
      ]
    },
    {
      "cell_type": "code",
      "metadata": {
        "id": "zwzVwCd1sipZ",
        "outputId": "fddc933a-9dd5-497a-ea49-43d1f9972cb1",
        "colab": {
          "base_uri": "https://localhost:8080/",
          "height": 349
        }
      },
      "source": [
        "test_data = np.array([3,17])\r\n",
        "(real_val, logical_val) = obj1.predict(test_data)\r\n",
        "print(real_val, logical_val)\r\n",
        "\r\n",
        "test_data = np.array([5,8])\r\n",
        "(real_val, logical_val) = obj1.predict(test_data)\r\n",
        "print(real_val, logical_val)\r\n",
        "\r\n",
        "test_data = np.array([7,21])\r\n",
        "(real_val, logical_val) = obj1.predict(test_data)\r\n",
        "print(real_val, logical_val)\r\n",
        "\r\n",
        "obj1.display_lossval_trend()"
      ],
      "execution_count": 9,
      "outputs": [
        {
          "output_type": "stream",
          "text": [
            "[0.15441576] 0\n",
            "[0.0007137] 0\n",
            "[0.99999641] 1\n"
          ],
          "name": "stdout"
        },
        {
          "output_type": "display_data",
          "data": {
            "image/png": "[encoded data removed]",
            "text/plain": [
              "<Figure size 432x288 with 1 Axes>"
            ]
          },
          "metadata": {
            "tags": [],
            "needs_background": "light"
          }
        }
      ]
    }
  ]
}