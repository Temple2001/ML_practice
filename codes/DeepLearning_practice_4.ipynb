{
  "nbformat": 4,
  "nbformat_minor": 0,
  "metadata": {
    "colab": {
      "name": "DeepLearning_practice_4.ipynb",
      "provenance": [],
      "authorship_tag": "ABX9TyNLq+EtOS9d0yjVOFpmkjGN",
      "include_colab_link": true
    },
    "kernelspec": {
      "name": "python3",
      "display_name": "Python 3"
    }
  },
  "cells": [
    {
      "cell_type": "markdown",
      "metadata": {
        "id": "view-in-github",
        "colab_type": "text"
      },
      "source": [
        "<a href=\"https://colab.research.google.com/github/Temple2001/ML_practice/blob/main/codes/DeepLearning_practice_4.ipynb\" target=\"_parent\"><img src=\"https://colab.research.google.com/assets/colab-badge.svg\" alt=\"Open In Colab\"/></a>"
      ]
    },
    {
      "cell_type": "markdown",
      "metadata": {
        "id": "8kFPv-BQZvB8"
      },
      "source": [
        "# Example 7\r\n",
        "**DataGeneration class를 이용한 Wine 구현**"
      ]
    },
    {
      "cell_type": "code",
      "metadata": {
        "id": "GHzy57fMZouB"
      },
      "source": [
        "import numpy as np\r\n",
        "import matplotlib.pyplot as plt\r\n",
        "from datetime import datetime\r\n",
        "\r\n",
        "np.random.seed(0)\r\n",
        "\r\n",
        "def numerical_derivative(f, x):\r\n",
        "    delta_x = 1e-4 # 0.0001\r\n",
        "    grad = np.zeros_like(x)\r\n",
        "    \r\n",
        "    it = np.nditer(x, flags=['multi_index'], op_flags=['readwrite'])\r\n",
        "    \r\n",
        "    while not it.finished:\r\n",
        "        idx = it.multi_index        \r\n",
        "        tmp_val = x[idx]\r\n",
        "        x[idx] = float(tmp_val) + delta_x\r\n",
        "        fx1 = f(x) # f(x+delta_x)\r\n",
        "        \r\n",
        "        x[idx] = float(tmp_val) - delta_x \r\n",
        "        fx2 = f(x) # f(x-delta_x)\r\n",
        "        grad[idx] = (fx1 - fx2) / (2*delta_x)\r\n",
        "        \r\n",
        "        x[idx] = tmp_val \r\n",
        "        it.iternext()   \r\n",
        "        \r\n",
        "    return grad\r\n",
        "\r\n",
        "def sigmoid(x):\r\n",
        "    return 1 / (1+np.exp(-x))"
      ],
      "execution_count": 1,
      "outputs": []
    },
    {
      "cell_type": "code",
      "metadata": {
        "id": "fAuXoj0WafMD"
      },
      "source": [
        "class Wine:\r\n",
        "\r\n",
        "    def __init__(self, name, input_nodes, hidden_nodes, output_nodes, learning_rate):\r\n",
        "        self.name = name\r\n",
        "\r\n",
        "        self.W2 = np.random.rand(input_nodes, hidden_nodes)\r\n",
        "        self.b2 = np.random.rand(hidden_nodes)\r\n",
        "\r\n",
        "        self.W3 = np.random.rand(hidden_nodes, output_nodes)\r\n",
        "        self.b3 = np.random.rand(output_nodes)\r\n",
        "\r\n",
        "        self.learning_rate = learning_rate\r\n",
        "\r\n",
        "        print(self.name, ' is created !!!')\r\n",
        "    \r\n",
        "    def feed_forward(self):\r\n",
        "        delta = 1e-7\r\n",
        "\r\n",
        "        z2 = np.dot(self.input_data, self.W2) + self.b2\r\n",
        "        a2 = sigmoid(z2)\r\n",
        "\r\n",
        "        z3 = np.dot(a2, self.W3) + self.b3\r\n",
        "        y = a3 = sigmoid(z3)\r\n",
        "\r\n",
        "        return -np.sum(self.target_data*np.log(y+delta)+(1-self.target_data)*np.log((1-y)+delta))\r\n",
        "    \r\n",
        "    def loss_val(self):\r\n",
        "        delta = 1e-7\r\n",
        "\r\n",
        "        z2 = np.dot(self.input_data, self.W2) + self.b2\r\n",
        "        a2 = sigmoid(z2)\r\n",
        "\r\n",
        "        z3 = np.dot(a2, self.W3) + self.b3\r\n",
        "        y = a3 = sigmoid(z3)\r\n",
        "\r\n",
        "        return -np.sum(self.target_data*np.log(y+delta)+(1-self.target_data)*np.log((1-y)+delta))\r\n",
        "    \r\n",
        "    def predict(self, input_data):\r\n",
        "        z2 = np.dot(self.input_data, self.W2) + self.b2\r\n",
        "        a2 = sigmoid(z2)\r\n",
        "\r\n",
        "        z3 = np.dot(a2, self.W3) + self.b3\r\n",
        "        y = a3 = sigmoid(z3)\r\n",
        "\r\n",
        "        if y >= 0.5:\r\n",
        "            result = 1\r\n",
        "        else:\r\n",
        "            result = 0\r\n",
        "        \r\n",
        "        return y, result\r\n",
        "    \r\n",
        "    def accuracy(self, input_data, target_data):\r\n",
        "        matched_list = []\r\n",
        "        not_matched_list = []\r\n",
        "\r\n",
        "        for index in range(len(input_data)):\r\n",
        "            (real_val, logical_val) = self.predict(input_data[index])\r\n",
        "\r\n",
        "            if logical_val == target_data[index]:\r\n",
        "                matched_list.append(index)\r\n",
        "            else:\r\n",
        "                not_matched_list.append(index)\r\n",
        "            \r\n",
        "        accuracy_val = len(matched_list) / len(input_data)\r\n",
        "\r\n",
        "        return accuracy_val\r\n",
        "    \r\n",
        "    def train(self, input_data, target_data):\r\n",
        "        self.input_data = input_data\r\n",
        "        self.target_data = target_data\r\n",
        "\r\n",
        "        f = lambda x : self.feed_forward()\r\n",
        "\r\n",
        "        self.W2 -= self.learning_rate * numerical_derivative(f, self.W2)\r\n",
        "        \r\n",
        "        self.b2 -= self.learning_rate * numerical_derivative(f, self.b2)\r\n",
        "\r\n",
        "        self.W3 -= self.learning_rate * numerical_derivative(f, self.W3)\r\n",
        "\r\n",
        "        self.b3 -= self.learning_rate * numerical_derivative(f, self.b3)"
      ],
      "execution_count": 2,
      "outputs": []
    },
    {
      "cell_type": "code",
      "metadata": {
        "id": "NQg_GDPGfGkI"
      },
      "source": [
        "class DataGeneration:\r\n",
        "\r\n",
        "    def __init__(self, name, file_path, seperation_rate):\r\n",
        "        self.name = name\r\n",
        "        self.file_path = file_path\r\n",
        "        self.seperation_rate = seperation_rate\r\n",
        "\r\n",
        "    def generate(self):\r\n",
        "        try:\r\n",
        "            loaded_data = np.loadtxt(self.file_path, delimiter=',', dtype=np.float32)\r\n",
        "        except Exception as err:\r\n",
        "            print('[DataGeneration::generate()]  ', str(err))\r\n",
        "            raise Exception(str(err))\r\n",
        "        \r\n",
        "        print('[DataGeneration] loaded_data.shape = ', loaded_data.shape)\r\n",
        "\r\n",
        "        total_data_num = len(loaded_data)\r\n",
        "        test_data_num = int(len(loaded_data)*self.seperation_rate)\r\n",
        "\r\n",
        "        np.random.shuffle(loaded_data)\r\n",
        "\r\n",
        "        test_data = loaded_data[0:test_data_num]\r\n",
        "        training_data = loaded_data[test_data_num:]\r\n",
        "\r\n",
        "        return training_data, test_data"
      ],
      "execution_count": 3,
      "outputs": []
    },
    {
      "cell_type": "code",
      "metadata": {
        "colab": {
          "base_uri": "https://localhost:8080/"
        },
        "id": "DTmODcAvgk33",
        "outputId": "b00bc412-2cd2-4d79-e6c6-754a04b41cbe"
      },
      "source": [
        "seperation_rate = 0.3\r\n",
        "\r\n",
        "data_obj = DataGeneration('Wine', 'wine.csv', seperation_rate)\r\n",
        "\r\n",
        "(training_data, test_data) = data_obj.generate()\r\n",
        "\r\n",
        "print('training_data.shape = ', training_data.shape, ', test_data.shape = ', test_data.shape)"
      ],
      "execution_count": 4,
      "outputs": [
        {
          "output_type": "stream",
          "text": [
            "[DataGeneration] loaded_data.shape =  (6497, 13)\n",
            "training_data.shape =  (4548, 13) , test_data.shape =  (1949, 13)\n"
          ],
          "name": "stdout"
        }
      ]
    },
    {
      "cell_type": "code",
      "metadata": {
        "colab": {
          "base_uri": "https://localhost:8080/"
        },
        "id": "clDxXOilh9MF",
        "outputId": "9a30db5c-b935-4fe3-c093-c68fd6e5785e"
      },
      "source": [
        "i_nodes = training_data.shape[1] - 1\r\n",
        "h_nodes = 5\r\n",
        "o_nodes = 1\r\n",
        "lr = 1e-4\r\n",
        "epochs = 20\r\n",
        "\r\n",
        "loss_val_list = []\r\n",
        "\r\n",
        "obj = Wine('Wine', i_nodes, h_nodes, o_nodes, lr)\r\n",
        "\r\n",
        "print('Neural Network Learning using Numerical Derivative...')\r\n",
        "\r\n",
        "start_time = datetime.now()\r\n",
        "\r\n",
        "for step in range(epochs):\r\n",
        "    for index in range(len(training_data)):\r\n",
        "        input_data = training_data[index, 0:-1]\r\n",
        "        target_data = training_data[index, [-1]]\r\n",
        "\r\n",
        "        obj.train(input_data, target_data)\r\n",
        "    \r\n",
        "    cur_loss_val = obj.loss_val()\r\n",
        "    print('epochs = ', step, ', loss value = ', cur_loss_val)\r\n",
        "    loss_val_list.append(cur_loss_val)\r\n",
        "\r\n",
        "end_time = datetime.now()\r\n",
        "\r\n",
        "print('')\r\n",
        "print('Elapsed time => ', end_time - start_time)"
      ],
      "execution_count": 5,
      "outputs": [
        {
          "output_type": "stream",
          "text": [
            "Wine  is created !!!\n",
            "Neural Network Learning using Numerical Derivative...\n",
            "epochs =  0 , loss value =  2.4006252417349194\n",
            "epochs =  1 , loss value =  1.1528702751754023\n",
            "epochs =  2 , loss value =  0.6385749256994794\n",
            "epochs =  3 , loss value =  0.44982422470911004\n",
            "epochs =  4 , loss value =  0.3693348188931222\n",
            "epochs =  5 , loss value =  0.33000426445956327\n",
            "epochs =  6 , loss value =  0.30907843319397954\n",
            "epochs =  7 , loss value =  0.29736937322756163\n",
            "epochs =  8 , loss value =  0.2906196356456617\n",
            "epochs =  9 , loss value =  0.2866593637858567\n",
            "epochs =  10 , loss value =  0.2843111312785565\n",
            "epochs =  11 , loss value =  0.2829099373951938\n",
            "epochs =  12 , loss value =  0.28207066995651836\n",
            "epochs =  13 , loss value =  0.2815668316418929\n",
            "epochs =  14 , loss value =  0.2812639473474054\n",
            "epochs =  15 , loss value =  0.28108171717275116\n",
            "epochs =  16 , loss value =  0.28097202405974414\n",
            "epochs =  17 , loss value =  0.2809059747582487\n",
            "epochs =  18 , loss value =  0.2808661974608821\n",
            "epochs =  19 , loss value =  0.280842239524761\n",
            "\n",
            "Elapsed time =>  0:06:22.619976\n"
          ],
          "name": "stdout"
        }
      ]
    },
    {
      "cell_type": "code",
      "metadata": {
        "colab": {
          "base_uri": "https://localhost:8080/",
          "height": 299
        },
        "id": "P7sOb8oslwBI",
        "outputId": "48df73e7-9a3d-4cba-e232-a568fa4533ba"
      },
      "source": [
        "plt.title('Loss Value Trend')\r\n",
        "plt.grid()\r\n",
        "plt.plot(loss_val_list)\r\n",
        "\r\n",
        "plt.show"
      ],
      "execution_count": 6,
      "outputs": [
        {
          "output_type": "execute_result",
          "data": {
            "text/plain": [
              "<function matplotlib.pyplot.show>"
            ]
          },
          "metadata": {
            "tags": []
          },
          "execution_count": 6
        },
        {
          "output_type": "display_data",
          "data": {
            "image/png": "[encoded data removed]",
            "text/plain": [
              "<Figure size 432x288 with 1 Axes>"
            ]
          },
          "metadata": {
            "tags": [],
            "needs_background": "light"
          }
        }
      ]
    },
    {
      "cell_type": "code",
      "metadata": {
        "colab": {
          "base_uri": "https://localhost:8080/"
        },
        "id": "Cg1kaPkMl36O",
        "outputId": "d111bd0a-271f-44d2-9e34-030778ad3ebc"
      },
      "source": [
        "test_input_data = test_data[:,0:-1]\r\n",
        "test_target_data = test_data[:,-1]\r\n",
        "\r\n",
        "accuracy_ret = obj.accuracy(test_input_data, test_target_data)\r\n",
        "\r\n",
        "print('Accuracy => ', accuracy_ret)"
      ],
      "execution_count": 7,
      "outputs": [
        {
          "output_type": "stream",
          "text": [
            "Accuracy =>  0.7547460236018471\n"
          ],
          "name": "stdout"
        }
      ]
    }
  ]
}