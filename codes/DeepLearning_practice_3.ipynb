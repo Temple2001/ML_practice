{
  "nbformat": 4,
  "nbformat_minor": 0,
  "metadata": {
    "colab": {
      "name": "DeepLearning_practice_3.ipynb",
      "provenance": [],
      "authorship_tag": "ABX9TyPJbIzoUb6YlVm1KE4miOyf",
      "include_colab_link": true
    },
    "kernelspec": {
      "name": "python3",
      "display_name": "Python 3"
    }
  },
  "cells": [
    {
      "cell_type": "markdown",
      "metadata": {
        "id": "view-in-github",
        "colab_type": "text"
      },
      "source": [
        "<a href=\"https://colab.research.google.com/github/Temple2001/ML_practice/blob/main/codes/DeepLearning_practice_3.ipynb\" target=\"_parent\"><img src=\"https://colab.research.google.com/assets/colab-badge.svg\" alt=\"Open In Colab\"/></a>"
      ]
    },
    {
      "cell_type": "markdown",
      "metadata": {
        "id": "CIyAMZmH9fzN"
      },
      "source": [
        "# Example 5\r\n",
        "**numpy.random.shuffle 기능을 이용해 training data와 test data를 분리비율에 맞게 생성**"
      ]
    },
    {
      "cell_type": "code",
      "metadata": {
        "id": "zK4A_8wM8OJk"
      },
      "source": [
        "import numpy as np\r\n",
        "\r\n",
        "class DataGeneration:\r\n",
        "\r\n",
        "    def __init__(self, name, file_path, seperation_rate):\r\n",
        "        self.name = name\r\n",
        "        self.file_path = file_path\r\n",
        "        self.seperation_rate = seperation_rate\r\n",
        "    \r\n",
        "    def generate(self):\r\n",
        "        try:\r\n",
        "            loaded_data = np.loadtxt(self.file_path, delimiter=',', dtype=np.float32)\r\n",
        "        except Exception as err:\r\n",
        "            print('[DataGeneration::generate()', str(err))\r\n",
        "            raise Exception(str(err))\r\n",
        "        print('[DataGeneration] loaded_data.shape = ', loaded_data.shape)\r\n",
        "\r\n",
        "        total_data_num = len(loaded_data)\r\n",
        "        test_data_num = int(len(loaded_data) * self.seperation_rate)\r\n",
        "\r\n",
        "        np.random.shuffle(loaded_data)\r\n",
        "\r\n",
        "        test_data = loaded_data[0:test_data_num]\r\n",
        "\r\n",
        "        training_data = loaded_data[test_data_num:]\r\n",
        "\r\n",
        "        return training_data, test_data\r\n"
      ],
      "execution_count": 3,
      "outputs": []
    },
    {
      "cell_type": "markdown",
      "metadata": {
        "id": "oR5E4iyTFg7S"
      },
      "source": [
        "**DataGeneration ver1 테스트, 분리비율 30%**"
      ]
    },
    {
      "cell_type": "code",
      "metadata": {
        "colab": {
          "base_uri": "https://localhost:8080/"
        },
        "id": "-kPScXtkFZTO",
        "outputId": "35c70d7f-87e4-4b25-c8dd-9ccf7f30a20d"
      },
      "source": [
        "seperation_rate = 0.3\r\n",
        "\r\n",
        "try:\r\n",
        "    data_obj1 = DataGeneration('Diabetes', 'diabetes.csv', seperation_rate)\r\n",
        "\r\n",
        "    (generated_training_data, generated_test_data) = data_obj1.generate()\r\n",
        "\r\n",
        "    print('generated_training_data.shape = ', generated_training_data.shape)\r\n",
        "    print('generated_test_data.shape = ', generated_test_data.shape)\r\n",
        "except Exception as err:\r\n",
        "    print('Exception Occur !!')\r\n",
        "    print(str(err))"
      ],
      "execution_count": 5,
      "outputs": [
        {
          "output_type": "stream",
          "text": [
            "[DataGeneration] loaded_data.shape =  (759, 9)\n",
            "generated_training_data.shape =  (532, 9)\n",
            "generated_test_data.shape =  (227, 9)\n"
          ],
          "name": "stdout"
        }
      ]
    },
    {
      "cell_type": "markdown",
      "metadata": {
        "id": "OaBbuGhrG_Pv"
      },
      "source": [
        "**DataGeneration ver1 테스트, 분리비율 50%**"
      ]
    },
    {
      "cell_type": "code",
      "metadata": {
        "colab": {
          "base_uri": "https://localhost:8080/"
        },
        "id": "W-cJtU0vG9EE",
        "outputId": "326ce2d9-2b6a-402f-ac61-72dfa8afd183"
      },
      "source": [
        "seperation_rate = 0.5\r\n",
        "\r\n",
        "try:\r\n",
        "    data_obj2 = DataGeneration('Diabetes', 'diabetes.csv', seperation_rate)\r\n",
        "\r\n",
        "    (generated_training_data, generated_test_data) = data_obj2.generate()\r\n",
        "\r\n",
        "    print('generated_training_data.shape = ', generated_training_data.shape)\r\n",
        "    print('generated_test_data.shape = ', generated_test_data.shape)\r\n",
        "except Exception as err:\r\n",
        "    print('Exception Occur !! ')\r\n",
        "    print(str(err))"
      ],
      "execution_count": 7,
      "outputs": [
        {
          "output_type": "stream",
          "text": [
            "[DataGeneration] loaded_data.shape =  (759, 9)\n",
            "generated_training_data.shape =  (380, 9)\n",
            "generated_test_data.shape =  (379, 9)\n"
          ],
          "name": "stdout"
        }
      ]
    },
    {
      "cell_type": "markdown",
      "metadata": {
        "id": "VReemWe8JIib"
      },
      "source": [
        "# Example 6\r\n",
        "**DataGeneration class를 이용해 Diabetes 구현하기**"
      ]
    },
    {
      "cell_type": "code",
      "metadata": {
        "id": "vA6jTrP0JQZ7"
      },
      "source": [
        "import numpy as np\r\n",
        "import matplotlib.pyplot as plt\r\n",
        "from datetime import datetime\r\n",
        "\r\n",
        "np.random.seed(0)\r\n",
        "\r\n",
        "def numerical_derivative(f, x):\r\n",
        "    delta_x = 1e-4 # 0.0001\r\n",
        "    grad = np.zeros_like(x)\r\n",
        "    \r\n",
        "    it = np.nditer(x, flags=['multi_index'], op_flags=['readwrite'])\r\n",
        "    \r\n",
        "    while not it.finished:\r\n",
        "        idx = it.multi_index        \r\n",
        "        tmp_val = x[idx]\r\n",
        "        x[idx] = float(tmp_val) + delta_x\r\n",
        "        fx1 = f(x) # f(x+delta_x)\r\n",
        "        \r\n",
        "        x[idx] = float(tmp_val) - delta_x \r\n",
        "        fx2 = f(x) # f(x-delta_x)\r\n",
        "        grad[idx] = (fx1 - fx2) / (2*delta_x)\r\n",
        "        \r\n",
        "        x[idx] = tmp_val \r\n",
        "        it.iternext()   \r\n",
        "        \r\n",
        "    return grad\r\n",
        "\r\n",
        "# sigmoid 함수\r\n",
        "\r\n",
        "def sigmoid(x):\r\n",
        "    return 1 / (1+np.exp(-x))"
      ],
      "execution_count": 1,
      "outputs": []
    },
    {
      "cell_type": "code",
      "metadata": {
        "id": "7PdQuTOwKILQ"
      },
      "source": [
        "class Diabetes:\r\n",
        "    \r\n",
        "    # 생성자\r\n",
        "    # xdata, tdata => numpy.array(...)\r\n",
        "    def __init__(self, name, input_nodes, hidden1_nodes, hidden2_nodes, output_nodes, learning_rate):\r\n",
        "        \r\n",
        "        self.name = name\r\n",
        "        \r\n",
        "        # 2층 hidden layer unit \r\n",
        "        # 가중치 W, 바이어스 b 초기화\r\n",
        "        self.W2 = np.random.rand(input_nodes, hidden1_nodes)  \r\n",
        "        self.b2 = np.random.rand(hidden1_nodes)\r\n",
        "        \r\n",
        "        # 3층 hidden layer unit  \r\n",
        "        self.W3 = np.random.rand(hidden1_nodes, hidden2_nodes)\r\n",
        "        self.b3 = np.random.rand(hidden2_nodes)\r\n",
        "        \r\n",
        "        # 4층 output layer unit  \r\n",
        "        self.W4 = np.random.rand(hidden2_nodes, output_nodes)\r\n",
        "        self.b4 = np.random.rand(output_nodes)\r\n",
        "                        \r\n",
        "        # 학습률 learning rate 초기화\r\n",
        "        self.learning_rate = learning_rate\r\n",
        "        \r\n",
        "        print(self.name, \" is created !!!\")\r\n",
        "        \r\n",
        "    # 손실함수\r\n",
        "    def feed_forward(self):\r\n",
        "        \r\n",
        "        delta = 1e-7    # log 무한대 발산 방지\r\n",
        "    \r\n",
        "        z2 = np.dot(self.input_data, self.W2) + self.b2\r\n",
        "        a2 = sigmoid(z2)\r\n",
        "        \r\n",
        "        z3 = np.dot(a2, self.W3) + self.b3\r\n",
        "        a3 = sigmoid(z3)\r\n",
        "        \r\n",
        "        z4 = np.dot(a3, self.W4) + self.b4\r\n",
        "        y = a4 = sigmoid(z4)\r\n",
        "    \r\n",
        "        # cross-entropy \r\n",
        "        return  -np.sum( self.target_data*np.log(y + delta) + (1-self.target_data)*np.log((1 - y)+delta ) )\r\n",
        "    \r\n",
        "    # 손실 값 계산\r\n",
        "    def loss_val(self):\r\n",
        "        \r\n",
        "        delta = 1e-7    # log 무한대 발산 방지\r\n",
        "    \r\n",
        "        z2 = np.dot(self.input_data, self.W2) + self.b2\r\n",
        "        a2 = sigmoid(z2)\r\n",
        "        \r\n",
        "        z3 = np.dot(a2, self.W3) + self.b3\r\n",
        "        a3 = sigmoid(z3)\r\n",
        "        \r\n",
        "        z4 = np.dot(a3, self.W4) + self.b4\r\n",
        "        y = a4 = sigmoid(z4)\r\n",
        "    \r\n",
        "        # cross-entropy \r\n",
        "        return  -np.sum( self.target_data*np.log(y + delta) + (1-self.target_data)*np.log((1 - y)+delta ) )\r\n",
        "    \r\n",
        "    # query, 즉 미래 값 예측 함수\r\n",
        "    def predict(self, input_data):    \r\n",
        "        \r\n",
        "        z2 = np.dot(input_data, self.W2) + self.b2\r\n",
        "        a2 = sigmoid(z2)\r\n",
        "        \r\n",
        "        z3 = np.dot(a2, self.W3) + self.b3\r\n",
        "        a3 = sigmoid(z3)\r\n",
        "        \r\n",
        "        z4 = np.dot(a3, self.W4) + self.b4\r\n",
        "        y = a4 = sigmoid(z4)\r\n",
        "    \r\n",
        "        if y >= 0.5:\r\n",
        "            result = 1  # True\r\n",
        "        else:\r\n",
        "            result = 0  # False\r\n",
        "    \r\n",
        "        return y, result\r\n",
        "    \r\n",
        "    def accuracy(self, input_data, target_data):\r\n",
        "        \r\n",
        "        matched_list = []\r\n",
        "        not_matched_list = []\r\n",
        "        \r\n",
        "        for index in range(len(input_data)):\r\n",
        "            \r\n",
        "            (real_val, logical_val) = self.predict(input_data[index])\r\n",
        "            \r\n",
        "            if logical_val == target_data[index]:\r\n",
        "                matched_list.append(index)\r\n",
        "            else:\r\n",
        "                not_matched_list.append(index)\r\n",
        "                \r\n",
        "        accuracy_val = len(matched_list) / len(input_data)\r\n",
        "        \r\n",
        "        return accuracy_val\r\n",
        "    \r\n",
        "        \r\n",
        "    # 수치미분을 이용하여 손실함수가 최소가 될때 까지 학습하는 함수\r\n",
        "    def train(self, input_data, target_data):\r\n",
        "        \r\n",
        "        self.input_data = input_data\r\n",
        "        self.target_data = target_data\r\n",
        "        \r\n",
        "        f = lambda x : self.feed_forward()\r\n",
        "        \r\n",
        "        self.W2 -= self.learning_rate * numerical_derivative(f, self.W2)\r\n",
        "    \r\n",
        "        self.b2 -= self.learning_rate * numerical_derivative(f, self.b2)\r\n",
        "        \r\n",
        "        self.W3 -= self.learning_rate * numerical_derivative(f, self.W3)\r\n",
        "    \r\n",
        "        self.b3 -= self.learning_rate * numerical_derivative(f, self.b3)\r\n",
        "        \r\n",
        "        self.W4 -= self.learning_rate * numerical_derivative(f, self.W4)\r\n",
        "    \r\n",
        "        self.b4 -= self.learning_rate * numerical_derivative(f, self.b4)"
      ],
      "execution_count": 7,
      "outputs": []
    },
    {
      "cell_type": "code",
      "metadata": {
        "id": "7-GJA4DROEBu"
      },
      "source": [
        "class DataGeneration:\r\n",
        "\r\n",
        "    def __init__(self, name, file_path, seperation_rate):\r\n",
        "        self.name = name\r\n",
        "        self.file_path = file_path\r\n",
        "        self.seperation_rate = seperation_rate\r\n",
        "\r\n",
        "    def generate(self):\r\n",
        "        try:\r\n",
        "            loaded_data = np.loadtxt(self.file_path, delimiter=',', dtype=np.float32)\r\n",
        "        except Exception as err:\r\n",
        "            print('[DataGeneration::generate()] ', str(err))\r\n",
        "            raise Exception(str(err))\r\n",
        "        \r\n",
        "        print('[DataGeneration] loaded_data.shape = ', loaded_data.shape)\r\n",
        "\r\n",
        "        total_data_num = len(loaded_data)\r\n",
        "        test_data_num = int(len(loaded_data)*self.seperation_rate)\r\n",
        "\r\n",
        "        np.random.shuffle(loaded_data)\r\n",
        "\r\n",
        "        test_data = loaded_data[0:test_data_num]\r\n",
        "        training_data = loaded_data[test_data_num:]\r\n",
        "\r\n",
        "        return training_data, test_data"
      ],
      "execution_count": 3,
      "outputs": []
    },
    {
      "cell_type": "code",
      "metadata": {
        "colab": {
          "base_uri": "https://localhost:8080/"
        },
        "id": "DnoeS-JkQX0h",
        "outputId": "221965c3-a988-49ed-c14f-f78a7f8cacfd"
      },
      "source": [
        "seperation_rate = 0.3\r\n",
        "\r\n",
        "data_obj = DataGeneration('Diabetes', 'diabetes.csv', seperation_rate)\r\n",
        "\r\n",
        "(training_data, test_data) = data_obj.generate()\r\n",
        "\r\n",
        "print('training_data.shape = ', training_data.shape, ', test_data.shape = ', test_data.shape)"
      ],
      "execution_count": 4,
      "outputs": [
        {
          "output_type": "stream",
          "text": [
            "[DataGeneration] loaded_data.shape =  (759, 9)\n",
            "training_data.shape =  (532, 9) , test_data.shape =  (227, 9)\n"
          ],
          "name": "stdout"
        }
      ]
    },
    {
      "cell_type": "code",
      "metadata": {
        "colab": {
          "base_uri": "https://localhost:8080/"
        },
        "id": "QRgag7u6RQ00",
        "outputId": "de6552ff-0d5e-4acc-f7f7-6fcbf84979ae"
      },
      "source": [
        "i_nodes = training_data.shape[1] - 1\r\n",
        "h1_nodes = 3\r\n",
        "h2_nodes = 2\r\n",
        "o_nodes = 1\r\n",
        "lr = 1e-1\r\n",
        "epochs = 20\r\n",
        "\r\n",
        "obj = Diabetes('Diabetes', i_nodes, h1_nodes, h2_nodes, o_nodes, lr)\r\n",
        "\r\n",
        "print('Neural Network Learning using Numerical Derivative...')\r\n",
        "\r\n",
        "start_time = datetime.now()\r\n",
        "\r\n",
        "for step in range(epochs):\r\n",
        "    for index in range(len(training_data)):\r\n",
        "        input_data = training_data[index, 0:-1]\r\n",
        "        target_data = training_data[index, [-1]]\r\n",
        "\r\n",
        "        obj.train(input_data, target_data)\r\n",
        "    \r\n",
        "    cur_loss_val = obj.loss_val()\r\n",
        "    print('epochs = ', step, ', loss value = ', cur_loss_val)\r\n",
        "\r\n",
        "end_time = datetime.now()\r\n",
        "\r\n",
        "print('')\r\n",
        "print('Elapsed time => ', end_time - start_time)"
      ],
      "execution_count": 12,
      "outputs": [
        {
          "output_type": "stream",
          "text": [
            "Diabetes  is created !!!\n",
            "Neural Network Learning using Numerical Derivative...\n",
            "epochs =  0 , loss value =  0.9467978307140607\n",
            "epochs =  1 , loss value =  0.9532895367523144\n",
            "epochs =  2 , loss value =  0.9586855788711828\n",
            "epochs =  3 , loss value =  0.9617075333967966\n",
            "epochs =  4 , loss value =  0.9606223170204341\n",
            "epochs =  5 , loss value =  0.9501682798523977\n",
            "epochs =  6 , loss value =  0.9132378919148948\n",
            "epochs =  7 , loss value =  0.8292359404341895\n",
            "epochs =  8 , loss value =  0.7288373257663119\n",
            "epochs =  9 , loss value =  0.6431064080379508\n",
            "epochs =  10 , loss value =  0.5832377882460598\n",
            "epochs =  11 , loss value =  0.5477698975471286\n",
            "epochs =  12 , loss value =  0.525798720039755\n",
            "epochs =  13 , loss value =  0.5077574751895141\n",
            "epochs =  14 , loss value =  0.48764582703055603\n",
            "epochs =  15 , loss value =  0.46556978143579175\n",
            "epochs =  16 , loss value =  0.4453632112909887\n",
            "epochs =  17 , loss value =  0.43138257761455057\n",
            "epochs =  18 , loss value =  0.42462935485353764\n",
            "epochs =  19 , loss value =  0.4224397651848094\n",
            "\n",
            "Elapsed time =>  0:00:32.092756\n"
          ],
          "name": "stdout"
        }
      ]
    },
    {
      "cell_type": "code",
      "metadata": {
        "colab": {
          "base_uri": "https://localhost:8080/"
        },
        "id": "o_8h_u39UFmr",
        "outputId": "05469e9b-75db-4fef-c8a2-5e8d279b9ed9"
      },
      "source": [
        "test_input_data = test_data[:, 0:-1]\r\n",
        "test_target_data = test_data[:,-1]\r\n",
        "\r\n",
        "accuracy_ret = obj.accuracy(test_input_data, test_target_data)\r\n",
        "\r\n",
        "print('Accuracy => ', accuracy_ret)"
      ],
      "execution_count": 11,
      "outputs": [
        {
          "output_type": "stream",
          "text": [
            "Accuracy =>  0.7577092511013216\n"
          ],
          "name": "stdout"
        }
      ]
    }
  ]
}