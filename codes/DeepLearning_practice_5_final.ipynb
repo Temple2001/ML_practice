{
  "nbformat": 4,
  "nbformat_minor": 0,
  "metadata": {
    "colab": {
      "name": "DeepLearning_practice_5_final.ipynb",
      "provenance": [],
      "authorship_tag": "ABX9TyOfcL2oNjOSUZSZDfAX8TSJ",
      "include_colab_link": true
    },
    "kernelspec": {
      "name": "python3",
      "display_name": "Python 3"
    }
  },
  "cells": [
    {
      "cell_type": "markdown",
      "metadata": {
        "id": "view-in-github",
        "colab_type": "text"
      },
      "source": [
        "<a href=\"https://colab.research.google.com/github/Temple2001/ML_practice/blob/main/codes/DeepLearning_practice_5_final.ipynb\" target=\"_parent\"><img src=\"https://colab.research.google.com/assets/colab-badge.svg\" alt=\"Open In Colab\"/></a>"
      ]
    },
    {
      "cell_type": "markdown",
      "metadata": {
        "id": "thuGGe_ptZbu"
      },
      "source": [
        "# DataGeneration class 를 이용한 Diabetes 구현\r\n"
      ]
    },
    {
      "cell_type": "code",
      "metadata": {
        "id": "bsLTXiA9dCtN"
      },
      "source": [
        "import numpy as np\r\n",
        "from datetime import datetime\r\n",
        "import matplotlib.pyplot as plt\r\n",
        "\r\n",
        "def numerical_derivative(f, x):\r\n",
        "    delta_x = 1e-4 # 0.0001\r\n",
        "    grad = np.zeros_like(x)\r\n",
        "    \r\n",
        "    it = np.nditer(x, flags=['multi_index'], op_flags=['readwrite'])\r\n",
        "    \r\n",
        "    while not it.finished:\r\n",
        "        idx = it.multi_index        \r\n",
        "        tmp_val = x[idx]\r\n",
        "        x[idx] = float(tmp_val) + delta_x\r\n",
        "        fx1 = f(x) # f(x+delta_x)\r\n",
        "        \r\n",
        "        x[idx] = float(tmp_val) - delta_x \r\n",
        "        fx2 = f(x) # f(x-delta_x)\r\n",
        "        grad[idx] = (fx1 - fx2) / (2*delta_x)\r\n",
        "        \r\n",
        "        x[idx] = tmp_val \r\n",
        "        it.iternext()   \r\n",
        "        \r\n",
        "    return grad\r\n",
        "\r\n",
        "\r\n",
        "def sigmoid(x):\r\n",
        "    return 1 / (1+np.exp(-x))"
      ],
      "execution_count": 1,
      "outputs": []
    },
    {
      "cell_type": "code",
      "metadata": {
        "id": "W19z1oJBt1cd"
      },
      "source": [
        "class Diabetes:\r\n",
        "\r\n",
        "    def __init__(self, name, input_nodes, hidden1_nodes, output_nodes, learning_rate):\r\n",
        "        self.name = name\r\n",
        "        \r\n",
        "        self.W2 = np.random.rand(input_nodes, hidden1_nodes)\r\n",
        "        self.b2 = np.random.rand(hidden1_nodes)\r\n",
        "\r\n",
        "        self.W3 = np.random.rand(hidden1_nodes, output_nodes)\r\n",
        "        self.b3 = np.random.rand(output_nodes)\r\n",
        "\r\n",
        "        self.learning_rate = learning_rate\r\n",
        "\r\n",
        "        print(self.name, ' is created !!!')\r\n",
        "    \r\n",
        "    def feed_forward(self):\r\n",
        "        delta = 1e-7\r\n",
        "\r\n",
        "        z2 = np.dot(self.input_data, self.W2) + self.b2\r\n",
        "        a2 = sigmoid(z2)\r\n",
        "\r\n",
        "        z3 = np.dot(a2, self.W3) + self.b3\r\n",
        "        y = a3 = sigmoid(z3)\r\n",
        "\r\n",
        "        return -np.sum(self.target_data*np.log(y+delta)+(1-self.target_data)*np.log((1-y)+delta))\r\n",
        "    \r\n",
        "    def loss_val(self):\r\n",
        "        delta = 1e-7\r\n",
        "\r\n",
        "        z2 = np.dot(self.input_data, self.W2) + self.b2\r\n",
        "        a2 = sigmoid(z2)\r\n",
        "\r\n",
        "        z3 = np.dot(a2, self.W3) + self.b3\r\n",
        "        y = a3 = sigmoid(z3)\r\n",
        "\r\n",
        "        return -np.sum(self.target_data*np.log(y+delta)+(1-self.target_data)*np.log((1-y)+delta))\r\n",
        "\r\n",
        "    def predict(self, input_data):\r\n",
        "        z2 = np.dot(self.input_data, self.W2) + self.b2\r\n",
        "        a2 = sigmoid(z2)\r\n",
        "\r\n",
        "        z3 = np.dot(a2, self.W3) + self.b3\r\n",
        "        y = a3 = sigmoid(z3)\r\n",
        "\r\n",
        "        if y >= 0.5:\r\n",
        "            result = 1\r\n",
        "        else:\r\n",
        "            result = 0\r\n",
        "        \r\n",
        "        return y, result\r\n",
        "    \r\n",
        "    def accuracy(self, input_data, target_data):\r\n",
        "        matched_list = []\r\n",
        "        not_matched_list = []\r\n",
        "\r\n",
        "        for index in range(len(input_data)):\r\n",
        "            (real_val, logical_val) = predict(input_data[index])\r\n",
        "\r\n",
        "            if logical_val == target_data[index]:\r\n",
        "                matched_list.append(index)\r\n",
        "            else:\r\n",
        "                not_matched_list.append(index)\r\n",
        "        \r\n",
        "        accuracy_val = len(matched_list) / len(input_data)\r\n",
        "\r\n",
        "        return accuracy_val\r\n",
        "    \r\n",
        "    def train(self, input_data, target_data):\r\n",
        "        self.input_data = input_data\r\n",
        "        self.target_data = target_data\r\n",
        "\r\n",
        "        f = lambda x : feed_forward()\r\n",
        "\r\n",
        "        self.W2 -= self.learning_rate * numerical_derivative(f, self.W2)\r\n",
        "    \r\n",
        "        self.b2 -= self.learning_rate * numerical_derivative(f, self.b2)\r\n",
        "        \r\n",
        "        self.W3 -= self.learning_rate * numerical_derivative(f, self.W3)\r\n",
        "    \r\n",
        "        self.b3 -= self.learning_rate * numerical_derivative(f, self.b3)"
      ],
      "execution_count": 2,
      "outputs": []
    },
    {
      "cell_type": "code",
      "metadata": {
        "id": "54tlQ4dHyNUx"
      },
      "source": [
        "class DataGeneration:\r\n",
        "\r\n",
        "    def __init__(self, name, file_path, seperation_rate, target_position=-1):\r\n",
        "        self.name = name\r\n",
        "        self.file_path = file_path\r\n",
        "        self.seperation_rate = seperation_rate\r\n",
        "\r\n",
        "        if (target_position == -1 or target_position == 0):\r\n",
        "            self.target_position = target_position\r\n",
        "        else:\r\n",
        "            err_str = 'target_position must be -1 or 0'\r\n",
        "            raise Exception(err_str)\r\n",
        "    \r\n",
        "    def __display_target_distribution(self, str_of_kind='original data'):\r\n",
        "        print('=========================================================================================')\r\n",
        "\r\n",
        "        target_data = data[:, self.target_position]\r\n",
        "\r\n",
        "        unique, counts = np.unique(target_data, return_counts='True')\r\n",
        "\r\n",
        "        unique_target = []\r\n",
        "\r\n",
        "        for index in range(len(unique)):\r\n",
        "            print('[DataGeneration] unique number of ' + str_of_kind + ' = ', unique[index], ', count = ', counts[index])\r\n",
        "            unique_target.append(unique[index])\r\n",
        "        \r\n",
        "        for index in range(len(unique_target)):\r\n",
        "            print('[DataGeneration] unique number of ' + str_of_kind + ' = ', unique_target[index], ', ratio = ', np.round(100*counts[index] / (target_data.shape[0]), 2), ' %')\r\n",
        "\r\n",
        "        print('=========================================================================================')\r\n",
        "    \r\n",
        "    def generate(self):\r\n",
        "        try:\r\n",
        "            loaded_data = np.loadtxt(self.file_path, delimiter=',', dtype=np.float32)\r\n",
        "        except Exception as err:\r\n",
        "            print('[DataGeneration::generate()]  ', str(err))\r\n",
        "            raise Exception(str(err))\r\n",
        "        \r\n",
        "        print('[DataGeneration] loaded_data.shape = ', loaded_data.shape)\r\n",
        "\r\n",
        "        total_data_num = len(loaded_data)\r\n",
        "        test_data_num = int(len(loaded_data)*self.seperation_rate)\r\n",
        "\r\n",
        "        np.random.shuffle(loaded_data)\r\n",
        "\r\n",
        "        test_data = loaded_data[0:test_data_num]\r\n",
        "\r\n",
        "        training_data = loaded_data[test_data_num:]\r\n",
        "\r\n",
        "        self.__display_target_distribution(training_data, 'training data')\r\n",
        "        self.__display_target_distribution(test_data, 'test data')\r\n",
        "\r\n",
        "        return training_data, test_data"
      ],
      "execution_count": 3,
      "outputs": []
    },
    {
      "cell_type": "code",
      "metadata": {
        "colab": {
          "base_uri": "https://localhost:8080/"
        },
        "id": "WgcFEyG91vV5",
        "outputId": "c485dc79-e15c-4cae-a8f5-4caf135bd3cb"
      },
      "source": [
        "test_seperation_rate = 0.4\r\n",
        "\r\n",
        "try:\r\n",
        "    data_obj = DataGeneration('Diabetes', 'diabetes.csv', test_seperation_rate)\r\n",
        "    (training_data, test_data) = data_obj.generate()\r\n",
        "\r\n",
        "    print('================================================')\r\n",
        "    print('training data.shape = ', training_data.shape)\r\n",
        "    print('test data.shape = ', test_data.shape)\r\n",
        "    print('================================================')\r\n",
        "    \r\n",
        "except Exception as err:\r\n",
        "    print('Exception occur !!')"
      ],
      "execution_count": 6,
      "outputs": [
        {
          "output_type": "stream",
          "text": [
            "[DataGeneration] loaded_data.shape =  (759, 9)\n",
            "Exception occur !!\n"
          ],
          "name": "stdout"
        }
      ]
    }
  ]
}