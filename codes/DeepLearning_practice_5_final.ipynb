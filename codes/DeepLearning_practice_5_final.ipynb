{
  "nbformat": 4,
  "nbformat_minor": 0,
  "metadata": {
    "colab": {
      "name": "DeepLearning_practice_5_final.ipynb",
      "provenance": [],
      "authorship_tag": "ABX9TyM/XvCLLNCIGv3WTVXI7LCb",
      "include_colab_link": true
    },
    "kernelspec": {
      "name": "python3",
      "display_name": "Python 3"
    }
  },
  "cells": [
    {
      "cell_type": "markdown",
      "metadata": {
        "id": "view-in-github",
        "colab_type": "text"
      },
      "source": [
        "<a href=\"https://colab.research.google.com/github/Temple2001/ML_practice/blob/main/codes/DeepLearning_practice_5_final.ipynb\" target=\"_parent\"><img src=\"https://colab.research.google.com/assets/colab-badge.svg\" alt=\"Open In Colab\"/></a>"
      ]
    },
    {
      "cell_type": "markdown",
      "metadata": {
        "id": "thuGGe_ptZbu"
      },
      "source": [
        "# DataGeneration class 를 이용한 Diabetes 구현\r\n"
      ]
    },
    {
      "cell_type": "code",
      "metadata": {
        "id": "bsLTXiA9dCtN"
      },
      "source": [
        "import numpy as np\r\n",
        "from datetime import datetime\r\n",
        "import matplotlib.pyplot as plt\r\n",
        "\r\n",
        "def numerical_derivative(f, x):\r\n",
        "    delta_x = 1e-4 # 0.0001\r\n",
        "    grad = np.zeros_like(x)\r\n",
        "    \r\n",
        "    it = np.nditer(x, flags=['multi_index'], op_flags=['readwrite'])\r\n",
        "    \r\n",
        "    while not it.finished:\r\n",
        "        idx = it.multi_index        \r\n",
        "        tmp_val = x[idx]\r\n",
        "        x[idx] = float(tmp_val) + delta_x\r\n",
        "        fx1 = f(x) # f(x+delta_x)\r\n",
        "        \r\n",
        "        x[idx] = float(tmp_val) - delta_x \r\n",
        "        fx2 = f(x) # f(x-delta_x)\r\n",
        "        grad[idx] = (fx1 - fx2) / (2*delta_x)\r\n",
        "        \r\n",
        "        x[idx] = tmp_val \r\n",
        "        it.iternext()   \r\n",
        "        \r\n",
        "    return grad\r\n",
        "\r\n",
        "\r\n",
        "def sigmoid(x):\r\n",
        "    return 1 / (1+np.exp(-x))"
      ],
      "execution_count": 1,
      "outputs": []
    },
    {
      "cell_type": "code",
      "metadata": {
        "id": "W19z1oJBt1cd"
      },
      "source": [
        "class Diabetes:\r\n",
        "\r\n",
        "    def __init__(self, name, input_nodes, hidden1_nodes, output_nodes, learning_rate):\r\n",
        "        self.name = name\r\n",
        "        \r\n",
        "        self.W2 = np.random.rand(input_nodes, hidden1_nodes)\r\n",
        "        self.b2 = np.random.rand(hidden1_nodes)\r\n",
        "\r\n",
        "        self.W3 = np.random.rand(hidden1_nodes, output_nodes)\r\n",
        "        self.b3 = np.random.rand(output_nodes)\r\n",
        "\r\n",
        "        self.learning_rate = learning_rate\r\n",
        "\r\n",
        "        print(self.name, ' is created !!!')\r\n",
        "    \r\n",
        "    def feed_forward(self):\r\n",
        "        delta = 1e-7\r\n",
        "\r\n",
        "        z2 = np.dot(self.input_data, self.W2) + self.b2\r\n",
        "        a2 = sigmoid(z2)\r\n",
        "\r\n",
        "        z3 = np.dot(a2, self.W3) + self.b3\r\n",
        "        y = a3 = sigmoid(z3)\r\n",
        "\r\n",
        "        return -np.sum(self.target_data*np.log(y+delta)+(1-self.target_data)*np.log((1-y)+delta))\r\n",
        "    \r\n",
        "    def loss_val(self):\r\n",
        "        delta = 1e-7\r\n",
        "\r\n",
        "        z2 = np.dot(self.input_data, self.W2) + self.b2\r\n",
        "        a2 = sigmoid(z2)\r\n",
        "\r\n",
        "        z3 = np.dot(a2, self.W3) + self.b3\r\n",
        "        y = a3 = sigmoid(z3)\r\n",
        "\r\n",
        "        return -np.sum(self.target_data*np.log(y+delta)+(1-self.target_data)*np.log((1-y)+delta))\r\n",
        "\r\n",
        "    def predict(self, input_data):\r\n",
        "        z2 = np.dot(input_data, self.W2) + self.b2\r\n",
        "        a2 = sigmoid(z2)\r\n",
        "\r\n",
        "        z3 = np.dot(a2, self.W3) + self.b3\r\n",
        "        y = a3 = sigmoid(z3)\r\n",
        "\r\n",
        "        if y >= 0.5:\r\n",
        "            result = 1\r\n",
        "        else:\r\n",
        "            result = 0\r\n",
        "        \r\n",
        "        return y, result\r\n",
        "    \r\n",
        "    def accuracy(self, input_data, target_data):\r\n",
        "        matched_list = []\r\n",
        "        not_matched_list = []\r\n",
        "\r\n",
        "        for index in range(len(input_data)):\r\n",
        "            (real_val, logical_val) = self.predict(input_data[index])\r\n",
        "\r\n",
        "            if logical_val == target_data[index]:\r\n",
        "                matched_list.append(index)\r\n",
        "            else:\r\n",
        "                not_matched_list.append(index)\r\n",
        "        \r\n",
        "        accuracy_val = len(matched_list) / len(input_data)\r\n",
        "\r\n",
        "        return accuracy_val\r\n",
        "    \r\n",
        "    def train(self, input_data, target_data):\r\n",
        "        self.input_data = input_data\r\n",
        "        self.target_data = target_data\r\n",
        "\r\n",
        "        f = lambda x : self.feed_forward()\r\n",
        "\r\n",
        "        self.W2 -= self.learning_rate * numerical_derivative(f, self.W2)\r\n",
        "    \r\n",
        "        self.b2 -= self.learning_rate * numerical_derivative(f, self.b2)\r\n",
        "        \r\n",
        "        self.W3 -= self.learning_rate * numerical_derivative(f, self.W3)\r\n",
        "    \r\n",
        "        self.b3 -= self.learning_rate * numerical_derivative(f, self.b3)"
      ],
      "execution_count": 2,
      "outputs": []
    },
    {
      "cell_type": "code",
      "metadata": {
        "id": "54tlQ4dHyNUx"
      },
      "source": [
        "class DataGeneration:\r\n",
        "\r\n",
        "    def __init__(self, name, file_path, seperation_rate, target_position=-1):\r\n",
        "        self.name = name\r\n",
        "        self.file_path = file_path\r\n",
        "        self.seperation_rate = seperation_rate\r\n",
        "\r\n",
        "        if (target_position == -1 or target_position == 0):\r\n",
        "            self.target_position = target_position\r\n",
        "        else:\r\n",
        "            err_str = 'target_position must be -1 or 0'\r\n",
        "            raise Exception(err_str)\r\n",
        "    \r\n",
        "    def __display_target_distribution(self, data, str_of_kind='original data'):\r\n",
        "        print('=========================================================================================')\r\n",
        "\r\n",
        "        target_data = data[:, self.target_position]\r\n",
        "\r\n",
        "        unique, counts = np.unique(target_data, return_counts='True')\r\n",
        "\r\n",
        "        unique_target = []\r\n",
        "\r\n",
        "        for index in range(len(unique)):\r\n",
        "            print('[DataGeneration] unique number of ' + str_of_kind + ' = ', unique[index], ', count = ', counts[index])\r\n",
        "            unique_target.append(unique[index])\r\n",
        "        \r\n",
        "        for index in range(len(unique_target)):\r\n",
        "            print('[DataGeneration] unique number of ' + str_of_kind + ' = ', unique_target[index], ', ratio = ', np.round(100*counts[index] / (target_data.shape[0]), 2), ' %')\r\n",
        "\r\n",
        "        print('=========================================================================================')\r\n",
        "    \r\n",
        "    def generate(self):\r\n",
        "        try:\r\n",
        "            loaded_data = np.loadtxt(self.file_path, delimiter=',', dtype=np.float32)\r\n",
        "        except Exception as err:\r\n",
        "            print('[DataGeneration::generate()]  ', str(err))\r\n",
        "            raise Exception(str(err))\r\n",
        "        \r\n",
        "        print('[DataGeneration] loaded_data.shape = ', loaded_data.shape)\r\n",
        "\r\n",
        "        self.__display_target_distribution(loaded_data, 'original data')\r\n",
        "\r\n",
        "        total_data_num = len(loaded_data)\r\n",
        "        test_data_num = int(len(loaded_data)*self.seperation_rate)\r\n",
        "\r\n",
        "        np.random.shuffle(loaded_data)\r\n",
        "\r\n",
        "        test_data = loaded_data[0:test_data_num]\r\n",
        "\r\n",
        "        training_data = loaded_data[test_data_num:]\r\n",
        "\r\n",
        "        self.__display_target_distribution(training_data, 'training data')\r\n",
        "        self.__display_target_distribution(test_data, 'test data')\r\n",
        "\r\n",
        "        return training_data, test_data"
      ],
      "execution_count": 3,
      "outputs": []
    },
    {
      "cell_type": "markdown",
      "metadata": {
        "id": "BK-YV7hBrv08"
      },
      "source": [
        "**분리비율 0.4**"
      ]
    },
    {
      "cell_type": "code",
      "metadata": {
        "colab": {
          "base_uri": "https://localhost:8080/"
        },
        "id": "WgcFEyG91vV5",
        "outputId": "5000f6f6-2828-495f-8fbf-2b8898380923"
      },
      "source": [
        "test_seperation_rate = 0.4\r\n",
        "\r\n",
        "try:\r\n",
        "    data_obj = DataGeneration('Diabetes', 'diabetes.csv', test_seperation_rate)\r\n",
        "    (training_data, test_data) = data_obj.generate()\r\n",
        "\r\n",
        "    print('================================================')\r\n",
        "    print('training data.shape = ', training_data.shape)\r\n",
        "    print('test data.shape = ', test_data.shape)\r\n",
        "    print('================================================')\r\n",
        "    \r\n",
        "except Exception as err:\r\n",
        "    print('Exception occur !!')"
      ],
      "execution_count": 4,
      "outputs": [
        {
          "output_type": "stream",
          "text": [
            "[DataGeneration] loaded_data.shape =  (759, 9)\n",
            "=========================================================================================\n",
            "[DataGeneration] unique number of original data =  0.0 , count =  263\n",
            "[DataGeneration] unique number of original data =  1.0 , count =  496\n",
            "[DataGeneration] unique number of original data =  0.0 , ratio =  34.65  %\n",
            "[DataGeneration] unique number of original data =  1.0 , ratio =  65.35  %\n",
            "=========================================================================================\n",
            "=========================================================================================\n",
            "[DataGeneration] unique number of training data =  0.0 , count =  162\n",
            "[DataGeneration] unique number of training data =  1.0 , count =  294\n",
            "[DataGeneration] unique number of training data =  0.0 , ratio =  35.53  %\n",
            "[DataGeneration] unique number of training data =  1.0 , ratio =  64.47  %\n",
            "=========================================================================================\n",
            "=========================================================================================\n",
            "[DataGeneration] unique number of test data =  0.0 , count =  101\n",
            "[DataGeneration] unique number of test data =  1.0 , count =  202\n",
            "[DataGeneration] unique number of test data =  0.0 , ratio =  33.33  %\n",
            "[DataGeneration] unique number of test data =  1.0 , ratio =  66.67  %\n",
            "=========================================================================================\n",
            "================================================\n",
            "training data.shape =  (456, 9)\n",
            "test data.shape =  (303, 9)\n",
            "================================================\n"
          ],
          "name": "stdout"
        }
      ]
    },
    {
      "cell_type": "code",
      "metadata": {
        "colab": {
          "base_uri": "https://localhost:8080/"
        },
        "id": "y7KPD-_-BTcM",
        "outputId": "13710252-d0ac-4633-91c9-d5c104c5bdce"
      },
      "source": [
        "i_nodes = training_data.shape[1] - 1\r\n",
        "h1_nodes = 20\r\n",
        "o_nodes = 1\r\n",
        "lr = 1e-2\r\n",
        "epochs = 20\r\n",
        "\r\n",
        "loss_val_list = []\r\n",
        "accuracy_val_list = []\r\n",
        "validation_accuracy_val_list = []\r\n",
        "\r\n",
        "obj1 = Diabetes('Diabetes', i_nodes, h1_nodes, o_nodes, lr)\r\n",
        "\r\n",
        "print('Neural Network Learning using Numerical Derivative...')\r\n",
        "\r\n",
        "start_time = datetime.now()\r\n",
        "\r\n",
        "for step in range(epochs):\r\n",
        "    for index in range(len(training_data)):\r\n",
        "        input_data = training_data[index, 0:-1]\r\n",
        "        target_data = training_data[index, [-1]]\r\n",
        "\r\n",
        "        obj1.train(input_data, target_data)\r\n",
        "    \r\n",
        "    cur_loss_val = obj1.loss_val()\r\n",
        "    loss_val_list.append(cur_loss_val)\r\n",
        "    training_accuracy = obj1.accuracy(training_data[:,0:-1],training_data[:,-1])\r\n",
        "    validation_accuracy = obj1.accuracy(test_data[:,0:-1], test_data[:,-1])\r\n",
        "\r\n",
        "    print('============================================================================')\r\n",
        "    print('step = ', step, ',                 current loss value = ', cur_loss_val, '\\n')\r\n",
        "    print('step = ', step, ', [training data] accuracy value = ', np.round(100*training_accuracy,4), ' %')\r\n",
        "    \r\n",
        "    accuracy_val_list.append(training_accuracy)\r\n",
        "\r\n",
        "    print('step = ', step, ', [validation data] accuracy value = ', np.round(100*validation_accuracy, 4), ' %')\r\n",
        "\r\n",
        "    validation_accuracy_val_list.append(validation_accuracy)\r\n",
        "\r\n",
        "print('============================================================================')\r\n",
        "\r\n",
        "end_time = datetime.now()\r\n",
        "\r\n",
        "print('')\r\n",
        "print('Elapsed time => ', end_time - start_time)"
      ],
      "execution_count": 6,
      "outputs": [
        {
          "output_type": "stream",
          "text": [
            "Diabetes  is created !!!\n",
            "Neural Network Learning using Numerical Derivative...\n",
            "============================================================================\n",
            "step =  0 ,                 current loss value =  0.5475366198279485 \n",
            "\n",
            "step =  0 , [training data] accuracy value =  61.4035  %\n",
            "step =  0 , [validation data] accuracy value =  64.3564  %\n",
            "============================================================================\n",
            "step =  1 ,                 current loss value =  0.5285359377328682 \n",
            "\n",
            "step =  1 , [training data] accuracy value =  64.4737  %\n",
            "step =  1 , [validation data] accuracy value =  66.6667  %\n",
            "============================================================================\n",
            "step =  2 ,                 current loss value =  0.4915684673873013 \n",
            "\n",
            "step =  2 , [training data] accuracy value =  64.4737  %\n",
            "step =  2 , [validation data] accuracy value =  66.6667  %\n",
            "============================================================================\n",
            "step =  3 ,                 current loss value =  0.4596262908270728 \n",
            "\n",
            "step =  3 , [training data] accuracy value =  64.693  %\n",
            "step =  3 , [validation data] accuracy value =  66.6667  %\n",
            "============================================================================\n",
            "step =  4 ,                 current loss value =  0.4319507186879421 \n",
            "\n",
            "step =  4 , [training data] accuracy value =  66.4474  %\n",
            "step =  4 , [validation data] accuracy value =  67.9868  %\n",
            "============================================================================\n",
            "step =  5 ,                 current loss value =  0.4078415032337903 \n",
            "\n",
            "step =  5 , [training data] accuracy value =  69.7368  %\n",
            "step =  5 , [validation data] accuracy value =  69.967  %\n",
            "============================================================================\n",
            "step =  6 ,                 current loss value =  0.3867525354103484 \n",
            "\n",
            "step =  6 , [training data] accuracy value =  69.9561  %\n",
            "step =  6 , [validation data] accuracy value =  72.2772  %\n",
            "============================================================================\n",
            "step =  7 ,                 current loss value =  0.3682411026580518 \n",
            "\n",
            "step =  7 , [training data] accuracy value =  71.2719  %\n",
            "step =  7 , [validation data] accuracy value =  72.6073  %\n",
            "============================================================================\n",
            "step =  8 ,                 current loss value =  0.3519395431557792 \n",
            "\n",
            "step =  8 , [training data] accuracy value =  71.4912  %\n",
            "step =  8 , [validation data] accuracy value =  74.5875  %\n",
            "============================================================================\n",
            "step =  9 ,                 current loss value =  0.33753881435218663 \n",
            "\n",
            "step =  9 , [training data] accuracy value =  72.3684  %\n",
            "step =  9 , [validation data] accuracy value =  76.2376  %\n",
            "============================================================================\n",
            "step =  10 ,                 current loss value =  0.32477785445406765 \n",
            "\n",
            "step =  10 , [training data] accuracy value =  73.2456  %\n",
            "step =  10 , [validation data] accuracy value =  76.8977  %\n",
            "============================================================================\n",
            "step =  11 ,                 current loss value =  0.3134357891813377 \n",
            "\n",
            "step =  11 , [training data] accuracy value =  73.6842  %\n",
            "step =  11 , [validation data] accuracy value =  76.5677  %\n",
            "============================================================================\n",
            "step =  12 ,                 current loss value =  0.3033256581045876 \n",
            "\n",
            "step =  12 , [training data] accuracy value =  74.7807  %\n",
            "step =  12 , [validation data] accuracy value =  76.5677  %\n",
            "============================================================================\n",
            "step =  13 ,                 current loss value =  0.29428910046416484 \n",
            "\n",
            "step =  13 , [training data] accuracy value =  74.5614  %\n",
            "step =  13 , [validation data] accuracy value =  76.8977  %\n",
            "============================================================================\n",
            "step =  14 ,                 current loss value =  0.2861917733670842 \n",
            "\n",
            "step =  14 , [training data] accuracy value =  74.3421  %\n",
            "step =  14 , [validation data] accuracy value =  76.8977  %\n",
            "============================================================================\n",
            "step =  15 ,                 current loss value =  0.2789194052439959 \n",
            "\n",
            "step =  15 , [training data] accuracy value =  74.7807  %\n",
            "step =  15 , [validation data] accuracy value =  77.5578  %\n",
            "============================================================================\n",
            "step =  16 ,                 current loss value =  0.2723744292736895 \n",
            "\n",
            "step =  16 , [training data] accuracy value =  74.7807  %\n",
            "step =  16 , [validation data] accuracy value =  77.8878  %\n",
            "============================================================================\n",
            "step =  17 ,                 current loss value =  0.26647314880723166 \n",
            "\n",
            "step =  17 , [training data] accuracy value =  75.0  %\n",
            "step =  17 , [validation data] accuracy value =  78.2178  %\n",
            "============================================================================\n",
            "step =  18 ,                 current loss value =  0.2611433831791334 \n",
            "\n",
            "step =  18 , [training data] accuracy value =  74.7807  %\n",
            "step =  18 , [validation data] accuracy value =  77.8878  %\n",
            "============================================================================\n",
            "step =  19 ,                 current loss value =  0.25632253727587556 \n",
            "\n",
            "step =  19 , [training data] accuracy value =  75.2193  %\n",
            "step =  19 , [validation data] accuracy value =  77.8878  %\n",
            "============================================================================\n",
            "\n",
            "Elapsed time =>  0:02:16.950899\n"
          ],
          "name": "stdout"
        }
      ]
    },
    {
      "cell_type": "code",
      "metadata": {
        "id": "ce00uMCyH9Qr",
        "outputId": "815e327e-fb58-4e63-fa4d-c2757a8fc222",
        "colab": {
          "base_uri": "https://localhost:8080/",
          "height": 295
        }
      },
      "source": [
        "plt.title('Training / Validation Accuracy Trend')\r\n",
        "plt.xlabel('epochs')\r\n",
        "plt.ylabel('Accuracy')\r\n",
        "plt.grid()\r\n",
        "plt.plot(accuracy_val_list, label='training acc')\r\n",
        "plt.plot(validation_accuracy_val_list, label='validation acc')\r\n",
        "plt.legend(loc='best')\r\n",
        "plt.show()"
      ],
      "execution_count": 7,
      "outputs": [
        {
          "output_type": "display_data",
          "data": {
            "image/png": "[encoded data removed]",
            "text/plain": [
              "<Figure size 432x288 with 1 Axes>"
            ]
          },
          "metadata": {
            "tags": [],
            "needs_background": "light"
          }
        }
      ]
    },
    {
      "cell_type": "code",
      "metadata": {
        "id": "WchEN7LKmol3",
        "outputId": "5bb8f02b-1253-48ac-e9c0-e7ff8ed0019c",
        "colab": {
          "base_uri": "https://localhost:8080/",
          "height": 295
        }
      },
      "source": [
        "plt.title('Loss Value Trend')\r\n",
        "plt.xlabel('epochs')\r\n",
        "plt.ylabel('Loss')\r\n",
        "plt.grid()\r\n",
        "plt.plot(loss_val_list)\r\n",
        "\r\n",
        "plt.show()"
      ],
      "execution_count": 8,
      "outputs": [
        {
          "output_type": "display_data",
          "data": {
            "image/png": "[encoded data removed]",
            "text/plain": [
              "<Figure size 432x288 with 1 Axes>"
            ]
          },
          "metadata": {
            "tags": [],
            "needs_background": "light"
          }
        }
      ]
    },
    {
      "cell_type": "markdown",
      "metadata": {
        "id": "GsLlPYT5r0p3"
      },
      "source": [
        "**분리비율 0.3**"
      ]
    },
    {
      "cell_type": "code",
      "metadata": {
        "id": "8EoaX4CkpPFi",
        "outputId": "049abc62-cd7b-4949-cd17-446765b199da",
        "colab": {
          "base_uri": "https://localhost:8080/"
        }
      },
      "source": [
        "test_seperation_rate = 0.3\r\n",
        "\r\n",
        "try:\r\n",
        "\r\n",
        "    data_obj = DataGeneration('Diabetes', 'diabetes.csv', test_seperation_rate)\r\n",
        "\r\n",
        "    (training_data, test_data) = data_obj.generate()\r\n",
        "\r\n",
        "    print('================================================')\r\n",
        "    print('training data.shape = ', training_data.shape)\r\n",
        "    print('test data.shape = ', test_data.shape)\r\n",
        "    print('================================================')\r\n",
        "    \r\n",
        "except Exception as err:\r\n",
        "    print('Exception occur !!')"
      ],
      "execution_count": 10,
      "outputs": [
        {
          "output_type": "stream",
          "text": [
            "[DataGeneration] loaded_data.shape =  (759, 9)\n",
            "=========================================================================================\n",
            "[DataGeneration] unique number of original data =  0.0 , count =  263\n",
            "[DataGeneration] unique number of original data =  1.0 , count =  496\n",
            "[DataGeneration] unique number of original data =  0.0 , ratio =  34.65  %\n",
            "[DataGeneration] unique number of original data =  1.0 , ratio =  65.35  %\n",
            "=========================================================================================\n",
            "=========================================================================================\n",
            "[DataGeneration] unique number of training data =  0.0 , count =  191\n",
            "[DataGeneration] unique number of training data =  1.0 , count =  341\n",
            "[DataGeneration] unique number of training data =  0.0 , ratio =  35.9  %\n",
            "[DataGeneration] unique number of training data =  1.0 , ratio =  64.1  %\n",
            "=========================================================================================\n",
            "=========================================================================================\n",
            "[DataGeneration] unique number of test data =  0.0 , count =  72\n",
            "[DataGeneration] unique number of test data =  1.0 , count =  155\n",
            "[DataGeneration] unique number of test data =  0.0 , ratio =  31.72  %\n",
            "[DataGeneration] unique number of test data =  1.0 , ratio =  68.28  %\n",
            "=========================================================================================\n",
            "================================================\n",
            "training data.shape =  (532, 9)\n",
            "test data.shape =  (227, 9)\n",
            "================================================\n"
          ],
          "name": "stdout"
        }
      ]
    },
    {
      "cell_type": "code",
      "metadata": {
        "id": "4YHrd5NrpZeD",
        "outputId": "343538c6-743f-4d57-b567-2a628b0cb486",
        "colab": {
          "base_uri": "https://localhost:8080/"
        }
      },
      "source": [
        "i_nodes = training_data.shape[1] - 1\r\n",
        "h1_nodes = 20\r\n",
        "o_nodes = 1\r\n",
        "lr = 1e-2\r\n",
        "epochs = 20\r\n",
        "\r\n",
        "loss_val_list = []\r\n",
        "accuracy_val_list = []\r\n",
        "validation_accuracy_val_list = []\r\n",
        "\r\n",
        "obj1 = Diabetes('Diabetes', i_nodes, h1_nodes, o_nodes, lr)\r\n",
        "\r\n",
        "print('Neural Network Learning using Numerical Derivative...')\r\n",
        "\r\n",
        "start_time = datetime.now()\r\n",
        "\r\n",
        "for step in range(epochs):\r\n",
        "    for index in range(len(training_data)):\r\n",
        "        input_data = training_data[index, 0:-1]\r\n",
        "        target_data = training_data[index, [-1]]\r\n",
        "\r\n",
        "        obj1.train(input_data, target_data)\r\n",
        "    \r\n",
        "    cur_loss_val = obj1.loss_val()\r\n",
        "    loss_val_list.append(cur_loss_val)\r\n",
        "    training_accuracy = obj1.accuracy(training_data[:,0:-1],training_data[:,-1])\r\n",
        "    validation_accuracy = obj1.accuracy(test_data[:,0:-1], test_data[:,-1])\r\n",
        "\r\n",
        "    print('============================================================================')\r\n",
        "    print('step = ', step, ',                 current loss value = ', cur_loss_val, '\\n')\r\n",
        "    print('step = ', step, ', [training data] accuracy value = ', np.round(100*training_accuracy,4), ' %')\r\n",
        "    \r\n",
        "    accuracy_val_list.append(training_accuracy)\r\n",
        "\r\n",
        "    print('step = ', step, ', [validation data] accuracy value = ', np.round(100*validation_accuracy, 4), ' %')\r\n",
        "\r\n",
        "    validation_accuracy_val_list.append(validation_accuracy)\r\n",
        "\r\n",
        "print('============================================================================')\r\n",
        "\r\n",
        "end_time = datetime.now()\r\n",
        "\r\n",
        "print('')\r\n",
        "print('Elapsed time => ', end_time - start_time)"
      ],
      "execution_count": 11,
      "outputs": [
        {
          "output_type": "stream",
          "text": [
            "Diabetes  is created !!!\n",
            "Neural Network Learning using Numerical Derivative...\n",
            "============================================================================\n",
            "step =  0 ,                 current loss value =  0.8847827933899569 \n",
            "\n",
            "step =  0 , [training data] accuracy value =  52.8195  %\n",
            "step =  0 , [validation data] accuracy value =  58.5903  %\n",
            "============================================================================\n",
            "step =  1 ,                 current loss value =  0.7743191233774512 \n",
            "\n",
            "step =  1 , [training data] accuracy value =  65.9774  %\n",
            "step =  1 , [validation data] accuracy value =  68.2819  %\n",
            "============================================================================\n",
            "step =  2 ,                 current loss value =  0.6967353902551968 \n",
            "\n",
            "step =  2 , [training data] accuracy value =  71.6165  %\n",
            "step =  2 , [validation data] accuracy value =  73.5683  %\n",
            "============================================================================\n",
            "step =  3 ,                 current loss value =  0.6294262116257345 \n",
            "\n",
            "step =  3 , [training data] accuracy value =  73.8722  %\n",
            "step =  3 , [validation data] accuracy value =  77.533  %\n",
            "============================================================================\n",
            "step =  4 ,                 current loss value =  0.5697861779351342 \n",
            "\n",
            "step =  4 , [training data] accuracy value =  75.3759  %\n",
            "step =  4 , [validation data] accuracy value =  76.652  %\n",
            "============================================================================\n",
            "step =  5 ,                 current loss value =  0.5167834914118664 \n",
            "\n",
            "step =  5 , [training data] accuracy value =  76.6917  %\n",
            "step =  5 , [validation data] accuracy value =  75.3304  %\n",
            "============================================================================\n",
            "step =  6 ,                 current loss value =  0.46995286827651483 \n",
            "\n",
            "step =  6 , [training data] accuracy value =  77.2556  %\n",
            "step =  6 , [validation data] accuracy value =  74.4493  %\n",
            "============================================================================\n",
            "step =  7 ,                 current loss value =  0.42891156399590685 \n",
            "\n",
            "step =  7 , [training data] accuracy value =  77.8195  %\n",
            "step =  7 , [validation data] accuracy value =  74.4493  %\n",
            "============================================================================\n",
            "step =  8 ,                 current loss value =  0.39319016367023196 \n",
            "\n",
            "step =  8 , [training data] accuracy value =  77.2556  %\n",
            "step =  8 , [validation data] accuracy value =  74.0088  %\n",
            "============================================================================\n",
            "step =  9 ,                 current loss value =  0.3622287132699377 \n",
            "\n",
            "step =  9 , [training data] accuracy value =  76.8797  %\n",
            "step =  9 , [validation data] accuracy value =  74.4493  %\n",
            "============================================================================\n",
            "step =  10 ,                 current loss value =  0.3354292515220676 \n",
            "\n",
            "step =  10 , [training data] accuracy value =  77.0677  %\n",
            "step =  10 , [validation data] accuracy value =  74.0088  %\n",
            "============================================================================\n",
            "step =  11 ,                 current loss value =  0.3122083496398839 \n",
            "\n",
            "step =  11 , [training data] accuracy value =  76.8797  %\n",
            "step =  11 , [validation data] accuracy value =  73.1278  %\n",
            "============================================================================\n",
            "step =  12 ,                 current loss value =  0.2920313964595383 \n",
            "\n",
            "step =  12 , [training data] accuracy value =  77.0677  %\n",
            "step =  12 , [validation data] accuracy value =  73.1278  %\n",
            "============================================================================\n",
            "step =  13 ,                 current loss value =  0.2744286745185268 \n",
            "\n",
            "step =  13 , [training data] accuracy value =  77.6316  %\n",
            "step =  13 , [validation data] accuracy value =  73.5683  %\n",
            "============================================================================\n",
            "step =  14 ,                 current loss value =  0.25899876069850924 \n",
            "\n",
            "step =  14 , [training data] accuracy value =  77.6316  %\n",
            "step =  14 , [validation data] accuracy value =  73.1278  %\n",
            "============================================================================\n",
            "step =  15 ,                 current loss value =  0.2454047072786774 \n",
            "\n",
            "step =  15 , [training data] accuracy value =  77.4436  %\n",
            "step =  15 , [validation data] accuracy value =  72.6872  %\n",
            "============================================================================\n",
            "step =  16 ,                 current loss value =  0.2333668586853655 \n",
            "\n",
            "step =  16 , [training data] accuracy value =  77.6316  %\n",
            "step =  16 , [validation data] accuracy value =  72.6872  %\n",
            "============================================================================\n",
            "step =  17 ,                 current loss value =  0.22265462225092825 \n",
            "\n",
            "step =  17 , [training data] accuracy value =  77.4436  %\n",
            "step =  17 , [validation data] accuracy value =  72.6872  %\n",
            "============================================================================\n",
            "step =  18 ,                 current loss value =  0.21307843044289962 \n",
            "\n",
            "step =  18 , [training data] accuracy value =  77.6316  %\n",
            "step =  18 , [validation data] accuracy value =  73.1278  %\n",
            "============================================================================\n",
            "step =  19 ,                 current loss value =  0.20448247238512793 \n",
            "\n",
            "step =  19 , [training data] accuracy value =  77.6316  %\n",
            "step =  19 , [validation data] accuracy value =  72.6872  %\n",
            "============================================================================\n",
            "\n",
            "Elapsed time =>  0:02:41.247943\n"
          ],
          "name": "stdout"
        }
      ]
    },
    {
      "cell_type": "code",
      "metadata": {
        "id": "oXw860P0qZGf",
        "outputId": "3203b8e7-5725-4f7c-8bf4-6aa85f1d1486",
        "colab": {
          "base_uri": "https://localhost:8080/",
          "height": 295
        }
      },
      "source": [
        "plt.title('Training / Validation Accuracy Trend')\r\n",
        "plt.xlabel('epochs')\r\n",
        "plt.ylabel('Accuracy')\r\n",
        "plt.grid()\r\n",
        "plt.plot(accuracy_val_list, label='training acc')\r\n",
        "plt.plot(validation_accuracy_val_list, label='validation acc')\r\n",
        "plt.legend(loc='best')\r\n",
        "\r\n",
        "plt.show()"
      ],
      "execution_count": 12,
      "outputs": [
        {
          "output_type": "display_data",
          "data": {
            "image/png": "[encoded data removed]",
            "text/plain": [
              "<Figure size 432x288 with 1 Axes>"
            ]
          },
          "metadata": {
            "tags": [],
            "needs_background": "light"
          }
        }
      ]
    },
    {
      "cell_type": "code",
      "metadata": {
        "id": "GF88q-ywqZ0s",
        "outputId": "000ce1d9-ce79-4c8f-ecbb-a78d75b69f36",
        "colab": {
          "base_uri": "https://localhost:8080/",
          "height": 295
        }
      },
      "source": [
        "plt.title('Loss Value Trend')\r\n",
        "plt.xlabel('epochs')\r\n",
        "plt.ylabel('Loss')\r\n",
        "plt.grid()\r\n",
        "plt.plot(loss_val_list)\r\n",
        "\r\n",
        "plt.show()"
      ],
      "execution_count": 13,
      "outputs": [
        {
          "output_type": "display_data",
          "data": {
            "image/png": "[encoded data removed]",
            "text/plain": [
              "<Figure size 432x288 with 1 Axes>"
            ]
          },
          "metadata": {
            "tags": [],
            "needs_background": "light"
          }
        }
      ]
    },
    {
      "cell_type": "markdown",
      "metadata": {
        "id": "pWXb48BDr3s-"
      },
      "source": [
        "**분리비율 0.8**"
      ]
    },
    {
      "cell_type": "code",
      "metadata": {
        "id": "DQDk4qKYq2Bz",
        "outputId": "4eeb378e-b889-4037-8487-c270a060370b",
        "colab": {
          "base_uri": "https://localhost:8080/"
        }
      },
      "source": [
        "test_seperation_rate = 0.8 \r\n",
        "\r\n",
        "try:\r\n",
        "\r\n",
        "    data_obj = DataGeneration('Diabetes', 'diabetes.csv', test_seperation_rate)\r\n",
        "\r\n",
        "    (training_data, test_data) = data_obj.generate()\r\n",
        "\r\n",
        "    print('================================================')\r\n",
        "    print('training data.shape = ', training_data.shape)\r\n",
        "    print('test data.shape = ', test_data.shape)\r\n",
        "    print('================================================')\r\n",
        "    \r\n",
        "except Exception as err:\r\n",
        "    print('Exception occur !!')"
      ],
      "execution_count": 14,
      "outputs": [
        {
          "output_type": "stream",
          "text": [
            "[DataGeneration] loaded_data.shape =  (759, 9)\n",
            "=========================================================================================\n",
            "[DataGeneration] unique number of original data =  0.0 , count =  263\n",
            "[DataGeneration] unique number of original data =  1.0 , count =  496\n",
            "[DataGeneration] unique number of original data =  0.0 , ratio =  34.65  %\n",
            "[DataGeneration] unique number of original data =  1.0 , ratio =  65.35  %\n",
            "=========================================================================================\n",
            "=========================================================================================\n",
            "[DataGeneration] unique number of training data =  0.0 , count =  55\n",
            "[DataGeneration] unique number of training data =  1.0 , count =  97\n",
            "[DataGeneration] unique number of training data =  0.0 , ratio =  36.18  %\n",
            "[DataGeneration] unique number of training data =  1.0 , ratio =  63.82  %\n",
            "=========================================================================================\n",
            "=========================================================================================\n",
            "[DataGeneration] unique number of test data =  0.0 , count =  208\n",
            "[DataGeneration] unique number of test data =  1.0 , count =  399\n",
            "[DataGeneration] unique number of test data =  0.0 , ratio =  34.27  %\n",
            "[DataGeneration] unique number of test data =  1.0 , ratio =  65.73  %\n",
            "=========================================================================================\n",
            "================================================\n",
            "training data.shape =  (152, 9)\n",
            "test data.shape =  (607, 9)\n",
            "================================================\n"
          ],
          "name": "stdout"
        }
      ]
    },
    {
      "cell_type": "code",
      "metadata": {
        "id": "OTsDn3O7q5m5",
        "outputId": "3a184653-8d32-4fe4-b50d-f08aaf7d6715",
        "colab": {
          "base_uri": "https://localhost:8080/"
        }
      },
      "source": [
        "i_nodes = training_data.shape[1] - 1\r\n",
        "h1_nodes = 20\r\n",
        "o_nodes = 1\r\n",
        "lr = 1e-2\r\n",
        "epochs = 20\r\n",
        "\r\n",
        "loss_val_list = []\r\n",
        "accuracy_val_list = []\r\n",
        "validation_accuracy_val_list = []\r\n",
        "\r\n",
        "obj1 = Diabetes(\"Diabetes\", i_nodes, h1_nodes, o_nodes, lr)\r\n",
        "\r\n",
        "print(\"Neural Network Learning using Numerical Derivative...\")\r\n",
        "\r\n",
        "start_time = datetime.now()\r\n",
        "\r\n",
        "for step in range(epochs):\r\n",
        "    \r\n",
        "    for index in range(len(training_data)):\r\n",
        "        \r\n",
        "        input_data = training_data[index, 0:-1]\r\n",
        "        target_data = training_data[index, [-1]]\r\n",
        "        \r\n",
        "        obj1.train(input_data, target_data)\r\n",
        "        \r\n",
        "    cur_loss_val = obj1.loss_val()\r\n",
        "    \r\n",
        "    loss_val_list.append(cur_loss_val)\r\n",
        "    \r\n",
        "    training_accuracy = obj1.accuracy(training_data[:, 0:-1], training_data[:, -1])\r\n",
        "    \r\n",
        "    validation_accuracy = obj1.accuracy(test_data[:, 0:-1], test_data[:, -1])\r\n",
        "    \r\n",
        "    print('====================================================================')\r\n",
        "    print(\"step = \", step, \"            current loss value = \", cur_loss_val, '\\n')\r\n",
        "    print(\"step = \", step, \"[training data] accuracy value = \", np.round(100*training_accuracy,4), ' %')\r\n",
        "    \r\n",
        "    accuracy_val_list.append(training_accuracy)\r\n",
        "    \r\n",
        "    print(\"step = \", step, \"[validation data] accuracy value = \", np.round(100*validation_accuracy,4), ' %')\r\n",
        "    \r\n",
        "    validation_accuracy_val_list.append(validation_accuracy)\r\n",
        "\r\n",
        "print('====================================================================')\r\n",
        "\r\n",
        "end_time = datetime.now()\r\n",
        "        \r\n",
        "print(\"\")\r\n",
        "print(\"Elapsed Time => \", end_time - start_time)"
      ],
      "execution_count": 15,
      "outputs": [
        {
          "output_type": "stream",
          "text": [
            "Diabetes  is created !!!\n",
            "Neural Network Learning using Numerical Derivative...\n",
            "====================================================================\n",
            "step =  0             current loss value =  0.16403424396688968 \n",
            "\n",
            "step =  0 [training data] accuracy value =  63.8158  %\n",
            "step =  0 [validation data] accuracy value =  65.7331  %\n",
            "====================================================================\n",
            "step =  1             current loss value =  0.463115873211226 \n",
            "\n",
            "step =  1 [training data] accuracy value =  63.8158  %\n",
            "step =  1 [validation data] accuracy value =  65.7331  %\n",
            "====================================================================\n",
            "step =  2             current loss value =  0.5727260439016937 \n",
            "\n",
            "step =  2 [training data] accuracy value =  59.8684  %\n",
            "step =  2 [validation data] accuracy value =  64.0857  %\n",
            "====================================================================\n",
            "step =  3             current loss value =  0.5891436179557599 \n",
            "\n",
            "step =  3 [training data] accuracy value =  63.8158  %\n",
            "step =  3 [validation data] accuracy value =  65.7331  %\n",
            "====================================================================\n",
            "step =  4             current loss value =  0.5865864142358894 \n",
            "\n",
            "step =  4 [training data] accuracy value =  63.8158  %\n",
            "step =  4 [validation data] accuracy value =  65.7331  %\n",
            "====================================================================\n",
            "step =  5             current loss value =  0.5809058925268753 \n",
            "\n",
            "step =  5 [training data] accuracy value =  63.8158  %\n",
            "step =  5 [validation data] accuracy value =  65.7331  %\n",
            "====================================================================\n",
            "step =  6             current loss value =  0.5749144225203893 \n",
            "\n",
            "step =  6 [training data] accuracy value =  63.8158  %\n",
            "step =  6 [validation data] accuracy value =  65.7331  %\n",
            "====================================================================\n",
            "step =  7             current loss value =  0.5690870761013024 \n",
            "\n",
            "step =  7 [training data] accuracy value =  63.8158  %\n",
            "step =  7 [validation data] accuracy value =  65.7331  %\n",
            "====================================================================\n",
            "step =  8             current loss value =  0.5634997092936647 \n",
            "\n",
            "step =  8 [training data] accuracy value =  63.8158  %\n",
            "step =  8 [validation data] accuracy value =  65.7331  %\n",
            "====================================================================\n",
            "step =  9             current loss value =  0.558162605434722 \n",
            "\n",
            "step =  9 [training data] accuracy value =  63.8158  %\n",
            "step =  9 [validation data] accuracy value =  66.0626  %\n",
            "====================================================================\n",
            "step =  10             current loss value =  0.5530766814112057 \n",
            "\n",
            "step =  10 [training data] accuracy value =  65.1316  %\n",
            "step =  10 [validation data] accuracy value =  66.2273  %\n",
            "====================================================================\n",
            "step =  11             current loss value =  0.5482425855976613 \n",
            "\n",
            "step =  11 [training data] accuracy value =  65.1316  %\n",
            "step =  11 [validation data] accuracy value =  66.3921  %\n",
            "====================================================================\n",
            "step =  12             current loss value =  0.5436619058505922 \n",
            "\n",
            "step =  12 [training data] accuracy value =  65.1316  %\n",
            "step =  12 [validation data] accuracy value =  66.7216  %\n",
            "====================================================================\n",
            "step =  13             current loss value =  0.5393370941664971 \n",
            "\n",
            "step =  13 [training data] accuracy value =  66.4474  %\n",
            "step =  13 [validation data] accuracy value =  67.8748  %\n",
            "====================================================================\n",
            "step =  14             current loss value =  0.535271211546206 \n",
            "\n",
            "step =  14 [training data] accuracy value =  69.7368  %\n",
            "step =  14 [validation data] accuracy value =  69.1928  %\n",
            "====================================================================\n",
            "step =  15             current loss value =  0.5314676757813681 \n",
            "\n",
            "step =  15 [training data] accuracy value =  70.3947  %\n",
            "step =  15 [validation data] accuracy value =  70.8402  %\n",
            "====================================================================\n",
            "step =  16             current loss value =  0.5279300414945824 \n",
            "\n",
            "step =  16 [training data] accuracy value =  70.3947  %\n",
            "step =  16 [validation data] accuracy value =  71.3344  %\n",
            "====================================================================\n",
            "step =  17             current loss value =  0.5246618158758654 \n",
            "\n",
            "step =  17 [training data] accuracy value =  70.3947  %\n",
            "step =  17 [validation data] accuracy value =  71.9934  %\n",
            "====================================================================\n",
            "step =  18             current loss value =  0.5216663087472043 \n",
            "\n",
            "step =  18 [training data] accuracy value =  72.3684  %\n",
            "step =  18 [validation data] accuracy value =  73.1466  %\n",
            "====================================================================\n",
            "step =  19             current loss value =  0.5189465143241975 \n",
            "\n",
            "step =  19 [training data] accuracy value =  72.3684  %\n",
            "step =  19 [validation data] accuracy value =  73.6409  %\n",
            "====================================================================\n",
            "\n",
            "Elapsed Time =>  0:00:47.469781\n"
          ],
          "name": "stdout"
        }
      ]
    },
    {
      "cell_type": "code",
      "metadata": {
        "id": "1yS7_7q8rpCj",
        "outputId": "c4eef4f1-93b7-4ca4-9de8-548fca116371",
        "colab": {
          "base_uri": "https://localhost:8080/",
          "height": 295
        }
      },
      "source": [
        "plt.title('Training / Validation Accuracy Trend')\r\n",
        "plt.xlabel('epochs')\r\n",
        "plt.ylabel('Accuracy')\r\n",
        "plt.grid()\r\n",
        "plt.plot(accuracy_val_list, label='training acc')\r\n",
        "plt.plot(validation_accuracy_val_list, label='validation acc')\r\n",
        "plt.legend(loc='best')\r\n",
        "\r\n",
        "plt.show()"
      ],
      "execution_count": 16,
      "outputs": [
        {
          "output_type": "display_data",
          "data": {
            "image/png": "[encoded data removed]",
            "text/plain": [
              "<Figure size 432x288 with 1 Axes>"
            ]
          },
          "metadata": {
            "tags": [],
            "needs_background": "light"
          }
        }
      ]
    },
    {
      "cell_type": "code",
      "metadata": {
        "id": "_Tpf2tIlrpnk",
        "outputId": "be7ddb79-da9b-4ebb-f8cd-f0e4eb80f3fe",
        "colab": {
          "base_uri": "https://localhost:8080/",
          "height": 295
        }
      },
      "source": [
        "plt.title('Loss Value Trend')\r\n",
        "plt.xlabel('epochs')\r\n",
        "plt.ylabel('Loss')\r\n",
        "plt.grid()\r\n",
        "plt.plot(loss_val_list)\r\n",
        "\r\n",
        "plt.show()"
      ],
      "execution_count": 17,
      "outputs": [
        {
          "output_type": "display_data",
          "data": {
            "image/png": "[encoded data removed]",
            "text/plain": [
              "<Figure size 432x288 with 1 Axes>"
            ]
          },
          "metadata": {
            "tags": [],
            "needs_background": "light"
          }
        }
      ]
    }
  ]
}