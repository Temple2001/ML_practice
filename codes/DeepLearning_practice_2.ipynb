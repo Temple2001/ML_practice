{
  "nbformat": 4,
  "nbformat_minor": 0,
  "metadata": {
    "colab": {
      "name": "DeepLearning_practice_2.ipynb",
      "provenance": [],
      "authorship_tag": "ABX9TyOR0N6+jdU1mCKOR3/WvvYo",
      "include_colab_link": true
    },
    "kernelspec": {
      "name": "python3",
      "display_name": "Python 3"
    }
  },
  "cells": [
    {
      "cell_type": "markdown",
      "metadata": {
        "id": "view-in-github",
        "colab_type": "text"
      },
      "source": [
        "<a href=\"https://colab.research.google.com/github/Temple2001/ML_practice/blob/main/codes/DeepLearning_practice_2.ipynb\" target=\"_parent\"><img src=\"https://colab.research.google.com/assets/colab-badge.svg\" alt=\"Open In Colab\"/></a>"
      ]
    },
    {
      "cell_type": "markdown",
      "metadata": {
        "id": "kBnZPWux_GGt"
      },
      "source": [
        "#Example 3\r\n",
        "**은닉층 2개를 가지는 LogicGate 클래스로 AND / OR / NAND / XOR 구현하기**"
      ]
    },
    {
      "cell_type": "code",
      "metadata": {
        "id": "3t2nLWfm--t_"
      },
      "source": [
        "import numpy as np\r\n",
        "from datetime import datetime\r\n",
        "\r\n",
        "# 수치미분 함수\r\n",
        "\r\n",
        "def numerical_derivative(f, x):\r\n",
        "    delta_x = 1e-4 # 0.0001\r\n",
        "    grad = np.zeros_like(x)\r\n",
        "    \r\n",
        "    it = np.nditer(x, flags=['multi_index'], op_flags=['readwrite'])\r\n",
        "    \r\n",
        "    while not it.finished:\r\n",
        "        idx = it.multi_index        \r\n",
        "        tmp_val = x[idx]\r\n",
        "        x[idx] = float(tmp_val) + delta_x\r\n",
        "        fx1 = f(x) # f(x+delta_x)\r\n",
        "        \r\n",
        "        x[idx] = float(tmp_val) - delta_x \r\n",
        "        fx2 = f(x) # f(x-delta_x)\r\n",
        "        grad[idx] = (fx1 - fx2) / (2*delta_x)\r\n",
        "        \r\n",
        "        x[idx] = tmp_val \r\n",
        "        it.iternext()   \r\n",
        "        \r\n",
        "    return grad\r\n",
        "\r\n",
        "# sigmoid 함수\r\n",
        "\r\n",
        "def sigmoid(x):\r\n",
        "    return 1 / (1+np.exp(-x))"
      ],
      "execution_count": null,
      "outputs": []
    },
    {
      "cell_type": "code",
      "metadata": {
        "id": "7f91usAK_gnW"
      },
      "source": [
        "class LogicGate:\r\n",
        "\r\n",
        "    def __init__(self, gate_name, input_nodes, hidden_1_nodes, hidden_2_nodes, output_nodes, learning_rate):\r\n",
        "\r\n",
        "        self.name = gate_name\r\n",
        "\r\n",
        "        self.W2 = np.random.rand(input_nodes, hidden_1_nodes)\r\n",
        "        self.b2 = np.random.rand(hidden_1_nodes)\r\n",
        "\r\n",
        "        self.W3 = np.random.rand(hidden_1_nodes, hidden_2_nodes)\r\n",
        "        self.b3 = np.random.rand(hidden_2_nodes)\r\n",
        "\r\n",
        "        self.W4 = np.random.rand(hidden_2_nodes, output_nodes)\r\n",
        "        self.b4 = np.random.rand(output_nodes)\r\n",
        "\r\n",
        "        self.learning_rate = learning_rate\r\n",
        "\r\n",
        "        print(self.name + ' object is created')\r\n",
        "    \r\n",
        "    def feed_forward(self):\r\n",
        "        delta = 1e-7\r\n",
        "\r\n",
        "        z2 = np.dot(self.input_data, self.W2) + self.b2\r\n",
        "        a2 = sigmoid(z2)\r\n",
        "\r\n",
        "        z3 = np.dot(a2, self.W3) + self.b3\r\n",
        "        a3 = sigmoid(z3)\r\n",
        "\r\n",
        "        z4 = np.dot(a3, self.W4) + self.b4\r\n",
        "        y = a4 = sigmoid(z4)\r\n",
        "\r\n",
        "        return -np.sum(self.target_data*np.log(y+delta) + (1-self.target_data)*np.log((1-y)+delta))\r\n",
        "    \r\n",
        "    def get_W_b(self):\r\n",
        "        return self.W2, self.b2, self.W3, self.b3\r\n",
        "    \r\n",
        "    def loss_val(self):\r\n",
        "        delta = 1e-7\r\n",
        "\r\n",
        "        z2 = np.dot(self.input_data, self.W2) + self.b2\r\n",
        "        a2 = sigmoid(z2)\r\n",
        "\r\n",
        "        z3 = np.dot(a2, self.W3) + self.b3\r\n",
        "        a3 = sigmoid(z3)\r\n",
        "\r\n",
        "        z4 = np.dot(a3, self.W4) + self.b4\r\n",
        "        y = a4 = sigmoid(z4)\r\n",
        "\r\n",
        "        return -np.sum(self.target_data*np.log(y+delta) + (1-self.target_data)*np.log((1-y)+delta))\r\n",
        "\r\n",
        "    def predict(self, xdata):\r\n",
        "        z2 = np.dot(xdata, self.W2) + self.b2\r\n",
        "        a2 = sigmoid(z2)\r\n",
        "\r\n",
        "        z3 = np.dot(a2, self.W3) + self.b3\r\n",
        "        a3 = sigmoid(z3)\r\n",
        "\r\n",
        "        z4 = np.dot(a3, self.W4) + self.b4\r\n",
        "        y = a4 = sigmoid(z4)\r\n",
        "\r\n",
        "        if y >= 0.5:\r\n",
        "            result = 1\r\n",
        "        else:\r\n",
        "            result = 0\r\n",
        "\r\n",
        "        return y, result\r\n",
        "    \r\n",
        "    def accuracy(self, test_data):\r\n",
        "        matched_list = []\r\n",
        "        not_matched_list = []\r\n",
        "\r\n",
        "        input_data = test_data[:, 0:-1]\r\n",
        "        target_data = test_data[:, -1]\r\n",
        "\r\n",
        "        for index in range(len(input_data)):\r\n",
        "            (real_val, logical_val) = self.predict(input_data[index])\r\n",
        "\r\n",
        "            if (logical_val == target_data[index]):\r\n",
        "                matched_list.append(index)\r\n",
        "            else:\r\n",
        "                not_matched_list.append(index)\r\n",
        "            \r\n",
        "        accuracy_val = len(matched_list) / len(input_data)\r\n",
        "    \r\n",
        "        return accuracy_val\r\n",
        "    \r\n",
        "    def train(self, input_data, target_data):\r\n",
        "        self.input_data = input_data\r\n",
        "        self.target_data = target_data\r\n",
        "\r\n",
        "        f = lambda x : self.feed_forward()\r\n",
        "\r\n",
        "        self.W2 -= self.learning_rate * numerical_derivative(f, self.W2)\r\n",
        "    \r\n",
        "        self.b2 -= self.learning_rate * numerical_derivative(f, self.b2)\r\n",
        "        \r\n",
        "        self.W3 -= self.learning_rate * numerical_derivative(f, self.W3)\r\n",
        "    \r\n",
        "        self.b3 -= self.learning_rate * numerical_derivative(f, self.b3)\r\n",
        "        \r\n",
        "        self.W4 -= self.learning_rate * numerical_derivative(f, self.W4)\r\n",
        "    \r\n",
        "        self.b4 -= self.learning_rate * numerical_derivative(f, self.b4)"
      ],
      "execution_count": null,
      "outputs": []
    },
    {
      "cell_type": "code",
      "metadata": {
        "colab": {
          "base_uri": "https://localhost:8080/"
        },
        "id": "8wOIGROEHfvp",
        "outputId": "70d2473d-d52d-4c19-c295-fcb7ace8f1c5"
      },
      "source": [
        "and_xdata = np.array([ [0, 0], [0, 1], [1, 0], [1, 1] ])\r\n",
        "and_tdata = np.array([0, 0, 0, 1])\r\n",
        "\r\n",
        "i_nodes = 2\r\n",
        "h1_nodes = 1\r\n",
        "h2_nodes = 1\r\n",
        "o_nodes = 1\r\n",
        "iteration_count = 10001\r\n",
        "lr = 1e-1\r\n",
        "\r\n",
        "and_obj = LogicGate(\"AND\", i_nodes, h1_nodes, h2_nodes, o_nodes, lr)\r\n",
        "start_time = datetime.now()\r\n",
        "\r\n",
        "for step in range(iteration_count):\r\n",
        "    and_obj.train(and_xdata.reshape(4,2), and_tdata.reshape(4,1))\r\n",
        "\r\n",
        "    if (step % 500 == 0):\r\n",
        "        print('step = ', step, ', loss value = ', and_obj.loss_val())\r\n",
        "    \r\n",
        "end_time = datetime.now()\r\n",
        "\r\n",
        "print('')\r\n",
        "print('Elapsed time => ', end_time - start_time)"
      ],
      "execution_count": null,
      "outputs": [
        {
          "output_type": "stream",
          "text": [
            "AND object is created\n",
            "step =  0 , loss value =  2.8085984978949416\n",
            "step =  500 , loss value =  2.24677848278003\n",
            "step =  1000 , loss value =  2.2079575700932788\n",
            "step =  1500 , loss value =  0.44287776325627753\n",
            "step =  2000 , loss value =  0.0898619151631492\n",
            "step =  2500 , loss value =  0.04788612571560637\n",
            "step =  3000 , loss value =  0.03247202865546881\n",
            "step =  3500 , loss value =  0.02452829807551349\n",
            "step =  4000 , loss value =  0.019695443308408993\n",
            "step =  4500 , loss value =  0.016448810367129627\n",
            "step =  5000 , loss value =  0.014118859712065448\n",
            "step =  5500 , loss value =  0.01236594894824444\n",
            "step =  6000 , loss value =  0.010999604998770889\n",
            "step =  6500 , loss value =  0.009904796947723081\n",
            "step =  7000 , loss value =  0.009007976650384851\n",
            "step =  7500 , loss value =  0.008259937798777596\n",
            "step =  8000 , loss value =  0.007626521124578921\n",
            "step =  8500 , loss value =  0.0070832743933823316\n",
            "step =  9000 , loss value =  0.006612234798888079\n",
            "step =  9500 , loss value =  0.006199911111753421\n",
            "step =  10000 , loss value =  0.005835974384107864\n",
            "\n",
            "Elapsed time =>  0:00:06.907193\n"
          ],
          "name": "stdout"
        }
      ]
    },
    {
      "cell_type": "code",
      "metadata": {
        "colab": {
          "base_uri": "https://localhost:8080/"
        },
        "id": "b-smzJ34IoYx",
        "outputId": "93ba47ed-a256-42c9-8318-4fbd3d82b0e7"
      },
      "source": [
        "print(and_obj.name, '\\n')\r\n",
        "test_data = np.array([[0,0,0], [0,1,0],[1,0,0],[1,1,1]])\r\n",
        "\r\n",
        "accuracy_ret = and_obj.accuracy(test_data)\r\n",
        "print(and_obj.name, ' Accuracy => ', accuracy_ret)"
      ],
      "execution_count": null,
      "outputs": [
        {
          "output_type": "stream",
          "text": [
            "AND \n",
            "\n",
            "AND  Accuracy =>  1.0\n"
          ],
          "name": "stdout"
        }
      ]
    },
    {
      "cell_type": "code",
      "metadata": {
        "colab": {
          "base_uri": "https://localhost:8080/"
        },
        "id": "qDAnMc_GJDhv",
        "outputId": "0779ab4a-a0b2-400f-8b3a-9ec8a27829dc"
      },
      "source": [
        "or_xdata = np.array([ [0, 0], [0, 1], [1, 0], [1, 1] ])\r\n",
        "or_tdata = np.array([0, 1, 1, 1])\r\n",
        "\r\n",
        "i_nodes = 2\r\n",
        "h1_nodes = 1\r\n",
        "h2_nodes = 1\r\n",
        "o_nodes = 1\r\n",
        "iteration_count = 10001\r\n",
        "lr = 1e-1\r\n",
        "\r\n",
        "or_obj = LogicGate(\"OR\", i_nodes, h1_nodes, h2_nodes, o_nodes, lr)\r\n",
        "start_time = datetime.now()\r\n",
        "\r\n",
        "for step in range(iteration_count):\r\n",
        "    or_obj.train(or_xdata.reshape(4,2), or_tdata.reshape(4,1))\r\n",
        "\r\n",
        "    if (step % 500 == 0):\r\n",
        "        print('step = ', step, ', loss value = ', or_obj.loss_val())\r\n",
        "    \r\n",
        "end_time = datetime.now()\r\n",
        "\r\n",
        "print('')\r\n",
        "print('Elapsed time => ', end_time - start_time)"
      ],
      "execution_count": null,
      "outputs": [
        {
          "output_type": "stream",
          "text": [
            "OR object is created\n",
            "step =  0 , loss value =  2.2522324341785045\n",
            "step =  500 , loss value =  2.122648341143382\n",
            "step =  1000 , loss value =  0.1849434129994806\n",
            "step =  1500 , loss value =  0.06756569725742033\n",
            "step =  2000 , loss value =  0.04073931628692981\n",
            "step =  2500 , loss value =  0.029072312965888924\n",
            "step =  3000 , loss value =  0.02257483712464371\n",
            "step =  3500 , loss value =  0.01844144103824231\n",
            "step =  4000 , loss value =  0.015582963235055492\n",
            "step =  4500 , loss value =  0.013489388280727245\n",
            "step =  5000 , loss value =  0.0118904124563212\n",
            "step =  5500 , loss value =  0.010629535126879006\n",
            "step =  6000 , loss value =  0.009609916999117396\n",
            "step =  6500 , loss value =  0.008768444279203829\n",
            "step =  7000 , loss value =  0.00806223285716399\n",
            "step =  7500 , loss value =  0.007461129564865993\n",
            "step =  8000 , loss value =  0.006943317133753994\n",
            "step =  8500 , loss value =  0.006492621444672419\n",
            "step =  9000 , loss value =  0.006096798780371491\n",
            "step =  9500 , loss value =  0.005746410918229984\n",
            "step =  10000 , loss value =  0.005434065497946991\n",
            "\n",
            "Elapsed time =>  0:00:06.694937\n"
          ],
          "name": "stdout"
        }
      ]
    },
    {
      "cell_type": "code",
      "metadata": {
        "colab": {
          "base_uri": "https://localhost:8080/"
        },
        "id": "wDRHNoTvJNTH",
        "outputId": "ba9e2079-c326-4907-f1fa-3aa3cd1cb349"
      },
      "source": [
        "print(or_obj.name, '\\n')\r\n",
        "test_data = np.array([[0,0,0], [0,1,1],[1,0,1],[1,1,1]])\r\n",
        "\r\n",
        "accuracy_ret = or_obj.accuracy(test_data)\r\n",
        "print(or_obj.name, ' Accuracy => ', accuracy_ret)"
      ],
      "execution_count": null,
      "outputs": [
        {
          "output_type": "stream",
          "text": [
            "OR \n",
            "\n",
            "OR  Accuracy =>  1.0\n"
          ],
          "name": "stdout"
        }
      ]
    },
    {
      "cell_type": "code",
      "metadata": {
        "colab": {
          "base_uri": "https://localhost:8080/"
        },
        "id": "rFfuwrb9JbuF",
        "outputId": "c366d017-d2bf-4c81-c192-1ae357a3b2c4"
      },
      "source": [
        "nand_xdata = np.array([ [0, 0], [0, 1], [1, 0], [1, 1] ])\r\n",
        "nand_tdata = np.array([1, 1, 1, 0])\r\n",
        "\r\n",
        "i_nodes = 2\r\n",
        "h1_nodes = 1\r\n",
        "h2_nodes = 1\r\n",
        "o_nodes = 1\r\n",
        "iteration_count = 10001\r\n",
        "lr = 1e-1\r\n",
        "\r\n",
        "nand_obj = LogicGate(\"NAND\", i_nodes, h1_nodes, h2_nodes, o_nodes, lr)\r\n",
        "start_time = datetime.now()\r\n",
        "\r\n",
        "for step in range(iteration_count):\r\n",
        "    nand_obj.train(nand_xdata.reshape(4,2), nand_tdata.reshape(4,1))\r\n",
        "\r\n",
        "    if (step % 500 == 0):\r\n",
        "        print('step = ', step, ', loss value = ', nand_obj.loss_val())\r\n",
        "    \r\n",
        "end_time = datetime.now()\r\n",
        "\r\n",
        "print('')\r\n",
        "print('Elapsed time => ', end_time - start_time)"
      ],
      "execution_count": null,
      "outputs": [
        {
          "output_type": "stream",
          "text": [
            "NAND object is created\n",
            "step =  0 , loss value =  2.349104946062688\n",
            "step =  500 , loss value =  2.0864366806711123\n",
            "step =  1000 , loss value =  0.19952950956468585\n",
            "step =  1500 , loss value =  0.069392026982082\n",
            "step =  2000 , loss value =  0.041263973834809106\n",
            "step =  2500 , loss value =  0.02926533490015152\n",
            "step =  3000 , loss value =  0.02264759432141596\n",
            "step =  3500 , loss value =  0.01846193018679034\n",
            "step =  4000 , loss value =  0.01557829842833126\n",
            "step =  4500 , loss value =  0.013471946995445223\n",
            "step =  5000 , loss value =  0.011866384420285477\n",
            "step =  5500 , loss value =  0.01060221807003437\n",
            "step =  6000 , loss value =  0.009581146163895961\n",
            "step =  6500 , loss value =  0.008739269847371455\n",
            "step =  7000 , loss value =  0.00803326381220966\n",
            "step =  7500 , loss value =  0.007432718035176193\n",
            "step =  8000 , loss value =  0.00691566167406143\n",
            "step =  8500 , loss value =  0.006465827019037699\n",
            "step =  9000 , loss value =  0.0060709126377488185\n",
            "step =  9500 , loss value =  0.005721444568655858\n",
            "step =  10000 , loss value =  0.005410008434611428\n",
            "\n",
            "Elapsed time =>  0:00:06.717684\n"
          ],
          "name": "stdout"
        }
      ]
    },
    {
      "cell_type": "code",
      "metadata": {
        "colab": {
          "base_uri": "https://localhost:8080/"
        },
        "id": "Ucnjk-f8JcA6",
        "outputId": "5338e846-cfa0-4caf-ac1e-bf1ef24ee40b"
      },
      "source": [
        "print(nand_obj.name, '\\n')\r\n",
        "test_data = np.array([[0,0,1], [0,1,1],[1,0,1],[1,1,0]])\r\n",
        "\r\n",
        "accuracy_ret = nand_obj.accuracy(test_data)\r\n",
        "print(nand_obj.name, ' Accuracy => ', accuracy_ret)"
      ],
      "execution_count": null,
      "outputs": [
        {
          "output_type": "stream",
          "text": [
            "NAND \n",
            "\n",
            "NAND  Accuracy =>  1.0\n"
          ],
          "name": "stdout"
        }
      ]
    },
    {
      "cell_type": "code",
      "metadata": {
        "colab": {
          "base_uri": "https://localhost:8080/"
        },
        "id": "rzPPz0dCKSRw",
        "outputId": "0b40343c-e56d-41d6-d538-61cb1f1171dc"
      },
      "source": [
        "xor_xdata = np.array([ [0, 0], [0, 1], [1, 0], [1, 1] ])\r\n",
        "xor_tdata = np.array([0, 1, 1, 0])\r\n",
        "\r\n",
        "i_nodes = 2\r\n",
        "h1_nodes = 2\r\n",
        "h2_nodes = 2\r\n",
        "o_nodes = 1\r\n",
        "iteration_count = 10001\r\n",
        "lr = 1e-1\r\n",
        "\r\n",
        "xor_obj = LogicGate(\"XOR\", i_nodes, h1_nodes, h2_nodes, o_nodes, lr)\r\n",
        "start_time = datetime.now()\r\n",
        "\r\n",
        "for step in range(iteration_count):\r\n",
        "    xor_obj.train(xor_xdata.reshape(4,2), xor_tdata.reshape(4,1))\r\n",
        "\r\n",
        "    if (step % 500 == 0):\r\n",
        "        print('step = ', step, ', loss value = ', xor_obj.loss_val())\r\n",
        "    \r\n",
        "end_time = datetime.now()\r\n",
        "\r\n",
        "print('')\r\n",
        "print('Elapsed time => ', end_time - start_time)"
      ],
      "execution_count": null,
      "outputs": [
        {
          "output_type": "stream",
          "text": [
            "XOR object is created\n",
            "step =  0 , loss value =  3.3028884470456736\n",
            "step =  500 , loss value =  2.7708532990217187\n",
            "step =  1000 , loss value =  2.768602641282582\n",
            "step =  1500 , loss value =  2.76075772457856\n",
            "step =  2000 , loss value =  2.7093476922281514\n",
            "step =  2500 , loss value =  2.1844962255128095\n",
            "step =  3000 , loss value =  1.9742207650933203\n",
            "step =  3500 , loss value =  0.2758167882356988\n",
            "step =  4000 , loss value =  0.06406049559788157\n",
            "step =  4500 , loss value =  0.03518890535068514\n",
            "step =  5000 , loss value =  0.024055032548858206\n",
            "step =  5500 , loss value =  0.018197411117827293\n",
            "step =  6000 , loss value =  0.01459744792840927\n",
            "step =  6500 , loss value =  0.012166430731168314\n",
            "step =  7000 , loss value =  0.010417287891320747\n",
            "step =  7500 , loss value =  0.009099922656997448\n",
            "step =  8000 , loss value =  0.00807291197811257\n",
            "step =  8500 , loss value =  0.007250348410228279\n",
            "step =  9000 , loss value =  0.006577075887185672\n",
            "step =  9500 , loss value =  0.006016082777200293\n",
            "step =  10000 , loss value =  0.005541620540623324\n",
            "\n",
            "Elapsed time =>  0:00:13.191809\n"
          ],
          "name": "stdout"
        }
      ]
    },
    {
      "cell_type": "code",
      "metadata": {
        "colab": {
          "base_uri": "https://localhost:8080/"
        },
        "id": "XWHgXg78KSg5",
        "outputId": "e3f8b817-268c-433a-b6c4-1a4880bc04d2"
      },
      "source": [
        "print(xor_obj.name, '\\n')\r\n",
        "test_data = np.array([[0,0,0], [0,1,1],[1,0,1],[1,1,0]])\r\n",
        "\r\n",
        "accuracy_ret = xor_obj.accuracy(test_data)\r\n",
        "print(xor_obj.name, ' Accuracy => ', accuracy_ret)"
      ],
      "execution_count": null,
      "outputs": [
        {
          "output_type": "stream",
          "text": [
            "XOR \n",
            "\n",
            "XOR  Accuracy =>  1.0\n"
          ],
          "name": "stdout"
        }
      ]
    },
    {
      "cell_type": "markdown",
      "metadata": {
        "id": "OsDbS7zdK2x5"
      },
      "source": [
        "# Example 4\r\n",
        "**diabetes.csv 파일을 이용해 노드 30개를 가진 은닉층 1개를 가지는 diabetes class를 구현 후 train()으로 학습**"
      ]
    },
    {
      "cell_type": "markdown",
      "metadata": {
        "id": "mrz5pZ77LZcx"
      },
      "source": [
        "**문제점 -> 지금까지의 방식으로 train 하면 정확도가 현저히 낮아지고 학습이 몇 시간 가까이 소요됨**  \r\n",
        "**해결법 -> train() 부분을 epochs 부분과 전체 데이터 부분의 for문으로 분리하기  ( + accuracy() 호출 전에 미리 입력과 정답데이터 분리해서 주기 )**"
      ]
    },
    {
      "cell_type": "code",
      "metadata": {
        "id": "ffgdGPAVN_HG"
      },
      "source": [
        "import numpy as np\r\n",
        "from datetime import datetime\r\n",
        "\r\n",
        "np.random.seed(0)\r\n",
        "\r\n",
        "# 수치미분 함수\r\n",
        "\r\n",
        "def numerical_derivative(f, x):\r\n",
        "    delta_x = 1e-4 # 0.0001\r\n",
        "    grad = np.zeros_like(x)\r\n",
        "    \r\n",
        "    it = np.nditer(x, flags=['multi_index'], op_flags=['readwrite'])\r\n",
        "    \r\n",
        "    while not it.finished:\r\n",
        "        idx = it.multi_index        \r\n",
        "        tmp_val = x[idx]\r\n",
        "        x[idx] = float(tmp_val) + delta_x\r\n",
        "        fx1 = f(x) # f(x+delta_x)\r\n",
        "        \r\n",
        "        x[idx] = float(tmp_val) - delta_x \r\n",
        "        fx2 = f(x) # f(x-delta_x)\r\n",
        "        grad[idx] = (fx1 - fx2) / (2*delta_x)\r\n",
        "        \r\n",
        "        x[idx] = tmp_val \r\n",
        "        it.iternext()   \r\n",
        "        \r\n",
        "    return grad\r\n",
        "\r\n",
        "# sigmoid 함수\r\n",
        "\r\n",
        "def sigmoid(x):\r\n",
        "    return 1 / (1+np.exp(-x))"
      ],
      "execution_count": null,
      "outputs": []
    },
    {
      "cell_type": "code",
      "metadata": {
        "id": "pgX7ULomOEb6"
      },
      "source": [
        "class Diabetes:\r\n",
        "\r\n",
        "    def __init__(self, input_nodes, hidden_nodes, output_nodes, learning_rate):\r\n",
        "        self.W2 = np.random.rand(input_nodes, hidden_nodes)\r\n",
        "        self.b2 = np.random.rand(hidden_nodes)\r\n",
        "\r\n",
        "        self.W3 = np.random.rand(hidden_nodes, output_nodes)\r\n",
        "        self.b3 = np.random.rand(output_nodes)\r\n",
        "\r\n",
        "        self.learning_rate = learning_rate\r\n",
        "\r\n",
        "        print('Diabetes object is created !!!')\r\n",
        "    \r\n",
        "    def feed_forward(self):\r\n",
        "        delta = 1e-7\r\n",
        "\r\n",
        "        z2 = np.dot(self.input_data, self.W2) + self.b2\r\n",
        "        a2 = sigmoid(z2)\r\n",
        "\r\n",
        "        z3 = np.dot(a2, self.W3) + self.b3\r\n",
        "        y = a3 = sigmoid(z3)\r\n",
        "\r\n",
        "        return -np.sum(self.target_data*np.log(y+delta)+(1-self.target_data)*np.log((1-y)+delta))\r\n",
        "\r\n",
        "    def get_W_b(self):\r\n",
        "        return self.W2, self.b2, self.W3, self.b3\r\n",
        "    \r\n",
        "    def loss_val(self):\r\n",
        "        delta = 1e-7\r\n",
        "\r\n",
        "        z2 = np.dot(self.input_data, self.W2) + self.b2\r\n",
        "        a2 = sigmoid(z2)\r\n",
        "\r\n",
        "        z3 = np.dot(a2, self.W3) + self.b3\r\n",
        "        y = a3 = sigmoid(z3)\r\n",
        "\r\n",
        "        return -np.sum(self.target_data*np.log(y+delta)+(1-self.target_data)*np.log((1-y)+delta))\r\n",
        "    \r\n",
        "    def predict(self, input_data):\r\n",
        "        z2 = np.dot(self.input_data, self.W2) + self.b2\r\n",
        "        a2 = sigmoid(z2)\r\n",
        "\r\n",
        "        z3 = np.dot(a2, self.W3) + self.b3\r\n",
        "        y = a3 = sigmoid(z3)\r\n",
        "\r\n",
        "        if y >= 0.5:\r\n",
        "            result = 1\r\n",
        "        else:\r\n",
        "            result = 0\r\n",
        "        \r\n",
        "        return y, result\r\n",
        "    \r\n",
        "    def accuracy(self, test_input_data, test_target_data):\r\n",
        "        matched_list = []\r\n",
        "        not_matched_list = []\r\n",
        "\r\n",
        "        for index in range(len(input_data)):\r\n",
        "            (real_val, logical_val) = self.predict(test_input_data[index])\r\n",
        "\r\n",
        "            if logical_val == test_target_data[index]:\r\n",
        "                matched_list.append(index)\r\n",
        "            else:\r\n",
        "                not_matched_list.append(index)\r\n",
        "            \r\n",
        "        accuracy_val = len(matched_list) / len(input_data)\r\n",
        "\r\n",
        "        return accuracy_val\r\n",
        "    \r\n",
        "    def train(self, input_data, target_data):\r\n",
        "        self.input_data = input_data\r\n",
        "        self.target_data = target_data\r\n",
        "\r\n",
        "        f = lambda x : self.feed_forward()\r\n",
        "\r\n",
        "        self.W2 -= self.learning_rate * numerical_derivative(f, self.W2)\r\n",
        "        self.b2 -= self.learning_rate * numerical_derivative(f, self.b2)\r\n",
        "        self.W3 -= self.learning_rate * numerical_derivative(f, self.W3)\r\n",
        "        self.b3 -= self.learning_rate * numerical_derivative(f, self.b3)"
      ],
      "execution_count": null,
      "outputs": []
    },
    {
      "cell_type": "code",
      "metadata": {
        "colab": {
          "base_uri": "https://localhost:8080/"
        },
        "id": "7G88DKKot2iv",
        "outputId": "a390a161-796c-462a-e7b9-5e6a734b2928"
      },
      "source": [
        "try:\r\n",
        "    training_data = np.loadtxt('diabetes.csv', delimiter=',', dtype=np.float32)\r\n",
        "    print('training_data = ', training_data.shape)\r\n",
        "except Exception as err:\r\n",
        "    print(str(err))"
      ],
      "execution_count": null,
      "outputs": [
        {
          "output_type": "stream",
          "text": [
            "training_data =  (759, 9)\n"
          ],
          "name": "stdout"
        }
      ]
    },
    {
      "cell_type": "code",
      "metadata": {
        "colab": {
          "base_uri": "https://localhost:8080/"
        },
        "id": "8fFAPbibvs0E",
        "outputId": "42867a47-9b7e-4fe1-836d-2d9978a38179"
      },
      "source": [
        "i_nodes = 8\r\n",
        "h1_nodes = 30\r\n",
        "o_nodes = 1\r\n",
        "lr = 1e-2\r\n",
        "epochs = 50\r\n",
        "\r\n",
        "obj = Diabetes(i_nodes, h1_nodes, o_nodes, lr)\r\n",
        "\r\n",
        "print('Neural Network Learning using Numerical Derivative...')\r\n",
        "\r\n",
        "start_time = datetime.now()\r\n",
        "\r\n",
        "for step in range(epochs):\r\n",
        "    for index in range(len(training_data)):\r\n",
        "        input_data = training_data[index, 0:-1]\r\n",
        "        target_data = training_data[index, [-1]]\r\n",
        "\r\n",
        "        obj.train(input_data, target_data)\r\n",
        "    \r\n",
        "    if (step % 5 == 0):\r\n",
        "        print('epochs = ', step, ', loss value = ', obj.loss_val())\r\n",
        "\r\n",
        "end_time = datetime.now()\r\n",
        "\r\n",
        "print('')\r\n",
        "print('Elapsed time => ', end_time - start_time)"
      ],
      "execution_count": null,
      "outputs": [
        {
          "output_type": "stream",
          "text": [
            "Diabetes object is created !!!\n",
            "Neural Network Learning using Numerical Derivative...\n",
            "epochs =  0 , loss value =  0.6048301238662764\n",
            "epochs =  5 , loss value =  0.24398924376811915\n",
            "epochs =  10 , loss value =  0.16264823457767988\n",
            "epochs =  15 , loss value =  0.12753145931149104\n",
            "epochs =  20 , loss value =  0.10668716375963566\n",
            "epochs =  25 , loss value =  0.09390005269439922\n",
            "epochs =  30 , loss value =  0.08593290138408329\n",
            "epochs =  35 , loss value =  0.08074624403828227\n",
            "epochs =  40 , loss value =  0.07716237972209615\n",
            "epochs =  45 , loss value =  0.0745267401617213\n",
            "\n",
            "Elapsed time =>  0:11:10.379226\n"
          ],
          "name": "stdout"
        }
      ]
    },
    {
      "cell_type": "code",
      "metadata": {
        "colab": {
          "base_uri": "https://localhost:8080/"
        },
        "id": "-32Z62sS4miu",
        "outputId": "6b4ef1b7-2fc9-4f84-f578-f6b43e7ec2fa"
      },
      "source": [
        "accuracy_ret = obj.accuracy(training_data[:,0:-1], training_data[:,[-1]])\r\n",
        "print('Accuracy => ', accuracy_ret)"
      ],
      "execution_count": null,
      "outputs": [
        {
          "output_type": "stream",
          "text": [
            "Accuracy =>  0.5\n"
          ],
          "name": "stdout"
        }
      ]
    }
  ]
}