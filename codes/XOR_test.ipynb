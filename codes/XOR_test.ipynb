{
  "nbformat": 4,
  "nbformat_minor": 0,
  "metadata": {
    "colab": {
      "name": "XOR_test.ipynb",
      "provenance": [],
      "authorship_tag": "ABX9TyOoVJJNjViWLsQo8t5rOCc0",
      "include_colab_link": true
    },
    "kernelspec": {
      "name": "python3",
      "display_name": "Python 3"
    }
  },
  "cells": [
    {
      "cell_type": "markdown",
      "metadata": {
        "id": "view-in-github",
        "colab_type": "text"
      },
      "source": [
        "<a href=\"https://colab.research.google.com/github/Temple2001/ML_practice/blob/main/codes/XOR_test.ipynb\" target=\"_parent\"><img src=\"https://colab.research.google.com/assets/colab-badge.svg\" alt=\"Open In Colab\"/></a>"
      ]
    },
    {
      "cell_type": "markdown",
      "metadata": {
        "id": "Ap7Hig05Y2xH"
      },
      "source": [
        "#Example 1\r\n",
        "**AND, OR, NAND, XOR을 LogicGate class로 구현**"
      ]
    },
    {
      "cell_type": "code",
      "metadata": {
        "id": "kA6XDA-yS16U"
      },
      "source": [
        "import numpy as np\r\n",
        "from datetime import datetime\r\n",
        "\r\n",
        "# 수치미분 함수\r\n",
        "def numerical_derivative(f, x):\r\n",
        "    delta_x = 1e-4 # 0.0001\r\n",
        "    grad = np.zeros_like(x)\r\n",
        "    \r\n",
        "    it = np.nditer(x, flags=['multi_index'], op_flags=['readwrite'])\r\n",
        "    \r\n",
        "    while not it.finished:\r\n",
        "        idx = it.multi_index        \r\n",
        "        tmp_val = x[idx]\r\n",
        "        x[idx] = float(tmp_val) + delta_x\r\n",
        "        fx1 = f(x) # f(x+delta_x)\r\n",
        "        \r\n",
        "        x[idx] = float(tmp_val) - delta_x \r\n",
        "        fx2 = f(x) # f(x-delta_x)\r\n",
        "        grad[idx] = (fx1 - fx2) / (2*delta_x)\r\n",
        "        \r\n",
        "        x[idx] = tmp_val \r\n",
        "        it.iternext()   \r\n",
        "        \r\n",
        "    return grad\r\n",
        "\r\n",
        "\r\n",
        "# sigmoid 함수\r\n",
        "def sigmoid(x):\r\n",
        "    return 1 / (1+np.exp(-x))"
      ],
      "execution_count": 1,
      "outputs": []
    },
    {
      "cell_type": "code",
      "metadata": {
        "id": "JLwWTlPXaBPY"
      },
      "source": [
        "class LogicGate:\r\n",
        "\r\n",
        "    def __init__(self, gate_name, xdata, tdata, lr, cnt):\r\n",
        "        self.name = gate_name\r\n",
        "\r\n",
        "        self.xdata = xdata.reshape(4,2)\r\n",
        "        self.tdata = tdata.reshape(4,1)\r\n",
        "\r\n",
        "        self.W = np.random.rand(self.xdata.shape[1], 1)\r\n",
        "        self.b = np.random.rand(1)\r\n",
        "\r\n",
        "        self.learning_rate = lr\r\n",
        "        self.iteration_count = cnt\r\n",
        "    \r\n",
        "    def loss_func(self):\r\n",
        "        delta = 1e-7\r\n",
        "\r\n",
        "        z = np.dot(self.xdata, self.W) + self.b\r\n",
        "        y = sigmoid(z)\r\n",
        "\r\n",
        "        return -np.sum(self.tdata*np.log(y+delta)+(1-self.tdata)*np.log((1-y)+delta))\r\n",
        "    \r\n",
        "    def error_val(self):\r\n",
        "        delta = 1e-7\r\n",
        "\r\n",
        "        z = np.dot(self.xdata, self.W) + self.b\r\n",
        "        y = sigmoid(z)\r\n",
        "\r\n",
        "        return -np.sum(self.tdata*np.log(y+delta)+(1-self.tdata)*np.log((1-y)+delta))\r\n",
        "\r\n",
        "    def train(self):\r\n",
        "        step_count = int(self.iteration_count*0.1)\r\n",
        "\r\n",
        "        f = lambda x : self.loss_func()\r\n",
        "\r\n",
        "        print('initial error value = ', self.error_val())\r\n",
        "\r\n",
        "        start_time = datetime.now()\r\n",
        "\r\n",
        "        for step in range(self.iteration_count):\r\n",
        "            self.W -= self.learning_rate * numerical_derivative(f, self.W)\r\n",
        "            self.b -= self.learning_rate * numerical_derivative(f, self.b)\r\n",
        "\r\n",
        "            if (step % step_count == 0):\r\n",
        "                print('step = ', step, ', error value = ', self.error_val())\r\n",
        "        \r\n",
        "        end_time = datetime.now()\r\n",
        "\r\n",
        "        print('')\r\n",
        "        print('Elapsed time => ', end_time - start_time)\r\n",
        "\r\n",
        "    def predict(self, test_data):\r\n",
        "        z = np.dot(test_data, self.W) + self.b\r\n",
        "        y = sigmoid(z)\r\n",
        "\r\n",
        "        if y >= 0.5:\r\n",
        "            result = 1\r\n",
        "        else:\r\n",
        "            result = 0\r\n",
        "        \r\n",
        "        return y, result\r\n",
        "    \r\n",
        "    def accuracy(self, test_xdata, test_tdata):\r\n",
        "\r\n",
        "        matched_list = []\r\n",
        "        not_matched_list = []\r\n",
        "\r\n",
        "        for index in range(len(xdata)):\r\n",
        "            (real_val, logical_val) = self.predict(test_xdata[index])\r\n",
        "\r\n",
        "            if logical_val == test_tdata[index]:\r\n",
        "                matched_list.append(index)\r\n",
        "            else:\r\n",
        "                not_matched_list.append(index)\r\n",
        "        \r\n",
        "        accuracy_val = len(matched_list) / len(test_xdata)\r\n",
        "\r\n",
        "        return accuracy_val"
      ],
      "execution_count": 10,
      "outputs": []
    },
    {
      "cell_type": "code",
      "metadata": {
        "colab": {
          "base_uri": "https://localhost:8080/"
        },
        "id": "hxGam6AX2EkO",
        "outputId": "dd88844b-8bc2-45ff-f462-6620277cef39"
      },
      "source": [
        "xdata = np.array([[0,0],[0,1],[1,0],[1,1]])\r\n",
        "tdata = np.array([0,0,0,1])\r\n",
        "\r\n",
        "AND_obj = LogicGate(\"AND_GATE\", xdata, tdata, 1e-2, 20001)\r\n",
        "AND_obj.train()"
      ],
      "execution_count": 13,
      "outputs": [
        {
          "output_type": "stream",
          "text": [
            "initial error value =  4.18973650877774\n",
            "step =  0 , error value =  4.139848164418657\n",
            "step =  2000 , error value =  0.6660145301548952\n",
            "step =  4000 , error value =  0.3923270532236891\n",
            "step =  6000 , error value =  0.27594614425292185\n",
            "step =  8000 , error value =  0.21187745110962303\n",
            "step =  10000 , error value =  0.17153006594013304\n",
            "step =  12000 , error value =  0.14387879806269788\n",
            "step =  14000 , error value =  0.12378832766657197\n",
            "step =  16000 , error value =  0.10855224739324452\n",
            "step =  18000 , error value =  0.09661264171082656\n",
            "step =  20000 , error value =  0.0870110015652818\n",
            "\n",
            "Elapsed time =>  0:00:03.801046\n"
          ],
          "name": "stdout"
        }
      ]
    },
    {
      "cell_type": "code",
      "metadata": {
        "colab": {
          "base_uri": "https://localhost:8080/"
        },
        "id": "HBReeYms6LAi",
        "outputId": "cc06ffa5-65cd-4fe7-cd7a-259b818d3494"
      },
      "source": [
        "print(AND_obj.name, '\\n')\r\n",
        "\r\n",
        "test_xdata = np.array([[0,0],[0,1],[1,0],[1,1]])\r\n",
        "test_tdata = np.array([0,0,0,1])\r\n",
        "\r\n",
        "accuracy_ret = AND_obj.accuracy(test_xdata, test_tdata)\r\n",
        "\r\n",
        "print('Accuracy => ', accuracy_ret)"
      ],
      "execution_count": 15,
      "outputs": [
        {
          "output_type": "stream",
          "text": [
            "AND_GATE \n",
            "\n",
            "Accuracy =>  1.0\n"
          ],
          "name": "stdout"
        }
      ]
    },
    {
      "cell_type": "code",
      "metadata": {
        "colab": {
          "base_uri": "https://localhost:8080/"
        },
        "id": "IFF8HRbI55GL",
        "outputId": "4717bdee-72c6-48ec-a31a-12c0fd5cb611"
      },
      "source": [
        "xdata = np.array([[0,0],[0,1],[1,0],[1,1]])\r\n",
        "tdata = np.array([0,1,1,1])\r\n",
        "\r\n",
        "OR_obj = LogicGate(\"OR_GATE\", xdata, tdata, 1e-2, 20001)\r\n",
        "OR_obj.train()"
      ],
      "execution_count": 16,
      "outputs": [
        {
          "output_type": "stream",
          "text": [
            "initial error value =  1.8651885283997411\n",
            "step =  0 , error value =  1.8610944660154205\n",
            "step =  2000 , error value =  0.431220261020551\n",
            "step =  4000 , error value =  0.23248365236240945\n",
            "step =  6000 , error value =  0.15704923983584532\n",
            "step =  8000 , error value =  0.11799485725132332\n",
            "step =  10000 , error value =  0.09427878916058839\n",
            "step =  12000 , error value =  0.07840251523777478\n",
            "step =  14000 , error value =  0.06705210582960278\n",
            "step =  16000 , error value =  0.0585439859605746\n",
            "step =  18000 , error value =  0.051934629675811146\n",
            "step =  20000 , error value =  0.04665516649235187\n",
            "\n",
            "Elapsed time =>  0:00:03.628214\n"
          ],
          "name": "stdout"
        }
      ]
    },
    {
      "cell_type": "code",
      "metadata": {
        "colab": {
          "base_uri": "https://localhost:8080/"
        },
        "id": "DSYdddOE6GV2",
        "outputId": "a0f02bdb-bed6-422f-b198-66f71ed3a446"
      },
      "source": [
        "print(OR_obj.name, '\\n')\r\n",
        "\r\n",
        "test_xdata = np.array([[0,0],[0,1],[1,0],[1,1]])\r\n",
        "test_tdata = np.array([0,1,1,1])\r\n",
        "\r\n",
        "accuracy_ret = OR_obj.accuracy(test_xdata, test_tdata)\r\n",
        "\r\n",
        "print('Accuracy => ', accuracy_ret)"
      ],
      "execution_count": 17,
      "outputs": [
        {
          "output_type": "stream",
          "text": [
            "OR_GATE \n",
            "\n",
            "Accuracy =>  1.0\n"
          ],
          "name": "stdout"
        }
      ]
    },
    {
      "cell_type": "code",
      "metadata": {
        "colab": {
          "base_uri": "https://localhost:8080/"
        },
        "id": "6OXEUjm367sV",
        "outputId": "29cba464-18d6-41c2-c5d0-6dcc8ff3a73f"
      },
      "source": [
        "xdata = np.array([[0,0],[0,1],[1,0],[1,1]])\r\n",
        "tdata = np.array([1,1,1,0])\r\n",
        "\r\n",
        "NAND_obj = LogicGate(\"NAND_GATE\", xdata, tdata, 1e-2, 20001)\r\n",
        "NAND_obj.train()"
      ],
      "execution_count": 18,
      "outputs": [
        {
          "output_type": "stream",
          "text": [
            "initial error value =  3.3019428333039107\n",
            "step =  0 , error value =  3.2904074094526448\n",
            "step =  2000 , error value =  0.6912040557714239\n",
            "step =  4000 , error value =  0.4011461394166561\n",
            "step =  6000 , error value =  0.28038440799119757\n",
            "step =  8000 , error value =  0.2145263353216919\n",
            "step =  10000 , error value =  0.17328121499229038\n",
            "step =  12000 , error value =  0.1451186364952658\n",
            "step =  14000 , error value =  0.12471045205329309\n",
            "step =  16000 , error value =  0.10926396773730049\n",
            "step =  18000 , error value =  0.09717807080555257\n",
            "step =  20000 , error value =  0.0874707297854621\n",
            "\n",
            "Elapsed time =>  0:00:03.629980\n"
          ],
          "name": "stdout"
        }
      ]
    },
    {
      "cell_type": "code",
      "metadata": {
        "colab": {
          "base_uri": "https://localhost:8080/"
        },
        "id": "qBZf5XEm7I8n",
        "outputId": "4402d2e4-2408-47bd-818f-d8818e489746"
      },
      "source": [
        "print(NAND_obj.name, '\\n')\r\n",
        "\r\n",
        "test_xdata = np.array([[0,0],[0,1],[1,0],[1,1]])\r\n",
        "test_tdata = np.array([1,1,1,0])\r\n",
        "\r\n",
        "accuracy_ret = NAND_obj.accuracy(test_xdata, test_tdata)\r\n",
        "\r\n",
        "print('Accuracy => ', accuracy_ret)"
      ],
      "execution_count": 19,
      "outputs": [
        {
          "output_type": "stream",
          "text": [
            "NAND_GATE \n",
            "\n",
            "Accuracy =>  1.0\n"
          ],
          "name": "stdout"
        }
      ]
    },
    {
      "cell_type": "code",
      "metadata": {
        "colab": {
          "base_uri": "https://localhost:8080/"
        },
        "id": "igNWNb1T7PBz",
        "outputId": "3e62e638-7345-4c7b-d36a-6961fce81855"
      },
      "source": [
        "xdata = np.array([[0,0],[0,1],[1,0],[1,1]])\r\n",
        "tdata = np.array([0,1,1,0])\r\n",
        "\r\n",
        "XOR_obj = LogicGate(\"XOR_GATE\", xdata, tdata, 1e-2, 20001)\r\n",
        "XOR_obj.train()"
      ],
      "execution_count": 20,
      "outputs": [
        {
          "output_type": "stream",
          "text": [
            "initial error value =  2.8967647698805283\n",
            "step =  0 , error value =  2.8930898742677558\n",
            "step =  2000 , error value =  2.772591246894838\n",
            "step =  4000 , error value =  2.772587928238635\n",
            "step =  6000 , error value =  2.7725879222508283\n",
            "step =  8000 , error value =  2.7725879222398815\n",
            "step =  10000 , error value =  2.7725879222398615\n",
            "step =  12000 , error value =  2.7725879222398615\n",
            "step =  14000 , error value =  2.7725879222398615\n",
            "step =  16000 , error value =  2.7725879222398615\n",
            "step =  18000 , error value =  2.7725879222398615\n",
            "step =  20000 , error value =  2.7725879222398615\n",
            "\n",
            "Elapsed time =>  0:00:03.863042\n"
          ],
          "name": "stdout"
        }
      ]
    },
    {
      "cell_type": "code",
      "metadata": {
        "colab": {
          "base_uri": "https://localhost:8080/"
        },
        "id": "IjSPUE5i7ZRO",
        "outputId": "9704cce7-407e-4a50-b19f-1fb42d9f8e85"
      },
      "source": [
        "print(XOR_obj.name, '\\n')\r\n",
        "\r\n",
        "test_xdata = np.array([[0,0],[0,1],[1,0],[1,1]])\r\n",
        "test_tdata = np.array([0,1,1,0])\r\n",
        "\r\n",
        "accuracy_ret = XOR_obj.accuracy(test_xdata, test_tdata)\r\n",
        "\r\n",
        "print('Accuracy => ', accuracy_ret)"
      ],
      "execution_count": 21,
      "outputs": [
        {
          "output_type": "stream",
          "text": [
            "XOR_GATE \n",
            "\n",
            "Accuracy =>  0.25\n"
          ],
          "name": "stdout"
        }
      ]
    },
    {
      "cell_type": "markdown",
      "metadata": {
        "id": "HrVr7THd7g_v"
      },
      "source": [
        "**XOR의 정확도가 현저하게 떨어짐**  \r\n",
        "**=> 선형(Linear) 알고리즘으로는 XOR 문제를 해결할 수 없기 때문(그래프 참조)**  \r\n",
        "**=> 다층 퍼셉트론(Multi-Layer)를 이용해 해결할 수 있음!!**"
      ]
    },
    {
      "cell_type": "markdown",
      "metadata": {
        "id": "X75_5acd8OXC"
      },
      "source": [
        "#Example 2\r\n",
        "**NAND, AND, OR 조합으로 XOR을 구현**"
      ]
    },
    {
      "cell_type": "code",
      "metadata": {
        "id": "I1NhzmUT81ox"
      },
      "source": [
        "import numpy as np\r\n",
        "from datetime import datetime\r\n",
        "\r\n",
        "# 수치미분 함수\r\n",
        "def numerical_derivative(f, x):\r\n",
        "    delta_x = 1e-4 # 0.0001\r\n",
        "    grad = np.zeros_like(x)\r\n",
        "    \r\n",
        "    it = np.nditer(x, flags=['multi_index'], op_flags=['readwrite'])\r\n",
        "    \r\n",
        "    while not it.finished:\r\n",
        "        idx = it.multi_index        \r\n",
        "        tmp_val = x[idx]\r\n",
        "        x[idx] = float(tmp_val) + delta_x\r\n",
        "        fx1 = f(x) # f(x+delta_x)\r\n",
        "        \r\n",
        "        x[idx] = float(tmp_val) - delta_x \r\n",
        "        fx2 = f(x) # f(x-delta_x)\r\n",
        "        grad[idx] = (fx1 - fx2) / (2*delta_x)\r\n",
        "        \r\n",
        "        x[idx] = tmp_val \r\n",
        "        it.iternext()   \r\n",
        "        \r\n",
        "    return grad\r\n",
        "\r\n",
        "\r\n",
        "# sigmoid 함수\r\n",
        "def sigmoid(x):\r\n",
        "    return 1 / (1+np.exp(-x))"
      ],
      "execution_count": 1,
      "outputs": []
    },
    {
      "cell_type": "code",
      "metadata": {
        "id": "DKllW2Hv9M2I"
      },
      "source": [
        "class LogicGate:\r\n",
        "\r\n",
        "    def __init__(self, gate_name, xdata, tdata, lr, cnt):\r\n",
        "        self.name = gate_name\r\n",
        "\r\n",
        "        self.xdata = xdata.reshape(4,2)\r\n",
        "        self.tdata = tdata.reshape(4,1)\r\n",
        "\r\n",
        "        self.W = np.random.rand(self.xdata.shape[1], 1)\r\n",
        "        self.b = np.random.rand(1)\r\n",
        "\r\n",
        "        self.learning_rate = lr\r\n",
        "        self.iteration_count = cnt\r\n",
        "    \r\n",
        "    def loss_func(self):\r\n",
        "        delta = 1e-7\r\n",
        "\r\n",
        "        z = np.dot(self.xdata, self.W) + self.b\r\n",
        "        y = sigmoid(z)\r\n",
        "\r\n",
        "        return -np.sum(self.tdata*np.log(y+delta)+(1-self.tdata)*np.log((1-y)+delta))\r\n",
        "    \r\n",
        "    def error_val(self):\r\n",
        "        delta = 1e-7\r\n",
        "\r\n",
        "        z = np.dot(self.xdata, self.W) + self.b\r\n",
        "        y = sigmoid(z)\r\n",
        "\r\n",
        "        return -np.sum(self.tdata*np.log(y+delta)+(1-self.tdata)*np.log((1-y)+delta))\r\n",
        "\r\n",
        "    def train(self):\r\n",
        "        step_count = int(self.iteration_count*0.1)\r\n",
        "\r\n",
        "        f = lambda x : self.loss_func()\r\n",
        "\r\n",
        "        print('initial error value = ', self.error_val())\r\n",
        "\r\n",
        "        start_time = datetime.now()\r\n",
        "\r\n",
        "        for step in range(self.iteration_count):\r\n",
        "            self.W -= self.learning_rate * numerical_derivative(f, self.W)\r\n",
        "            self.b -= self.learning_rate * numerical_derivative(f, self.b)\r\n",
        "\r\n",
        "            if (step % step_count == 0):\r\n",
        "                print('step = ', step, ', error value = ', self.error_val())\r\n",
        "        \r\n",
        "        end_time = datetime.now()\r\n",
        "\r\n",
        "        print('')\r\n",
        "        print('Elapsed time => ', end_time - start_time)\r\n",
        "\r\n",
        "    def predict(self, test_data):\r\n",
        "        z = np.dot(test_data, self.W) + self.b\r\n",
        "        y = sigmoid(z)\r\n",
        "\r\n",
        "        if y >= 0.5:\r\n",
        "            result = 1\r\n",
        "        else:\r\n",
        "            result = 0\r\n",
        "        \r\n",
        "        return y, result\r\n",
        "    \r\n",
        "    def accuracy(self, test_xdata, test_tdata):\r\n",
        "\r\n",
        "        matched_list = []\r\n",
        "        not_matched_list = []\r\n",
        "\r\n",
        "        for index in range(len(xdata)):\r\n",
        "            (real_val, logical_val) = self.predict(test_xdata[index])\r\n",
        "\r\n",
        "            if logical_val == test_tdata[index]:\r\n",
        "                matched_list.append(index)\r\n",
        "            else:\r\n",
        "                not_matched_list.append(index)\r\n",
        "        \r\n",
        "        accuracy_val = len(matched_list) / len(test_xdata)\r\n",
        "\r\n",
        "        return accuracy_val"
      ],
      "execution_count": 2,
      "outputs": []
    },
    {
      "cell_type": "code",
      "metadata": {
        "colab": {
          "base_uri": "https://localhost:8080/"
        },
        "id": "u7KbQgVX90ZO",
        "outputId": "254a70ff-bc57-437b-aa38-7ff16efba97d"
      },
      "source": [
        "xdata = np.array([ [0, 0], [0, 1], [1, 0], [1, 1] ])\r\n",
        "tdata = np.array([0, 0, 0, 1])\r\n",
        "\r\n",
        "AND_obj = LogicGate(\"AND_GATE\", xdata, tdata, 1e-2, 20001)\r\n",
        "\r\n",
        "AND_obj.train()"
      ],
      "execution_count": 3,
      "outputs": [
        {
          "output_type": "stream",
          "text": [
            "initial error value =  4.713354195818919\n",
            "step =  0 , error value =  4.656136274118884\n",
            "step =  2000 , error value =  0.6760037047450432\n",
            "step =  4000 , error value =  0.3958556889982071\n",
            "step =  6000 , error value =  0.2777283873473533\n",
            "step =  8000 , error value =  0.21294328957203035\n",
            "step =  10000 , error value =  0.172235592978079\n",
            "step =  12000 , error value =  0.14437877272625044\n",
            "step =  14000 , error value =  0.1241604294643964\n",
            "step =  16000 , error value =  0.10883959245920416\n",
            "step =  18000 , error value =  0.09684101656441531\n",
            "step =  20000 , error value =  0.0871967451361226\n",
            "\n",
            "Elapsed time =>  0:00:03.648425\n"
          ],
          "name": "stdout"
        }
      ]
    },
    {
      "cell_type": "code",
      "metadata": {
        "colab": {
          "base_uri": "https://localhost:8080/"
        },
        "id": "dRDAAbnB95lm",
        "outputId": "998b5466-cd5a-4e73-a686-17772afb48ba"
      },
      "source": [
        "print(AND_obj.name, \"\\n\")\r\n",
        "\r\n",
        "test_xdata = np.array([ [0, 0], [0, 1], [1, 0], [1, 1] ])\r\n",
        "test_tdata = np.array([ 0, 0, 0, 1])\r\n",
        "\r\n",
        "accuracy_ret = AND_obj.accuracy(test_xdata, test_tdata)\r\n",
        "\r\n",
        "print(\"Accuracy => \", accuracy_ret)"
      ],
      "execution_count": 4,
      "outputs": [
        {
          "output_type": "stream",
          "text": [
            "AND_GATE \n",
            "\n",
            "Accuracy =>  1.0\n"
          ],
          "name": "stdout"
        }
      ]
    },
    {
      "cell_type": "code",
      "metadata": {
        "colab": {
          "base_uri": "https://localhost:8080/"
        },
        "id": "EkP7maVd97ti",
        "outputId": "86df43d0-30fd-491a-d892-ee7a01c6a59f"
      },
      "source": [
        "xdata = np.array([ [0, 0], [0, 1], [1, 0], [1, 1] ])\r\n",
        "tdata = np.array([0, 1, 1, 1])\r\n",
        "\r\n",
        "OR_obj = LogicGate(\"OR_GATE\", xdata, tdata, 1e-2, 20001)\r\n",
        "\r\n",
        "OR_obj.train() "
      ],
      "execution_count": 5,
      "outputs": [
        {
          "output_type": "stream",
          "text": [
            "initial error value =  2.235812106415841\n",
            "step =  0 , error value =  2.2195757481650085\n",
            "step =  2000 , error value =  0.42444453624128914\n",
            "step =  4000 , error value =  0.23035654843612793\n",
            "step =  6000 , error value =  0.1560481695208276\n",
            "step =  8000 , error value =  0.11742044394519975\n",
            "step =  10000 , error value =  0.09390836051383236\n",
            "step =  12000 , error value =  0.07814458875337389\n",
            "step =  14000 , error value =  0.06686252642838036\n",
            "step =  16000 , error value =  0.05839892984456532\n",
            "step =  18000 , error value =  0.051820147589076396\n",
            "step =  20000 , error value =  0.04656256323012392\n",
            "\n",
            "Elapsed time =>  0:00:03.737622\n"
          ],
          "name": "stdout"
        }
      ]
    },
    {
      "cell_type": "code",
      "metadata": {
        "colab": {
          "base_uri": "https://localhost:8080/"
        },
        "id": "avzDyuDg99qe",
        "outputId": "fe511b6a-08e2-4312-f1ce-493e23da466c"
      },
      "source": [
        "print(OR_obj.name, \"\\n\")\r\n",
        "\r\n",
        "test_xdata = np.array([ [0, 0], [0, 1], [1, 0], [1, 1] ])\r\n",
        "test_tdata = np.array([ 0, 1, 1, 1])\r\n",
        "\r\n",
        "accuracy_ret = OR_obj.accuracy(test_xdata, test_tdata)\r\n",
        "\r\n",
        "print(\"Accuracy => \", accuracy_ret)"
      ],
      "execution_count": 6,
      "outputs": [
        {
          "output_type": "stream",
          "text": [
            "OR_GATE \n",
            "\n",
            "Accuracy =>  1.0\n"
          ],
          "name": "stdout"
        }
      ]
    },
    {
      "cell_type": "code",
      "metadata": {
        "colab": {
          "base_uri": "https://localhost:8080/"
        },
        "id": "EyfZKQDD9_px",
        "outputId": "afcaf699-8151-43dc-eac0-64007332a90e"
      },
      "source": [
        "xdata = np.array([ [0, 0], [0, 1], [1, 0], [1, 1] ])\r\n",
        "tdata = np.array([1, 1, 1, 0])\r\n",
        "\r\n",
        "NAND_obj = LogicGate(\"NAND_GATE\", xdata, tdata, 1e-2, 20001)\r\n",
        "\r\n",
        "NAND_obj.train()"
      ],
      "execution_count": 7,
      "outputs": [
        {
          "output_type": "stream",
          "text": [
            "initial error value =  2.601543814830528\n",
            "step =  0 , error value =  2.5973852267628583\n",
            "step =  2000 , error value =  0.6727980046422732\n",
            "step =  4000 , error value =  0.39472812778017674\n",
            "step =  6000 , error value =  0.27715981866236694\n",
            "step =  8000 , error value =  0.2126035808035089\n",
            "step =  10000 , error value =  0.1720108579424175\n",
            "step =  12000 , error value =  0.14421957952740558\n",
            "step =  14000 , error value =  0.12404198769331767\n",
            "step =  16000 , error value =  0.1087481507419431\n",
            "step =  18000 , error value =  0.0967683545001691\n",
            "step =  20000 , error value =  0.08713765603521359\n",
            "\n",
            "Elapsed time =>  0:00:03.865060\n"
          ],
          "name": "stdout"
        }
      ]
    },
    {
      "cell_type": "code",
      "metadata": {
        "colab": {
          "base_uri": "https://localhost:8080/"
        },
        "id": "_EIXU34g-Bq6",
        "outputId": "452f90d8-ae20-4fe0-930c-86f3610f8846"
      },
      "source": [
        "print(NAND_obj.name, \"\\n\")\r\n",
        "\r\n",
        "test_xdata = np.array([ [0, 0], [0, 1], [1, 0], [1, 1] ])\r\n",
        "test_tdata = np.array([ 1, 1, 1, 0])\r\n",
        "\r\n",
        "accuracy_ret = NAND_obj.accuracy(test_xdata, test_tdata)\r\n",
        "\r\n",
        "print(\"Accuracy => \", accuracy_ret)"
      ],
      "execution_count": 8,
      "outputs": [
        {
          "output_type": "stream",
          "text": [
            "NAND_GATE \n",
            "\n",
            "Accuracy =>  1.0\n"
          ],
          "name": "stdout"
        }
      ]
    },
    {
      "cell_type": "code",
      "metadata": {
        "colab": {
          "base_uri": "https://localhost:8080/"
        },
        "id": "IoyGjr8E-Dvc",
        "outputId": "534d2ce7-5f8a-4de2-b0a9-6b5af0077db8"
      },
      "source": [
        "input_data = np.array([[0,0],[0,1],[1,0],[1,1]])\r\n",
        "\r\n",
        "s1 = []     # NAND 출력\r\n",
        "s2 = []     # OR 출력\r\n",
        "\r\n",
        "new_input_data = []     #AND 입력\r\n",
        "final_output = []       #AND 출력\r\n",
        "\r\n",
        "for index in range(len(input_data)):\r\n",
        "    s1 = NAND_obj.predict(input_data[index])\r\n",
        "    s2 = OR_obj.predict(input_data[index])\r\n",
        "\r\n",
        "    new_input_data.append(s1[-1])\r\n",
        "    new_input_data.append(s2[-1])\r\n",
        "\r\n",
        "    (sigmoid_val, logical_val) = AND_obj.predict(np.array(new_input_data))\r\n",
        "\r\n",
        "    final_output.append(logical_val)\r\n",
        "    new_input_data = []\r\n",
        "\r\n",
        "for index in range(len(input_data)):\r\n",
        "    print(input_data[index], ' = ', final_output[index], end='')\r\n",
        "    print('\\n')"
      ],
      "execution_count": 10,
      "outputs": [
        {
          "output_type": "stream",
          "text": [
            "[0 0]  =  0\n",
            "\n",
            "[0 1]  =  1\n",
            "\n",
            "[1 0]  =  1\n",
            "\n",
            "[1 1]  =  0\n",
            "\n"
          ],
          "name": "stdout"
        }
      ]
    }
  ]
}