{
  "nbformat": 4,
  "nbformat_minor": 0,
  "metadata": {
    "colab": {
      "name": "MNIST_practice_1.ipynb",
      "provenance": [],
      "authorship_tag": "ABX9TyO4m663s57NTzeSfE3QVOdd",
      "include_colab_link": true
    },
    "kernelspec": {
      "name": "python3",
      "display_name": "Python 3"
    }
  },
  "cells": [
    {
      "cell_type": "markdown",
      "metadata": {
        "id": "view-in-github",
        "colab_type": "text"
      },
      "source": [
        "<a href=\"https://colab.research.google.com/github/Temple2001/ML_practice/blob/main/codes/MNIST_practice_1.ipynb\" target=\"_parent\"><img src=\"https://colab.research.google.com/assets/colab-badge.svg\" alt=\"Open In Colab\"/></a>"
      ]
    },
    {
      "cell_type": "markdown",
      "metadata": {
        "id": "sG_vARWJXvNc"
      },
      "source": [
        "# Example 1\r\n",
        "**입력 데이터 정규화, 정답데이터 one-hot encoding**"
      ]
    },
    {
      "cell_type": "code",
      "metadata": {
        "colab": {
          "base_uri": "https://localhost:8080/"
        },
        "id": "gyFaMxMoXmaD",
        "outputId": "02933894-f03f-4208-c370-19f1eac31010"
      },
      "source": [
        "import numpy as np\r\n",
        "\r\n",
        "try:\r\n",
        "\r\n",
        "    training_data = np.loadtxt('sample_data/mnist_train_small.csv', delimiter=',', dtype=np.float32)\r\n",
        "\r\n",
        "    print('training_data.shape = ', training_data.shape)\r\n",
        "\r\n",
        "    training_input_data = training_data[:, 1:]\r\n",
        "    training_target_data = training_data[:, 0]\r\n",
        "\r\n",
        "    print('training_input_data.shape = ', training_input_data.shape, ', training_target_data.shape = ', training_target_data.shape)\r\n",
        "\r\n",
        "except Exception as err:\r\n",
        "\r\n",
        "    print('Exception occur !!')"
      ],
      "execution_count": 7,
      "outputs": [
        {
          "output_type": "stream",
          "text": [
            "training_data.shape =  (20000, 785)\n",
            "training_input_data.shape =  (20000, 784) , training_target_data.shape =  (20000,)\n"
          ],
          "name": "stdout"
        }
      ]
    },
    {
      "cell_type": "code",
      "metadata": {
        "colab": {
          "base_uri": "https://localhost:8080/"
        },
        "id": "ikuDe3aPe5Dv",
        "outputId": "1e51e5e0-a94e-4e1c-8467-941fd17e4386"
      },
      "source": [
        "max_input_val = np.max(training_input_data)\r\n",
        "max_target_val = np.max(training_target_data)\r\n",
        "\r\n",
        "min_input_val = np.min(training_input_data)\r\n",
        "min_target_val = np.min(training_target_data)\r\n",
        "\r\n",
        "print('max_input_val = ', max_input_val, ', max_target_val = ', max_target_val)\r\n",
        "print('min_input_val = ', min_input_val, ', min_target_val = ', min_target_val)"
      ],
      "execution_count": 8,
      "outputs": [
        {
          "output_type": "stream",
          "text": [
            "max_input_val =  255.0 , max_target_val =  9.0\n",
            "min_input_val =  0.0 , min_target_val =  0.0\n"
          ],
          "name": "stdout"
        }
      ]
    },
    {
      "cell_type": "code",
      "metadata": {
        "colab": {
          "base_uri": "https://localhost:8080/"
        },
        "id": "o63syIT6f0R-",
        "outputId": "f24f9cec-ea8a-4f1f-8874-c717f0209353"
      },
      "source": [
        "each_max_val = np.max(training_input_data, axis=1)    # 각 행의 최대값\r\n",
        "each_min_val = np.min(training_input_data, axis=1)    # 각 행의 최소값\r\n",
        "\r\n",
        "print('each_max_val = ', each_max_val, ', len(each_max_val) = ', len(each_max_val))\r\n",
        "print('each_min_val = ', each_min_val, ', len(each_min_val) = ', len(each_min_val))\r\n",
        "\r\n",
        "# axis = 0 지정하면 각 열의 최대 값과 최소 값을 구할 수 있다"
      ],
      "execution_count": 9,
      "outputs": [
        {
          "output_type": "stream",
          "text": [
            "each_max_val =  [255. 255. 255. ... 254. 255. 255.] , len(each_max_val) =  20000\n",
            "each_min_val =  [0. 0. 0. ... 0. 0. 0.] , len(each_min_val) =  20000\n"
          ],
          "name": "stdout"
        }
      ]
    },
    {
      "cell_type": "code",
      "metadata": {
        "colab": {
          "base_uri": "https://localhost:8080/"
        },
        "id": "sgRTo5uFgK1g",
        "outputId": "9baddfd6-1407-4e8b-8dda-251ee5304234"
      },
      "source": [
        "for index in range(len(training_data)):\r\n",
        "\r\n",
        "    input_data = ((training_data[index, 1:] / 255.0) * 0.99) + 0.01\r\n",
        "\r\n",
        "    max_val = np.max(input_data)\r\n",
        "    min_val = np.min(input_data)\r\n",
        "\r\n",
        "    target_data = np.zeros(10) + 0.01\r\n",
        "    target_data[int(training_data[index, 0])] = 0.99\r\n",
        "\r\n",
        "    if index % 2000 == 0:\r\n",
        "\r\n",
        "        print('=========================================================================')\r\n",
        "        print('index = ', index, ', max_val = ', max_val, ', min_val = ', min_val)\r\n",
        "        print('index = ', index, ', target_data = ', target_data)"
      ],
      "execution_count": 10,
      "outputs": [
        {
          "output_type": "stream",
          "text": [
            "=========================================================================\n",
            "index =  0 , max_val =  1.0 , min_val =  0.01\n",
            "index =  0 , target_data =  [0.01 0.01 0.01 0.01 0.01 0.01 0.99 0.01 0.01 0.01]\n",
            "=========================================================================\n",
            "index =  2000 , max_val =  1.0 , min_val =  0.01\n",
            "index =  2000 , target_data =  [0.01 0.01 0.01 0.01 0.01 0.01 0.01 0.99 0.01 0.01]\n",
            "=========================================================================\n",
            "index =  4000 , max_val =  1.0 , min_val =  0.01\n",
            "index =  4000 , target_data =  [0.01 0.01 0.99 0.01 0.01 0.01 0.01 0.01 0.01 0.01]\n",
            "=========================================================================\n",
            "index =  6000 , max_val =  1.0 , min_val =  0.01\n",
            "index =  6000 , target_data =  [0.99 0.01 0.01 0.01 0.01 0.01 0.01 0.01 0.01 0.01]\n",
            "=========================================================================\n",
            "index =  8000 , max_val =  1.0 , min_val =  0.01\n",
            "index =  8000 , target_data =  [0.01 0.01 0.01 0.01 0.01 0.01 0.99 0.01 0.01 0.01]\n",
            "=========================================================================\n",
            "index =  10000 , max_val =  0.99611765 , min_val =  0.01\n",
            "index =  10000 , target_data =  [0.01 0.01 0.01 0.01 0.01 0.01 0.99 0.01 0.01 0.01]\n",
            "=========================================================================\n",
            "index =  12000 , max_val =  1.0 , min_val =  0.01\n",
            "index =  12000 , target_data =  [0.01 0.01 0.01 0.01 0.01 0.01 0.01 0.01 0.01 0.99]\n",
            "=========================================================================\n",
            "index =  14000 , max_val =  1.0 , min_val =  0.01\n",
            "index =  14000 , target_data =  [0.01 0.01 0.01 0.99 0.01 0.01 0.01 0.01 0.01 0.01]\n",
            "=========================================================================\n",
            "index =  16000 , max_val =  1.0 , min_val =  0.01\n",
            "index =  16000 , target_data =  [0.01 0.01 0.99 0.01 0.01 0.01 0.01 0.01 0.01 0.01]\n",
            "=========================================================================\n",
            "index =  18000 , max_val =  1.0 , min_val =  0.01\n",
            "index =  18000 , target_data =  [0.01 0.01 0.01 0.01 0.99 0.01 0.01 0.01 0.01 0.01]\n"
          ],
          "name": "stdout"
        }
      ]
    },
    {
      "cell_type": "markdown",
      "metadata": {
        "id": "lsBwJ47kiuLf"
      },
      "source": [
        "# Example 2\r\n",
        "**np.random.rand() 이용한 가중치 초기화, 은닉층 노드 1개**"
      ]
    },
    {
      "cell_type": "code",
      "metadata": {
        "id": "66FZmVzqsTLo"
      },
      "source": [
        "import numpy as np\r\n",
        "import matplotlib.pyplot as plt\r\n",
        "from datetime import datetime\r\n",
        "\r\n",
        "%matplotlib inline\r\n",
        "\r\n",
        "# 수치미분 함수\r\n",
        "\r\n",
        "def numerical_derivative(f, x):\r\n",
        "    delta_x = 1e-4 # 0.0001\r\n",
        "    grad = np.zeros_like(x)\r\n",
        "    \r\n",
        "    it = np.nditer(x, flags=['multi_index'], op_flags=['readwrite'])\r\n",
        "    \r\n",
        "    while not it.finished:\r\n",
        "        idx = it.multi_index        \r\n",
        "        tmp_val = x[idx]\r\n",
        "        x[idx] = float(tmp_val) + delta_x\r\n",
        "        fx1 = f(x) # f(x+delta_x)\r\n",
        "        \r\n",
        "        x[idx] = float(tmp_val) - delta_x \r\n",
        "        fx2 = f(x) # f(x-delta_x)\r\n",
        "        grad[idx] = (fx1 - fx2) / (2*delta_x)\r\n",
        "        \r\n",
        "        x[idx] = tmp_val \r\n",
        "        it.iternext()   \r\n",
        "        \r\n",
        "    return grad\r\n",
        "\r\n",
        "# sigmoid 함수\r\n",
        "\r\n",
        "def sigmoid(x):\r\n",
        "    return 1 / (1+np.exp(-x))"
      ],
      "execution_count": 11,
      "outputs": []
    },
    {
      "cell_type": "code",
      "metadata": {
        "id": "AFklZOQ2sVdW"
      },
      "source": [
        "class MNIST_Test:\r\n",
        "\r\n",
        "    def __init__(self, input_nodes, hidden_nodes, output_nodes, learning_rate):\r\n",
        "\r\n",
        "        self.input_nodes = input_nodes\r\n",
        "        self.hidden_nodes = hidden_nodes\r\n",
        "        self.output_nodes = output_nodes\r\n",
        "\r\n",
        "        # 은닉층 가중치  W2  Xavier/He 방법으로 self.W2 가중치 초기화\r\n",
        "        #self.W2 = np.random.randn(self.input_nodes, self.hidden_nodes) / np.sqrt(self.input_nodes/2)\r\n",
        "        #self.b2 = np.random.rand(self.hidden_nodes)      \r\n",
        "        \r\n",
        "        # 출력층 가중치는 W3  Xavier/He 방법으로 self.W3 가중치 초기화\r\n",
        "        #self.W3 = np.random.randn(self.hidden_nodes, self.output_nodes) / np.sqrt(self.hidden_nodes/2)\r\n",
        "        #self.b3 = np.random.rand(self.output_nodes)      \r\n",
        "        \r\n",
        "        # 2층 hidden layer unit \r\n",
        "        # 가중치 W, 바이어스 b 초기화\r\n",
        "        self.W2 = np.random.rand(input_nodes, hidden_nodes)  \r\n",
        "        self.b2 = np.random.rand(hidden_nodes)\r\n",
        "        \r\n",
        "        # 3층 output layer unit : 1 개 \r\n",
        "        self.W3 = np.random.rand(hidden_nodes,output_nodes)\r\n",
        "        self.b3 = np.random.rand(output_nodes)\r\n",
        "                        \r\n",
        "        # 학습률 learning rate 초기화\r\n",
        "        self.learning_rate = learning_rate\r\n",
        "        \r\n",
        "        print(\"MNIST_Test object is created !!!\")\r\n",
        "    \r\n",
        "    def feed_forward(self):\r\n",
        "        \r\n",
        "        delta = 1e-7   \r\n",
        "    \r\n",
        "        z2 = np.dot(self.input_data, self.W2) + self.b2\r\n",
        "        a2 = sigmoid(z2)\r\n",
        "        \r\n",
        "        z3 = np.dot(a2, self.W3) + self.b3\r\n",
        "        y = a3 = sigmoid(z3)\r\n",
        "    \r\n",
        "        \r\n",
        "        return  -np.sum( self.target_data*np.log(y + delta) + (1-self.target_data)*np.log((1 - y)+delta ) )\r\n",
        "      \r\n",
        "    def get_W_b(self):\r\n",
        "        \r\n",
        "        return self.W2,  self.b2, self.W3, self.b3\r\n",
        "       \r\n",
        "    def loss_val(self):\r\n",
        "        \r\n",
        "        delta = 1e-7    \r\n",
        "    \r\n",
        "        z2 = np.dot(self.input_data, self.W2) + self.b2\r\n",
        "        a2 = sigmoid(z2)\r\n",
        "        \r\n",
        "        z3 = np.dot(a2, self.W3) + self.b3\r\n",
        "        y = a3 = sigmoid(z3)\r\n",
        "    \r\n",
        "        return  -np.sum( self.target_data*np.log(y + delta) + (1-self.target_data)*np.log((1 - y)+delta ) )\r\n",
        "\r\n",
        "    def predict(self, input_data):    \r\n",
        "        \r\n",
        "        z2 = np.dot(input_data, self.W2) + self.b2\r\n",
        "        a2 = sigmoid(z2)\r\n",
        "        \r\n",
        "        z3 = np.dot(a2, self.W3) + self.b3\r\n",
        "        y = a3 = sigmoid(z3)\r\n",
        "    \r\n",
        "        # MNIST 경우는 one-hot encoding 을 적용하기 때문에\r\n",
        "        # 0 또는 1 이 아닌 argmax() 를 통해 최대 인덱스를 넘겨주어야 함\r\n",
        "        predicted_num = np.argmax(y)\r\n",
        "    \r\n",
        "        return predicted_num\r\n",
        "\r\n",
        "    def accuracy(self, input_data, target_data):\r\n",
        "        \r\n",
        "        matched_list = []\r\n",
        "        not_matched_list = []\r\n",
        "        \r\n",
        "        for index in range(len(input_data)):\r\n",
        "                        \r\n",
        "            label = int(target_data[index])\r\n",
        "\r\n",
        "            data = (input_data[index, :] / 255.0 * 0.99) + 0.01\r\n",
        "      \r\n",
        "            predicted_num = self.predict(data)\r\n",
        "        \r\n",
        "            if label == predicted_num:\r\n",
        "                matched_list.append(index)\r\n",
        "                \r\n",
        "            else:\r\n",
        "                not_matched_list.append(index)                \r\n",
        "                \r\n",
        "        accuracy_val = len(matched_list)/(len(input_data))\r\n",
        "        \r\n",
        "        return accuracy_val, not_matched_list\r\n",
        "    \r\n",
        "    def train(self, input_data, target_data):\r\n",
        "        \r\n",
        "        self.input_data = input_data\r\n",
        "        self.target_data = target_data\r\n",
        "        \r\n",
        "        f = lambda x : self.feed_forward()\r\n",
        "        \r\n",
        "        self.W2 -= self.learning_rate * numerical_derivative(f, self.W2)\r\n",
        "    \r\n",
        "        self.b2 -= self.learning_rate * numerical_derivative(f, self.b2)\r\n",
        "        \r\n",
        "        self.W3 -= self.learning_rate * numerical_derivative(f, self.W3)\r\n",
        "    \r\n",
        "        self.b3 -= self.learning_rate * numerical_derivative(f, self.b3)"
      ],
      "execution_count": 12,
      "outputs": []
    },
    {
      "cell_type": "code",
      "metadata": {
        "colab": {
          "base_uri": "https://localhost:8080/"
        },
        "id": "1s5hUcAQuHVi",
        "outputId": "1e936c19-7314-43ed-d3a3-00f3e021f4aa"
      },
      "source": [
        "try:\r\n",
        "    \r\n",
        "    training_data = np.loadtxt('sample_data/mnist_train_small.csv', delimiter=',', dtype=np.float32)\r\n",
        "\r\n",
        "    print(\"training_data.shape = \", training_data.shape)\r\n",
        "    \r\n",
        "except Exception as err:\r\n",
        "    \r\n",
        "    print('Exception occur !!')"
      ],
      "execution_count": 14,
      "outputs": [
        {
          "output_type": "stream",
          "text": [
            "training_data.shape =  (20000, 785)\n"
          ],
          "name": "stdout"
        }
      ]
    },
    {
      "cell_type": "code",
      "metadata": {
        "colab": {
          "base_uri": "https://localhost:8080/"
        },
        "id": "YsOwjsXuuTXo",
        "outputId": "4199bb8d-1ed6-4fb9-9d1a-2b96c57b8692"
      },
      "source": [
        "i_nodes = training_data.shape[1] - 1    \r\n",
        "h_nodes = 1  \r\n",
        "o_nodes = 10    \r\n",
        "lr = 1e-2      \r\n",
        "epochs = 1  \r\n",
        "\r\n",
        "loss_val_list = []\r\n",
        "\r\n",
        "obj = MNIST_Test(i_nodes, h_nodes, o_nodes, lr)\r\n",
        "\r\n",
        "print(\"Neural Network Learning using Numerical Derivative...\")\r\n",
        "\r\n",
        "start_time = datetime.now()\r\n",
        "\r\n",
        "for step in range(epochs):\r\n",
        "    \r\n",
        "    for index in range(len(training_data)):    \r\n",
        "                         \r\n",
        "        input_data = ((training_data[index, 1:] / 255.0) * 0.99) + 0.01\r\n",
        "        \r\n",
        "        \r\n",
        "        target_data = np.zeros(o_nodes) + 0.01    \r\n",
        "        target_data[int(training_data[index, 0])] = 0.99\r\n",
        "        \r\n",
        "        obj.train(input_data, target_data)\r\n",
        "                \r\n",
        "        if (index % 200 == 0):\r\n",
        "            print(\"epochs = \", step, \", index = \", index, \", loss value = \", obj.loss_val())\r\n",
        "            \r\n",
        "        loss_val_list.append(obj.loss_val())        \r\n",
        "\r\n",
        "end_time = datetime.now()\r\n",
        "        \r\n",
        "print(\"\")\r\n",
        "print(\"Elapsed Time => \", end_time - start_time)"
      ],
      "execution_count": 15,
      "outputs": [
        {
          "output_type": "stream",
          "text": [
            "MNIST_Test object is created !!!\n",
            "Neural Network Learning using Numerical Derivative...\n",
            "epochs =  0 , index =  0 , loss value =  11.794258845585905\n",
            "epochs =  0 , index =  200 , loss value =  5.104814799347667\n",
            "epochs =  0 , index =  400 , loss value =  3.7032004662769986\n",
            "epochs =  0 , index =  600 , loss value =  3.4499670819577632\n",
            "epochs =  0 , index =  800 , loss value =  3.6216904476143825\n",
            "epochs =  0 , index =  1000 , loss value =  3.4355874727447677\n",
            "epochs =  0 , index =  1200 , loss value =  3.340026756142005\n",
            "epochs =  0 , index =  1400 , loss value =  3.340098083179516\n",
            "epochs =  0 , index =  1600 , loss value =  3.432452479575877\n",
            "epochs =  0 , index =  1800 , loss value =  3.3747487190844816\n",
            "epochs =  0 , index =  2000 , loss value =  3.3718560508865125\n",
            "epochs =  0 , index =  2200 , loss value =  3.22637764858384\n",
            "epochs =  0 , index =  2400 , loss value =  3.432412827257078\n",
            "epochs =  0 , index =  2600 , loss value =  3.2573652218252995\n",
            "epochs =  0 , index =  2800 , loss value =  3.349764404015814\n",
            "epochs =  0 , index =  3000 , loss value =  3.4577883345710476\n",
            "epochs =  0 , index =  3200 , loss value =  3.444081967054604\n",
            "epochs =  0 , index =  3400 , loss value =  3.3421745282656756\n",
            "epochs =  0 , index =  3600 , loss value =  3.412962191013735\n",
            "epochs =  0 , index =  3800 , loss value =  3.5307805779893204\n",
            "epochs =  0 , index =  4000 , loss value =  3.460609251731874\n",
            "epochs =  0 , index =  4200 , loss value =  3.4933082897596424\n",
            "epochs =  0 , index =  4400 , loss value =  3.3277450052541373\n",
            "epochs =  0 , index =  4600 , loss value =  3.455536654939061\n",
            "epochs =  0 , index =  4800 , loss value =  3.2771951296493445\n",
            "epochs =  0 , index =  5000 , loss value =  3.689155465186491\n",
            "epochs =  0 , index =  5200 , loss value =  3.6306803868610915\n",
            "epochs =  0 , index =  5400 , loss value =  3.469750579515002\n",
            "epochs =  0 , index =  5600 , loss value =  3.496431736291073\n",
            "epochs =  0 , index =  5800 , loss value =  3.421731678211567\n",
            "epochs =  0 , index =  6000 , loss value =  3.3834362710456816\n",
            "epochs =  0 , index =  6200 , loss value =  3.366386112337756\n",
            "epochs =  0 , index =  6400 , loss value =  3.5092158950101338\n",
            "epochs =  0 , index =  6600 , loss value =  3.3058778833655524\n",
            "epochs =  0 , index =  6800 , loss value =  3.4060331542051028\n",
            "epochs =  0 , index =  7000 , loss value =  3.450972294779449\n",
            "epochs =  0 , index =  7200 , loss value =  3.4185158015409467\n",
            "epochs =  0 , index =  7400 , loss value =  3.4095740950459996\n",
            "epochs =  0 , index =  7600 , loss value =  3.358414917388841\n",
            "epochs =  0 , index =  7800 , loss value =  3.5285234662848346\n",
            "epochs =  0 , index =  8000 , loss value =  3.399118187984231\n",
            "epochs =  0 , index =  8200 , loss value =  3.5033520556050526\n",
            "epochs =  0 , index =  8400 , loss value =  3.5023857932055367\n",
            "epochs =  0 , index =  8600 , loss value =  3.411704350709705\n",
            "epochs =  0 , index =  8800 , loss value =  3.4874654904286397\n",
            "epochs =  0 , index =  9000 , loss value =  3.5134177207685253\n",
            "epochs =  0 , index =  9200 , loss value =  3.4223397876347526\n",
            "epochs =  0 , index =  9400 , loss value =  3.2488969420864535\n",
            "epochs =  0 , index =  9600 , loss value =  3.269225165644386\n",
            "epochs =  0 , index =  9800 , loss value =  3.3733610650181327\n",
            "epochs =  0 , index =  10000 , loss value =  3.468345505909879\n",
            "epochs =  0 , index =  10200 , loss value =  3.5374497782803336\n",
            "epochs =  0 , index =  10400 , loss value =  3.316683188039807\n",
            "epochs =  0 , index =  10600 , loss value =  3.2733873566539353\n",
            "epochs =  0 , index =  10800 , loss value =  3.3173608206939735\n",
            "epochs =  0 , index =  11000 , loss value =  3.3987887362009066\n",
            "epochs =  0 , index =  11200 , loss value =  3.448080755852522\n",
            "epochs =  0 , index =  11400 , loss value =  3.4248602541214734\n",
            "epochs =  0 , index =  11600 , loss value =  3.5233049320915955\n",
            "epochs =  0 , index =  11800 , loss value =  3.4708995408420926\n",
            "epochs =  0 , index =  12000 , loss value =  3.4940875361569006\n",
            "epochs =  0 , index =  12200 , loss value =  3.5028805389199102\n",
            "epochs =  0 , index =  12400 , loss value =  3.507038190814487\n",
            "epochs =  0 , index =  12600 , loss value =  3.528303508874921\n",
            "epochs =  0 , index =  12800 , loss value =  3.4235153531529687\n",
            "epochs =  0 , index =  13000 , loss value =  3.3345567463938424\n",
            "epochs =  0 , index =  13200 , loss value =  3.452511704853344\n",
            "epochs =  0 , index =  13400 , loss value =  3.1392417090882603\n",
            "epochs =  0 , index =  13600 , loss value =  3.378429876200749\n",
            "epochs =  0 , index =  13800 , loss value =  3.428034334824951\n",
            "epochs =  0 , index =  14000 , loss value =  3.296256133359488\n",
            "epochs =  0 , index =  14200 , loss value =  3.520616608721784\n",
            "epochs =  0 , index =  14400 , loss value =  3.4710976947229666\n",
            "epochs =  0 , index =  14600 , loss value =  3.293920217752865\n",
            "epochs =  0 , index =  14800 , loss value =  3.3414555056827497\n",
            "epochs =  0 , index =  15000 , loss value =  3.5369982749062103\n",
            "epochs =  0 , index =  15200 , loss value =  3.5326570356459484\n",
            "epochs =  0 , index =  15400 , loss value =  3.34574145142837\n",
            "epochs =  0 , index =  15600 , loss value =  3.3598056782107837\n",
            "epochs =  0 , index =  15800 , loss value =  3.233441994897281\n",
            "epochs =  0 , index =  16000 , loss value =  3.436857512102365\n",
            "epochs =  0 , index =  16200 , loss value =  3.3988293281647097\n",
            "epochs =  0 , index =  16400 , loss value =  3.5390628257577297\n",
            "epochs =  0 , index =  16600 , loss value =  3.3692453510521347\n",
            "epochs =  0 , index =  16800 , loss value =  3.3711006928411926\n",
            "epochs =  0 , index =  17000 , loss value =  3.444118360235834\n",
            "epochs =  0 , index =  17200 , loss value =  3.384722994461032\n",
            "epochs =  0 , index =  17400 , loss value =  3.3497540230548664\n",
            "epochs =  0 , index =  17600 , loss value =  3.418001993157835\n",
            "epochs =  0 , index =  17800 , loss value =  3.354386788844157\n",
            "epochs =  0 , index =  18000 , loss value =  3.526571096317937\n",
            "epochs =  0 , index =  18200 , loss value =  3.209526196430715\n",
            "epochs =  0 , index =  18400 , loss value =  3.5040728670234156\n",
            "epochs =  0 , index =  18600 , loss value =  3.4739197642030337\n",
            "epochs =  0 , index =  18800 , loss value =  3.563361096698\n",
            "epochs =  0 , index =  19000 , loss value =  3.369937015544485\n",
            "epochs =  0 , index =  19200 , loss value =  3.3688180850038454\n",
            "epochs =  0 , index =  19400 , loss value =  3.224589313137763\n",
            "epochs =  0 , index =  19600 , loss value =  3.4122792241524436\n",
            "epochs =  0 , index =  19800 , loss value =  3.3395390224511963\n",
            "\n",
            "Elapsed Time =>  0:17:05.234976\n"
          ],
          "name": "stdout"
        }
      ]
    },
    {
      "cell_type": "code",
      "metadata": {
        "colab": {
          "base_uri": "https://localhost:8080/"
        },
        "id": "YEp4dYyeu-sI",
        "outputId": "e363393d-f72d-4cab-e3ed-e6e95d928256"
      },
      "source": [
        "try:\r\n",
        "\r\n",
        "    test_data = np.loadtxt('sample_data/mnist_test.csv', delimiter=',', dtype=np.float32)\r\n",
        "    print('test_data.shape = ', test_data.shape)\r\n",
        "\r\n",
        "    test_input_data = test_data[:, 1:]\r\n",
        "    test_target_data = test_data[:, 0]\r\n",
        "\r\n",
        "    (accuracy_ret, false_list) = obj.accuracy(test_input_data, test_target_data)\r\n",
        "\r\n",
        "    print('Current Accuracy = ', accuracy_ret)\r\n",
        "\r\n",
        "except Exception as err:\r\n",
        "\r\n",
        "    print('Exception occur !!')"
      ],
      "execution_count": 16,
      "outputs": [
        {
          "output_type": "stream",
          "text": [
            "test_data.shape =  (10000, 785)\n",
            "Current Accuracy =  0.1009\n"
          ],
          "name": "stdout"
        }
      ]
    },
    {
      "cell_type": "code",
      "metadata": {
        "colab": {
          "base_uri": "https://localhost:8080/",
          "height": 295
        },
        "id": "BMhLNJO5vkZu",
        "outputId": "3d2c4572-01b3-4de3-9b66-0b09fd102ac2"
      },
      "source": [
        "Y_DATA_LIST = []\r\n",
        "\r\n",
        "for index in range(0, len(loss_val_list), 500):\r\n",
        "    Y_DATA_LIST.append(loss_val_list[index])\r\n",
        "    \r\n",
        "plt.title('MNIST Loss Value Trend')\r\n",
        "plt.xlabel('data index ( X 500 )')\r\n",
        "plt.ylabel('loss value')\r\n",
        "plt.grid()\r\n",
        "plt.ylim(2.1, 7.1)\r\n",
        "plt.plot(Y_DATA_LIST, color='b')\r\n",
        "plt.show()"
      ],
      "execution_count": 17,
      "outputs": [
        {
          "output_type": "display_data",
          "data": {
            "image/png": "[encoded data removed]",
            "text/plain": [
              "<Figure size 432x288 with 1 Axes>"
            ]
          },
          "metadata": {
            "tags": [],
            "needs_background": "light"
          }
        }
      ]
    },
    {
      "cell_type": "code",
      "metadata": {
        "colab": {
          "base_uri": "https://localhost:8080/",
          "height": 295
        },
        "id": "ybrjeG5wvmp7",
        "outputId": "e450b1a1-16af-42ba-a081-8174f822fc80"
      },
      "source": [
        "Y_DATA_LIST = []\r\n",
        "\r\n",
        "for index in range(0, len(loss_val_list), 100):\r\n",
        "    Y_DATA_LIST.append(loss_val_list[index])\r\n",
        "    \r\n",
        "plt.title('MNIST Loss Value Trend')\r\n",
        "plt.xlabel('data index ( X 100 )')\r\n",
        "plt.ylabel('loss value')\r\n",
        "plt.grid()\r\n",
        "plt.ylim(2.1, 7.1)\r\n",
        "plt.plot(Y_DATA_LIST, color='b')\r\n",
        "plt.show()"
      ],
      "execution_count": 18,
      "outputs": [
        {
          "output_type": "display_data",
          "data": {
            "image/png": "[encoded data removed]",
            "text/plain": [
              "<Figure size 432x288 with 1 Axes>"
            ]
          },
          "metadata": {
            "tags": [],
            "needs_background": "light"
          }
        }
      ]
    }
  ]
}