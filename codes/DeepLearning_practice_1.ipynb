{
  "nbformat": 4,
  "nbformat_minor": 0,
  "metadata": {
    "colab": {
      "name": "DeepLearning_practice_1.ipynb",
      "provenance": [],
      "authorship_tag": "ABX9TyOcxLsgJHHj83KUEl8N+3kz",
      "include_colab_link": true
    },
    "kernelspec": {
      "name": "python3",
      "display_name": "Python 3"
    }
  },
  "cells": [
    {
      "cell_type": "markdown",
      "metadata": {
        "id": "view-in-github",
        "colab_type": "text"
      },
      "source": [
        "<a href=\"https://colab.research.google.com/github/Temple2001/ML_practice/blob/main/codes/DeepLearning_practice_1.ipynb\" target=\"_parent\"><img src=\"https://colab.research.google.com/assets/colab-badge.svg\" alt=\"Open In Colab\"/></a>"
      ]
    },
    {
      "cell_type": "code",
      "metadata": {
        "id": "Tpn5jSOdXzLa"
      },
      "source": [
        "import numpy as np\r\n",
        "\r\n",
        "def numerical_derivative(f, x):\r\n",
        "    delta_x = 1e-4\r\n",
        "    grad = np.zeros_like(x)\r\n",
        "\r\n",
        "    it = np.nditer(x, flags=['multi_index'], op_flags=['readwrite'])\r\n",
        "\r\n",
        "    while not it.finished:\r\n",
        "        idx = it.multi_index\r\n",
        "        tmp_val = x[idx]\r\n",
        "        x[idx] = float(tmp_val) + delta_x\r\n",
        "        fx1 = f(x)\r\n",
        "\r\n",
        "        x[idx] = float(tmp_val) - delta_x\r\n",
        "        fx2 = f(x)\r\n",
        "        grad[idx] = (fx1 - fx2) / (2*delta_x)\r\n",
        "\r\n",
        "        x[idx] = tmp_val\r\n",
        "        it.iternext()\r\n",
        "    \r\n",
        "    return grad\r\n",
        "\r\n",
        "def sigmoid(z):\r\n",
        "    return 1 / (1 + np.exp(-z))"
      ],
      "execution_count": 1,
      "outputs": []
    },
    {
      "cell_type": "markdown",
      "metadata": {
        "id": "Xdnd7RCt1tEA"
      },
      "source": [
        "#Example 1"
      ]
    },
    {
      "cell_type": "code",
      "metadata": {
        "id": "L4-ttztK13m-"
      },
      "source": [
        "input_data = np.array([1,2])\r\n",
        "target_data = np.array([1])\r\n",
        "\r\n",
        "input_nodes = 2\r\n",
        "hidden_nodes = 3\r\n",
        "output_nodes = 1"
      ],
      "execution_count": 14,
      "outputs": []
    },
    {
      "cell_type": "code",
      "metadata": {
        "colab": {
          "base_uri": "https://localhost:8080/"
        },
        "id": "4CE85TvS3m3g",
        "outputId": "6812f0e8-6c7f-4403-d7c2-844a8692aafb"
      },
      "source": [
        "W2 = np.random.rand(input_nodes, hidden_nodes)\r\n",
        "b2 = np.random.rand(hidden_nodes)\r\n",
        "\r\n",
        "W3 = np.random.rand(hidden_nodes, output_nodes)\r\n",
        "b3 = np.random.rand(output_nodes)\r\n",
        "\r\n",
        "print('W2 = ', W2, ', W2.shape = ', W2.shape)\r\n",
        "print('b2 = ', b2, ', b2.shape = ', b2.shape)\r\n",
        "print('W3 = ', W3, ', W3.shape = ', W3.shape)\r\n",
        "print('b3 = ', b3, ', b3.shape = ', b3.shape)"
      ],
      "execution_count": 15,
      "outputs": [
        {
          "output_type": "stream",
          "text": [
            "W2 =  [[0.53248598 0.23959306 0.13702246]\n",
            " [0.19595643 0.00175622 0.96457319]] , W2.shape =  (2, 3)\n",
            "b2 =  [0.64311704 0.26009541 0.39879043] , b2.shape =  (3,)\n",
            "W3 =  [[0.04130656]\n",
            " [0.04062781]\n",
            " [0.46892452]] , W3.shape =  (3, 1)\n",
            "b3 =  [0.22355864] , b3.shape =  (1,)\n"
          ],
          "name": "stdout"
        }
      ]
    },
    {
      "cell_type": "code",
      "metadata": {
        "id": "OtE41pDO4tiK"
      },
      "source": [
        "def feed_forward(xdata):\r\n",
        "    delta = 1e-7\r\n",
        "\r\n",
        "    Z2 = np.dot(xdata, W2) + b2\r\n",
        "\r\n",
        "    print('[feed_forward function]')\r\n",
        "    print('Z2 = ', Z2)\r\n",
        "\r\n",
        "    A2 = sigmoid(Z2)\r\n",
        "\r\n",
        "    print('A2 = ', A2)\r\n",
        "\r\n",
        "    Z3 = np.dot(A2, W3) + b3\r\n",
        "\r\n",
        "    print('Z3 = ', Z3)\r\n",
        "\r\n",
        "    y = A3 = sigmoid(Z3)\r\n",
        "\r\n",
        "    print('y = ', y, ', A3 = ', A3)\r\n",
        "\r\n",
        "    loss = -np.sum(target_data*np.log(y+delta) + (1-target_data)*np.log((1-y)+delta))\r\n",
        "\r\n",
        "    print('current loss val = ', loss)\r\n",
        "    print('[feed_forward function]')\r\n",
        "\r\n",
        "    return loss"
      ],
      "execution_count": 18,
      "outputs": []
    },
    {
      "cell_type": "code",
      "metadata": {
        "colab": {
          "base_uri": "https://localhost:8080/"
        },
        "id": "h8gvxEim6WAL",
        "outputId": "d2a3a06e-2b7e-4e57-d0ca-01c661636fa3"
      },
      "source": [
        "loss_val = feed_forward(input_data)"
      ],
      "execution_count": 19,
      "outputs": [
        {
          "output_type": "stream",
          "text": [
            "[feed_forward function]\n",
            "Z2 =  [1.56751588 0.50320091 2.46495928]\n",
            "A2 =  [0.82742919 0.62321126 0.92164853]\n",
            "Z3 =  [0.7152402]\n",
            "y =  [0.67155802] , A3 =  [0.67155802]\n",
            "current loss val =  0.39815472038315014\n",
            "[feed_forward function]\n"
          ],
          "name": "stdout"
        }
      ]
    },
    {
      "cell_type": "markdown",
      "metadata": {
        "id": "Ws8OSguD9bUl"
      },
      "source": [
        "**아래의 연속된 출력은 feed_forward 함수가 가중치와 바이어스를 조정하며 호출되고 출력되는 결과**"
      ]
    },
    {
      "cell_type": "code",
      "metadata": {
        "colab": {
          "base_uri": "https://localhost:8080/"
        },
        "id": "iqkKLFCJ7sHu",
        "outputId": "dbd8042a-0958-4211-cbab-417516ec56b3"
      },
      "source": [
        "learning_rate = 1e-1\r\n",
        "\r\n",
        "f = lambda x : feed_forward(input_data)\r\n",
        "print('\\n=================================================')\r\n",
        "print('initial W2 = ', W2)\r\n",
        "print('initial b2 = ', b2)\r\n",
        "print('initial W3 = ', W3)\r\n",
        "print('initial b3 = ', b3)\r\n",
        "print('=================================================\\n')\r\n",
        "\r\n",
        "W2 -= learning_rate * numerical_derivative( f, W2 )\r\n",
        "b2 -= learning_rate * numerical_derivative( f, b2 )\r\n",
        "\r\n",
        "W3 -= learning_rate * numerical_derivative( f, W3 )\r\n",
        "b3 -= learning_rate * numerical_derivative( f, b3 )\r\n",
        "\r\n",
        "print('\\n=================================================')\r\n",
        "print('updated W2 = ', W2)\r\n",
        "print('updated b2 = ', b2)\r\n",
        "print('updated W3 = ', W3)\r\n",
        "print('updated b3 = ', b3)\r\n",
        "print('=================================================\\n')"
      ],
      "execution_count": 20,
      "outputs": [
        {
          "output_type": "stream",
          "text": [
            "\n",
            "=================================================\n",
            "initial W2 =  [[0.53248598 0.23959306 0.13702246]\n",
            " [0.19595643 0.00175622 0.96457319]]\n",
            "initial b2 =  [0.64311704 0.26009541 0.39879043]\n",
            "initial W3 =  [[0.04130656]\n",
            " [0.04062781]\n",
            " [0.46892452]]\n",
            "initial b3 =  [0.22355864]\n",
            "=================================================\n",
            "\n",
            "[feed_forward function]\n",
            "Z2 =  [1.56761588 0.50320091 2.46495928]\n",
            "A2 =  [0.82744347 0.62321126 0.92164853]\n",
            "Z3 =  [0.71524079]\n",
            "y =  [0.67155815] , A3 =  [0.67155815]\n",
            "current loss val =  0.39815452666893997\n",
            "[feed_forward function]\n",
            "[feed_forward function]\n",
            "Z2 =  [1.56741588 0.50320091 2.46495928]\n",
            "A2 =  [0.82741491 0.62321126 0.92164853]\n",
            "Z3 =  [0.71523961]\n",
            "y =  [0.67155789] , A3 =  [0.67155789]\n",
            "current loss val =  0.3981549141101232\n",
            "[feed_forward function]\n",
            "[feed_forward function]\n",
            "Z2 =  [1.56751588 0.50330091 2.46495928]\n",
            "A2 =  [0.82742919 0.62323474 0.92164853]\n",
            "Z3 =  [0.71524115]\n",
            "y =  [0.67155823] , A3 =  [0.67155823]\n",
            "current loss val =  0.3981544070475878\n",
            "[feed_forward function]\n",
            "[feed_forward function]\n",
            "Z2 =  [1.56751588 0.50310091 2.46495928]\n",
            "A2 =  [0.82742919 0.62318778 0.92164853]\n",
            "Z3 =  [0.71523924]\n",
            "y =  [0.67155781] , A3 =  [0.67155781]\n",
            "current loss val =  0.39815503372663463\n",
            "[feed_forward function]\n",
            "[feed_forward function]\n",
            "Z2 =  [1.56751588 0.50320091 2.46505928]\n",
            "A2 =  [0.82742919 0.62321126 0.92165576]\n",
            "Z3 =  [0.71524358]\n",
            "y =  [0.67155876] , A3 =  [0.67155876]\n",
            "current loss val =  0.39815360825405915\n",
            "[feed_forward function]\n",
            "[feed_forward function]\n",
            "Z2 =  [1.56751588 0.50320091 2.46485928]\n",
            "A2 =  [0.82742919 0.62321126 0.92164131]\n",
            "Z3 =  [0.71523681]\n",
            "y =  [0.67155727] , A3 =  [0.67155727]\n",
            "current loss val =  0.3981558326085598\n",
            "[feed_forward function]\n",
            "[feed_forward function]\n",
            "Z2 =  [1.56771588 0.50320091 2.46495928]\n",
            "A2 =  [0.82745775 0.62321126 0.92164853]\n",
            "Z3 =  [0.71524138]\n",
            "y =  [0.67155828] , A3 =  [0.67155828]\n",
            "current loss val =  0.3981543329674921\n",
            "[feed_forward function]\n",
            "[feed_forward function]\n",
            "Z2 =  [1.56731588 0.50320091 2.46495928]\n",
            "A2 =  [0.82740063 0.62321126 0.92164853]\n",
            "Z3 =  [0.71523902]\n",
            "y =  [0.67155776] , A3 =  [0.67155776]\n",
            "current loss val =  0.3981551078498592\n",
            "[feed_forward function]\n",
            "[feed_forward function]\n",
            "Z2 =  [1.56751588 0.50340091 2.46495928]\n",
            "A2 =  [0.82742919 0.62325822 0.92164853]\n",
            "Z3 =  [0.7152421]\n",
            "y =  [0.67155844] , A3 =  [0.67155844]\n",
            "current loss val =  0.39815409371994875\n",
            "[feed_forward function]\n",
            "[feed_forward function]\n",
            "Z2 =  [1.56751588 0.50300091 2.46495928]\n",
            "A2 =  [0.82742919 0.6231643  0.92164853]\n",
            "Z3 =  [0.71523829]\n",
            "y =  [0.6715576] , A3 =  [0.6715576]\n",
            "current loss val =  0.39815534707804007\n",
            "[feed_forward function]\n",
            "[feed_forward function]\n",
            "Z2 =  [1.56751588 0.50320091 2.46515928]\n",
            "A2 =  [0.82742919 0.62321126 0.92166298]\n",
            "Z3 =  [0.71524697]\n",
            "y =  [0.67155951] , A3 =  [0.67155951]\n",
            "current loss val =  0.39815249622128007\n",
            "[feed_forward function]\n",
            "[feed_forward function]\n",
            "Z2 =  [1.56751588 0.50320091 2.46475928]\n",
            "A2 =  [0.82742919 0.62321126 0.92163409]\n",
            "Z3 =  [0.71523342]\n",
            "y =  [0.67155652] , A3 =  [0.67155652]\n",
            "current loss val =  0.39815694493029513\n",
            "[feed_forward function]\n",
            "[feed_forward function]\n",
            "Z2 =  [1.56858449 0.50476761 2.47052017]\n",
            "A2 =  [0.82758172 0.62357908 0.92204916]\n",
            "Z3 =  [0.7154493]\n",
            "y =  [0.67160414] , A3 =  [0.67160414]\n",
            "current loss val =  0.3980860456135849\n",
            "[feed_forward function]\n",
            "[feed_forward function]\n",
            "Z2 =  [1.56838449 0.50476761 2.47052017]\n",
            "A2 =  [0.82755318 0.62357908 0.92204916]\n",
            "Z3 =  [0.71544812]\n",
            "y =  [0.67160388] , A3 =  [0.67160388]\n",
            "current loss val =  0.39808643275482336\n",
            "[feed_forward function]\n",
            "[feed_forward function]\n",
            "Z2 =  [1.56848449 0.50486761 2.47052017]\n",
            "A2 =  [0.82756745 0.62360255 0.92204916]\n",
            "Z3 =  [0.71544967]\n",
            "y =  [0.67160422] , A3 =  [0.67160422]\n",
            "current loss val =  0.39808592600725895\n",
            "[feed_forward function]\n",
            "[feed_forward function]\n",
            "Z2 =  [1.56848449 0.50466761 2.47052017]\n",
            "A2 =  [0.82756745 0.62355561 0.92204916]\n",
            "Z3 =  [0.71544776]\n",
            "y =  [0.6716038] , A3 =  [0.6716038]\n",
            "current loss val =  0.398086552356332\n",
            "[feed_forward function]\n",
            "[feed_forward function]\n",
            "Z2 =  [1.56848449 0.50476761 2.47062017]\n",
            "A2 =  [0.82756745 0.62357908 0.92205635]\n",
            "Z3 =  [0.71545208]\n",
            "y =  [0.67160475] , A3 =  [0.67160475]\n",
            "current loss val =  0.39808513240933624\n",
            "[feed_forward function]\n",
            "[feed_forward function]\n",
            "Z2 =  [1.56848449 0.50476761 2.47042017]\n",
            "A2 =  [0.82756745 0.62357908 0.92204197]\n",
            "Z3 =  [0.71544534]\n",
            "y =  [0.67160326] , A3 =  [0.67160326]\n",
            "current loss val =  0.3980873460422454\n",
            "[feed_forward function]\n",
            "[feed_forward function]\n",
            "Z2 =  [1.56867806 0.50508078 2.47162698]\n",
            "A2 =  [0.82759507 0.62365259 0.92212867]\n",
            "Z3 =  [0.71557289]\n",
            "y =  [0.67163139] , A3 =  [0.67163139]\n",
            "current loss val =  0.39804546286904335\n",
            "[feed_forward function]\n",
            "[feed_forward function]\n",
            "Z2 =  [1.56867806 0.50508078 2.47162698]\n",
            "A2 =  [0.82759507 0.62365259 0.92212867]\n",
            "Z3 =  [0.71540737]\n",
            "y =  [0.67159489] , A3 =  [0.67159489]\n",
            "current loss val =  0.39809981713039433\n",
            "[feed_forward function]\n",
            "[feed_forward function]\n",
            "Z2 =  [1.56867806 0.50508078 2.47162698]\n",
            "A2 =  [0.82759507 0.62365259 0.92212867]\n",
            "Z3 =  [0.71555249]\n",
            "y =  [0.67162689] , A3 =  [0.67162689]\n",
            "current loss val =  0.39805215974485364\n",
            "[feed_forward function]\n",
            "[feed_forward function]\n",
            "Z2 =  [1.56867806 0.50508078 2.47162698]\n",
            "A2 =  [0.82759507 0.62365259 0.92212867]\n",
            "Z3 =  [0.71542776]\n",
            "y =  [0.67159939] , A3 =  [0.67159939]\n",
            "current loss val =  0.39809311960182336\n",
            "[feed_forward function]\n",
            "[feed_forward function]\n",
            "Z2 =  [1.56867806 0.50508078 2.47162698]\n",
            "A2 =  [0.82759507 0.62365259 0.92212867]\n",
            "Z3 =  [0.71558234]\n",
            "y =  [0.67163348] , A3 =  [0.67163348]\n",
            "current loss val =  0.3980423586926617\n",
            "[feed_forward function]\n",
            "[feed_forward function]\n",
            "Z2 =  [1.56867806 0.50508078 2.47162698]\n",
            "A2 =  [0.82759507 0.62365259 0.92212867]\n",
            "Z3 =  [0.71539791]\n",
            "y =  [0.6715928] , A3 =  [0.6715928]\n",
            "current loss val =  0.3981029216715808\n",
            "[feed_forward function]\n",
            "[feed_forward function]\n",
            "Z2 =  [1.56867806 0.50508078 2.47162698]\n",
            "A2 =  [0.82759507 0.62365259 0.92212867]\n",
            "Z3 =  [0.77877758]\n",
            "y =  [0.68541659] , A3 =  [0.68541659]\n",
            "current loss val =  0.377728313199832\n",
            "[feed_forward function]\n",
            "[feed_forward function]\n",
            "Z2 =  [1.56867806 0.50508078 2.47162698]\n",
            "A2 =  [0.82759507 0.62365259 0.92212867]\n",
            "Z3 =  [0.77857758]\n",
            "y =  [0.68537347] , A3 =  [0.68537347]\n",
            "current loss val =  0.37779123418436417\n",
            "[feed_forward function]\n",
            "\n",
            "=================================================\n",
            "updated W2 =  [[0.5326797  0.2399064  0.13813464]\n",
            " [0.19634387 0.0023829  0.96679755]]\n",
            "updated b2 =  [0.64331061 0.26040858 0.39989725]\n",
            "updated W3 =  [[0.06848369]\n",
            " [0.06110773]\n",
            " [0.49920601]]\n",
            "updated b3 =  [0.25501913]\n",
            "=================================================\n",
            "\n"
          ],
          "name": "stdout"
        }
      ]
    },
    {
      "cell_type": "markdown",
      "metadata": {
        "id": "6v7CGvdz975P"
      },
      "source": [
        "#Example 2"
      ]
    },
    {
      "cell_type": "code",
      "metadata": {
        "id": "32XFbmXf-PJR"
      },
      "source": [
        "def feed_forward(xdata, tdata):\r\n",
        "    delta = 1e-7\r\n",
        "\r\n",
        "    z2 = np.dot(xdata, W2) + b2\r\n",
        "    a2 = sigmoid(z2)\r\n",
        "\r\n",
        "    z3 = np.dot(a2, W3) + b3\r\n",
        "    y = a3 = sigmoid(z3)\r\n",
        "\r\n",
        "    return -np.sum( tdata*np.log(y + delta) + (1-tdata)*np.log((1 - y)+delta ) )\r\n",
        "\r\n",
        "def loss_val(xdata, tdata):\r\n",
        "    delta = 1e-7\r\n",
        "    \r\n",
        "    z2 = np.dot(xdata, W2) + b2 \r\n",
        "    a2 = sigmoid(z2)\r\n",
        "        \r\n",
        "    z3 = np.dot(a2, W3) + b3  \r\n",
        "    y = a3 = sigmoid(z3) \r\n",
        "    \r\n",
        "    \r\n",
        "    return  -np.sum( tdata*np.log(y + delta) + (1-tdata)*np.log((1 - y)+delta ) ) \r\n",
        "\r\n",
        "def predict(xdata):\r\n",
        "    z2 = np.dot(xdata, W2) + b2\r\n",
        "    a2 = sigmoid(z2)\r\n",
        "\r\n",
        "    z3 = np.dot(a2, W3) + b3\r\n",
        "    y = a3 = sigmoid(z3)\r\n",
        "\r\n",
        "    if y >= 0.5:\r\n",
        "        result = 1\r\n",
        "    else:\r\n",
        "        result = 0\r\n",
        "    \r\n",
        "    return y, result"
      ],
      "execution_count": 2,
      "outputs": []
    },
    {
      "cell_type": "code",
      "metadata": {
        "id": "fkMqkUl9_c4N"
      },
      "source": [
        "xdata = np.array([[0,0],[0,1],[1,0],[1,1]])\r\n",
        "\r\n",
        "and_tdata = np.array([0, 0, 0, 1]).reshape(4,1)\r\n",
        "or_tdata = np.array([0, 1, 1, 1]).reshape(4,1)\r\n",
        "nand_tdata = np.array([1, 1, 1, 0]).reshape(4,1)\r\n",
        "xor_tdata = np.array([0, 1, 1, 0]).reshape(4,1)\r\n",
        "\r\n",
        "test_data = np.array([[0,0],[0,1],[1,0],[1,1]])"
      ],
      "execution_count": 3,
      "outputs": []
    },
    {
      "cell_type": "markdown",
      "metadata": {
        "id": "1pCzNNwmCNN-"
      },
      "source": [
        "**AND 학습 (은닉노드 10개)**"
      ]
    },
    {
      "cell_type": "code",
      "metadata": {
        "colab": {
          "base_uri": "https://localhost:8080/"
        },
        "id": "xWOnGt4Q_w0a",
        "outputId": "36191770-33a3-4b0c-ea50-48f448982bd6"
      },
      "source": [
        "from datetime import datetime\r\n",
        "\r\n",
        "input_nodes = 2\r\n",
        "hidden_nodes = 10\r\n",
        "output_nodes = 1\r\n",
        "\r\n",
        "W2 = np.random.rand(input_nodes, hidden_nodes)\r\n",
        "b2 = np.random.rand(hidden_nodes)\r\n",
        "W3 = np.random.rand(hidden_nodes, output_nodes)\r\n",
        "b3 = np.random.rand(output_nodes)\r\n",
        "\r\n",
        "learning_rate = 1e-1\r\n",
        "\r\n",
        "f = lambda x : feed_forward(xdata, and_tdata)\r\n",
        "\r\n",
        "print('initial loss value = ', loss_val(xdata, and_tdata))\r\n",
        "\r\n",
        "start_time = datetime.now()\r\n",
        "\r\n",
        "for step in range(10001):\r\n",
        "    W2 -= learning_rate * numerical_derivative(f, W2)\r\n",
        "    b2 -= learning_rate * numerical_derivative(f, b2)\r\n",
        "    W3 -= learning_rate * numerical_derivative(f, W3)\r\n",
        "    b3 -= learning_rate * numerical_derivative(f, b3)\r\n",
        "\r\n",
        "    if (step % 500 == 0):\r\n",
        "        print('step = ', step, ', loss value = ', loss_val(xdata, and_tdata))\r\n",
        "\r\n",
        "end_time = datetime.now()\r\n",
        "\r\n",
        "print('')\r\n",
        "print('Elapsed time => ', end_time - start_time)"
      ],
      "execution_count": 5,
      "outputs": [
        {
          "output_type": "stream",
          "text": [
            "initial loss value =  11.749105050940189\n",
            "step =  0 , loss value =  6.8316988565771375\n",
            "step =  500 , loss value =  0.1406482614384342\n",
            "step =  1000 , loss value =  0.03927233598847962\n",
            "step =  1500 , loss value =  0.020927454670583618\n",
            "step =  2000 , loss value =  0.013847244837319512\n",
            "step =  2500 , loss value =  0.010196872904211701\n",
            "step =  3000 , loss value =  0.008000968618667663\n",
            "step =  3500 , loss value =  0.006546816284219779\n",
            "step =  4000 , loss value =  0.005518545303262873\n",
            "step =  4500 , loss value =  0.004755916618089627\n",
            "step =  5000 , loss value =  0.004169448978865927\n",
            "step =  5500 , loss value =  0.0037054454352324134\n",
            "step =  6000 , loss value =  0.0033298261677743657\n",
            "step =  6500 , loss value =  0.003019968738497286\n",
            "step =  7000 , loss value =  0.002760293409546803\n",
            "step =  7500 , loss value =  0.0025397359657285696\n",
            "step =  8000 , loss value =  0.0023502317059994\n",
            "step =  8500 , loss value =  0.002185769395881441\n",
            "step =  9000 , loss value =  0.0020417806247241873\n",
            "step =  9500 , loss value =  0.001914733970569034\n",
            "step =  10000 , loss value =  0.0018018583045056008\n",
            "\n",
            "Elapsed time =>  0:00:27.003160\n"
          ],
          "name": "stdout"
        }
      ]
    },
    {
      "cell_type": "code",
      "metadata": {
        "colab": {
          "base_uri": "https://localhost:8080/"
        },
        "id": "yN8Gjt64B3eq",
        "outputId": "0527759e-c300-4101-fd3d-c1b8ba7d93f5"
      },
      "source": [
        "for data in test_data:\r\n",
        "    (real_val, logical_val) = predict(data)\r\n",
        "    print('real_val = ', real_val, ', logical_val = ', logical_val)"
      ],
      "execution_count": 6,
      "outputs": [
        {
          "output_type": "stream",
          "text": [
            "real_val =  [8.2677464e-08] , logical_val =  0\n",
            "real_val =  [0.00043981] , logical_val =  0\n",
            "real_val =  [0.00046781] , logical_val =  0\n",
            "real_val =  [0.99910606] , logical_val =  1\n"
          ],
          "name": "stdout"
        }
      ]
    },
    {
      "cell_type": "markdown",
      "metadata": {
        "id": "S8wBcKA7CQxU"
      },
      "source": [
        "**AND 학습 (은닉노드 1개)**"
      ]
    },
    {
      "cell_type": "code",
      "metadata": {
        "colab": {
          "base_uri": "https://localhost:8080/"
        },
        "id": "Tym_SC3hCIJJ",
        "outputId": "f3da34aa-c612-46dd-cd62-6785dd8cf08a"
      },
      "source": [
        "input_nodes = 2\r\n",
        "hidden_nodes = 1\r\n",
        "output_nodes = 1\r\n",
        "\r\n",
        "W2 = np.random.rand(input_nodes, hidden_nodes)\r\n",
        "b2 = np.random.rand(hidden_nodes)\r\n",
        "W3 = np.random.rand(hidden_nodes, output_nodes)\r\n",
        "b3 = np.random.rand(output_nodes)\r\n",
        "\r\n",
        "learning_rate = 1e-1\r\n",
        "\r\n",
        "f = lambda x : feed_forward(xdata, and_tdata)\r\n",
        "\r\n",
        "print('initial loss value = ', loss_val(xdata, and_tdata))\r\n",
        "\r\n",
        "start_time = datetime.now()\r\n",
        "\r\n",
        "for step in range(10001):\r\n",
        "    W2 -= learning_rate * numerical_derivative(f, W2)\r\n",
        "    b2 -= learning_rate * numerical_derivative(f, b2)\r\n",
        "    W3 -= learning_rate * numerical_derivative(f, W3)\r\n",
        "    b3 -= learning_rate * numerical_derivative(f, b3)\r\n",
        "\r\n",
        "    if (step % 500 == 0):\r\n",
        "        print('step = ', step, ', loss value = ', loss_val(xdata, and_tdata))\r\n",
        "\r\n",
        "end_time = datetime.now()\r\n",
        "\r\n",
        "print('')\r\n",
        "print('Elapsed time => ', end_time - start_time)"
      ],
      "execution_count": 7,
      "outputs": [
        {
          "output_type": "stream",
          "text": [
            "initial loss value =  4.214396198100818\n",
            "step =  0 , loss value =  3.684218228703605\n",
            "step =  500 , loss value =  1.8513807299933844\n",
            "step =  1000 , loss value =  0.18278284785678525\n",
            "step =  1500 , loss value =  0.07378723200698478\n",
            "step =  2000 , loss value =  0.044993820096362484\n",
            "step =  2500 , loss value =  0.032100590640595256\n",
            "step =  3000 , loss value =  0.02485966436537694\n",
            "step =  3500 , loss value =  0.020243957992851083\n",
            "step =  4000 , loss value =  0.01705319136575069\n",
            "step =  4500 , loss value =  0.014719526698922002\n",
            "step =  5000 , loss value =  0.012940437167249675\n",
            "step =  5500 , loss value =  0.011540309181573966\n",
            "step =  6000 , loss value =  0.010410355350721934\n",
            "step =  6500 , loss value =  0.009479658354954235\n",
            "step =  7000 , loss value =  0.00870004675360241\n",
            "step =  7500 , loss value =  0.008037671702228135\n",
            "step =  8000 , loss value =  0.007468063072304158\n",
            "step =  8500 , loss value =  0.006973098120856223\n",
            "step =  9000 , loss value =  0.006539072780604727\n",
            "step =  9500 , loss value =  0.006155434921172883\n",
            "step =  10000 , loss value =  0.005813929144414077\n",
            "\n",
            "Elapsed time =>  0:00:04.089695\n"
          ],
          "name": "stdout"
        }
      ]
    },
    {
      "cell_type": "code",
      "metadata": {
        "colab": {
          "base_uri": "https://localhost:8080/"
        },
        "id": "Dx-xyGWrCax9",
        "outputId": "83eb88b2-8e7c-4473-c60e-1cdd589089a4"
      },
      "source": [
        "for data in test_data:\r\n",
        "    (real_val, logical_val) = predict(data)\r\n",
        "    print('real_val = ', real_val, ', logical_val = ', logical_val)"
      ],
      "execution_count": 8,
      "outputs": [
        {
          "output_type": "stream",
          "text": [
            "real_val =  [0.00054908] , logical_val =  0\n",
            "real_val =  [0.00143362] , logical_val =  0\n",
            "real_val =  [0.00143362] , logical_val =  0\n",
            "real_val =  [0.99760707] , logical_val =  1\n"
          ],
          "name": "stdout"
        }
      ]
    },
    {
      "cell_type": "markdown",
      "metadata": {
        "id": "Z2Ckk3AzCd7m"
      },
      "source": [
        "**OR 학습 (은닉노드 1개)**"
      ]
    },
    {
      "cell_type": "code",
      "metadata": {
        "colab": {
          "base_uri": "https://localhost:8080/"
        },
        "id": "GrUUpGjrCr5m",
        "outputId": "4bf0979e-8482-48a3-b40a-a35b78a3bb42"
      },
      "source": [
        "input_nodes = 2\r\n",
        "hidden_nodes = 1\r\n",
        "output_nodes = 1\r\n",
        "\r\n",
        "W2 = np.random.rand(input_nodes, hidden_nodes)\r\n",
        "b2 = np.random.rand(hidden_nodes)\r\n",
        "W3 = np.random.rand(hidden_nodes, output_nodes)\r\n",
        "b3 = np.random.rand(output_nodes)\r\n",
        "\r\n",
        "learning_rate = 1e-1\r\n",
        "\r\n",
        "f = lambda x : feed_forward(xdata, or_tdata)\r\n",
        "\r\n",
        "print('initial loss value = ', loss_val(xdata, or_tdata))\r\n",
        "\r\n",
        "start_time = datetime.now()\r\n",
        "\r\n",
        "for step in range(10001):\r\n",
        "    W2 -= learning_rate * numerical_derivative(f, W2)\r\n",
        "    b2 -= learning_rate * numerical_derivative(f, b2)\r\n",
        "    W3 -= learning_rate * numerical_derivative(f, W3)\r\n",
        "    b3 -= learning_rate * numerical_derivative(f, b3)\r\n",
        "\r\n",
        "    if (step % 500 == 0):\r\n",
        "        print('step = ', step, ', loss value = ', loss_val(xdata, or_tdata))\r\n",
        "\r\n",
        "end_time = datetime.now()\r\n",
        "\r\n",
        "print('')\r\n",
        "print('Elapsed time => ', end_time - start_time)"
      ],
      "execution_count": 9,
      "outputs": [
        {
          "output_type": "stream",
          "text": [
            "initial loss value =  2.2242720100311395\n",
            "step =  0 , loss value =  2.2219698724674863\n",
            "step =  500 , loss value =  0.2194106763571518\n",
            "step =  1000 , loss value =  0.07609865107441055\n",
            "step =  1500 , loss value =  0.04482441856625162\n",
            "step =  2000 , loss value =  0.031560217404670965\n",
            "step =  2500 , loss value =  0.024288576047562998\n",
            "step =  3000 , loss value =  0.01971333457944472\n",
            "step =  3500 , loss value =  0.01657528233000651\n",
            "step =  4000 , loss value =  0.014291771499550285\n",
            "step =  4500 , loss value =  0.012556867480011304\n",
            "step =  5000 , loss value =  0.011194771219254994\n",
            "step =  5500 , loss value =  0.010097382350928642\n",
            "step =  6000 , loss value =  0.009194622134386949\n",
            "step =  6500 , loss value =  0.008439092387968\n",
            "step =  7000 , loss value =  0.007797599703797786\n",
            "step =  7500 , loss value =  0.007246212311153657\n",
            "step =  8000 , loss value =  0.006767244747569032\n",
            "step =  8500 , loss value =  0.0063473474061910996\n",
            "step =  9000 , loss value =  0.00597625617766747\n",
            "step =  9500 , loss value =  0.005645950784836123\n",
            "step =  10000 , loss value =  0.005350074124107239\n",
            "\n",
            "Elapsed time =>  0:00:03.934269\n"
          ],
          "name": "stdout"
        }
      ]
    },
    {
      "cell_type": "code",
      "metadata": {
        "colab": {
          "base_uri": "https://localhost:8080/"
        },
        "id": "qK8v7G6pC3Wq",
        "outputId": "d005867d-1a63-4bf2-c3a1-e85963ee2696"
      },
      "source": [
        "for data in test_data:\r\n",
        "    (real_val, logical_val) = predict(data)\r\n",
        "    print('real_val = ', real_val, ', logical_val = ', logical_val)"
      ],
      "execution_count": 10,
      "outputs": [
        {
          "output_type": "stream",
          "text": [
            "real_val =  [0.00316989] , logical_val =  0\n",
            "real_val =  [0.99913909] , logical_val =  1\n",
            "real_val =  [0.99913896] , logical_val =  1\n",
            "real_val =  [0.99954724] , logical_val =  1\n"
          ],
          "name": "stdout"
        }
      ]
    },
    {
      "cell_type": "markdown",
      "metadata": {
        "id": "hLytr9ChC8Ol"
      },
      "source": [
        "**NAND 학습 (은닉노드 1개)**"
      ]
    },
    {
      "cell_type": "code",
      "metadata": {
        "colab": {
          "base_uri": "https://localhost:8080/"
        },
        "id": "mSN_EgYzDAGk",
        "outputId": "c950fe41-756f-4ae7-d2ed-3ef7cea0ead7"
      },
      "source": [
        "input_nodes = 2\r\n",
        "hidden_nodes = 1\r\n",
        "output_nodes = 1\r\n",
        "\r\n",
        "W2 = np.random.rand(input_nodes, hidden_nodes)\r\n",
        "b2 = np.random.rand(hidden_nodes)\r\n",
        "W3 = np.random.rand(hidden_nodes, output_nodes)\r\n",
        "b3 = np.random.rand(output_nodes)\r\n",
        "\r\n",
        "learning_rate = 1e-1\r\n",
        "\r\n",
        "f = lambda x : feed_forward(xdata, nand_tdata)\r\n",
        "\r\n",
        "print('initial loss value = ', loss_val(xdata, nand_tdata))\r\n",
        "\r\n",
        "start_time = datetime.now()\r\n",
        "\r\n",
        "for step in range(10001):\r\n",
        "    W2 -= learning_rate * numerical_derivative(f, W2)\r\n",
        "    b2 -= learning_rate * numerical_derivative(f, b2)\r\n",
        "    W3 -= learning_rate * numerical_derivative(f, W3)\r\n",
        "    b3 -= learning_rate * numerical_derivative(f, b3)\r\n",
        "\r\n",
        "    if (step % 500 == 0):\r\n",
        "        print('step = ', step, ', loss value = ', loss_val(xdata, nand_tdata))\r\n",
        "\r\n",
        "end_time = datetime.now()\r\n",
        "\r\n",
        "print('')\r\n",
        "print('Elapsed time => ', end_time - start_time)"
      ],
      "execution_count": 11,
      "outputs": [
        {
          "output_type": "stream",
          "text": [
            "initial loss value =  2.2931544024598365\n",
            "step =  0 , loss value =  2.2906229743951587\n",
            "step =  500 , loss value =  0.36232293567555063\n",
            "step =  1000 , loss value =  0.09988771332048507\n",
            "step =  1500 , loss value =  0.0544932561545861\n",
            "step =  2000 , loss value =  0.03694119132029958\n",
            "step =  2500 , loss value =  0.02778497221512722\n",
            "step =  3000 , loss value =  0.022202797956342314\n",
            "step =  3500 , loss value =  0.018457650340962327\n",
            "step =  4000 , loss value =  0.015776786172743355\n",
            "step =  4500 , loss value =  0.013765884627498278\n",
            "step =  5000 , loss value =  0.012203263630236917\n",
            "step =  5500 , loss value =  0.010954962289961437\n",
            "step =  6000 , loss value =  0.009935365783817806\n",
            "step =  6500 , loss value =  0.009087253920064958\n",
            "step =  7000 , loss value =  0.00837095916486472\n",
            "step =  7500 , loss value =  0.007758131350266867\n",
            "step =  8000 , loss value =  0.00722797951857852\n",
            "step =  8500 , loss value =  0.006764915564162575\n",
            "step =  9000 , loss value =  0.0063570261346461154\n",
            "step =  9500 , loss value =  0.005995052358199462\n",
            "step =  10000 , loss value =  0.005671691080792376\n",
            "\n",
            "Elapsed time =>  0:00:03.843161\n"
          ],
          "name": "stdout"
        }
      ]
    },
    {
      "cell_type": "code",
      "metadata": {
        "colab": {
          "base_uri": "https://localhost:8080/"
        },
        "id": "40l7uBVMDIUs",
        "outputId": "e69d9dfd-bcf5-496e-a778-8b26e33fdaca"
      },
      "source": [
        "for data in test_data:\r\n",
        "    (real_val, logical_val) = predict(data)\r\n",
        "    print('real_val = ', real_val, ', logical_val = ', logical_val)"
      ],
      "execution_count": 12,
      "outputs": [
        {
          "output_type": "stream",
          "text": [
            "real_val =  [0.99972746] , logical_val =  1\n",
            "real_val =  [0.99897617] , logical_val =  1\n",
            "real_val =  [0.99897617] , logical_val =  1\n",
            "real_val =  [0.00334518] , logical_val =  0\n"
          ],
          "name": "stdout"
        }
      ]
    },
    {
      "cell_type": "markdown",
      "metadata": {
        "id": "YujaOvW7DLOl"
      },
      "source": [
        "**XOR 학습 (은닉노드 1개)**"
      ]
    },
    {
      "cell_type": "code",
      "metadata": {
        "colab": {
          "base_uri": "https://localhost:8080/"
        },
        "id": "i0tTvMiTDTXf",
        "outputId": "759211df-efc2-4710-d8d3-980505c5a32f"
      },
      "source": [
        "input_nodes = 2\r\n",
        "hidden_nodes = 1\r\n",
        "output_nodes = 1\r\n",
        "\r\n",
        "W2 = np.random.rand(input_nodes, hidden_nodes)\r\n",
        "b2 = np.random.rand(hidden_nodes)\r\n",
        "W3 = np.random.rand(hidden_nodes, output_nodes)\r\n",
        "b3 = np.random.rand(output_nodes)\r\n",
        "\r\n",
        "learning_rate = 1e-1\r\n",
        "\r\n",
        "f = lambda x : feed_forward(xdata, xor_tdata)\r\n",
        "\r\n",
        "print('initial loss value = ', loss_val(xdata, xor_tdata))\r\n",
        "\r\n",
        "start_time = datetime.now()\r\n",
        "\r\n",
        "for step in range(10001):\r\n",
        "    W2 -= learning_rate * numerical_derivative(f, W2)\r\n",
        "    b2 -= learning_rate * numerical_derivative(f, b2)\r\n",
        "    W3 -= learning_rate * numerical_derivative(f, W3)\r\n",
        "    b3 -= learning_rate * numerical_derivative(f, b3)\r\n",
        "\r\n",
        "    if (step % 500 == 0):\r\n",
        "        print('step = ', step, ', loss value = ', loss_val(xdata, xor_tdata))\r\n",
        "\r\n",
        "end_time = datetime.now()\r\n",
        "\r\n",
        "print('')\r\n",
        "print('Elapsed time => ', end_time - start_time)"
      ],
      "execution_count": 13,
      "outputs": [
        {
          "output_type": "stream",
          "text": [
            "initial loss value =  2.941666435943883\n",
            "step =  0 , loss value =  2.895026870136912\n",
            "step =  500 , loss value =  2.69441713322278\n",
            "step =  1000 , loss value =  2.136200433337293\n",
            "step =  1500 , loss value =  1.9974403171288952\n",
            "step =  2000 , loss value =  1.9613072309507376\n",
            "step =  2500 , loss value =  1.9456794531667592\n",
            "step =  3000 , loss value =  1.937113132340146\n",
            "step =  3500 , loss value =  1.9317472156457094\n",
            "step =  4000 , loss value =  1.9280867450297863\n",
            "step =  4500 , loss value =  1.9254375138069673\n",
            "step =  5000 , loss value =  1.923435103681121\n",
            "step =  5500 , loss value =  1.9218705115687147\n",
            "step =  6000 , loss value =  1.9206155629428443\n",
            "step =  6500 , loss value =  1.9195874140045999\n",
            "step =  7000 , loss value =  1.918730206302426\n",
            "step =  7500 , loss value =  1.9180049424613115\n",
            "step =  8000 , loss value =  1.9173835912070036\n",
            "step =  8500 , loss value =  1.9168454982644068\n",
            "step =  9000 , loss value =  1.9163751170631023\n",
            "step =  9500 , loss value =  1.915960526699492\n",
            "step =  10000 , loss value =  1.91559243647868\n",
            "\n",
            "Elapsed time =>  0:00:03.795908\n"
          ],
          "name": "stdout"
        }
      ]
    },
    {
      "cell_type": "code",
      "metadata": {
        "colab": {
          "base_uri": "https://localhost:8080/"
        },
        "id": "iWLxinsQDaAo",
        "outputId": "6b2425b7-c14c-40c2-cd4f-8ee82acb7075"
      },
      "source": [
        "for data in test_data:\r\n",
        "    (real_val, logical_val) = predict(data)\r\n",
        "    print('real_val = ', real_val, ', logical_val = ', logical_val)"
      ],
      "execution_count": 14,
      "outputs": [
        {
          "output_type": "stream",
          "text": [
            "real_val =  [0.0031346] , logical_val =  0\n",
            "real_val =  [0.6656643] , logical_val =  1\n",
            "real_val =  [0.66566429] , logical_val =  1\n",
            "real_val =  [0.66663391] , logical_val =  1\n"
          ],
          "name": "stdout"
        }
      ]
    },
    {
      "cell_type": "markdown",
      "metadata": {
        "id": "X_55nZzADcpB"
      },
      "source": [
        "**XOR 학습 (은닉노드 3개)**"
      ]
    },
    {
      "cell_type": "code",
      "metadata": {
        "colab": {
          "base_uri": "https://localhost:8080/"
        },
        "id": "PpGY5kX0DcQU",
        "outputId": "5989b6b5-5aad-497b-a36f-103f8b990b6b"
      },
      "source": [
        "input_nodes = 2\r\n",
        "hidden_nodes = 3\r\n",
        "output_nodes = 1\r\n",
        "\r\n",
        "W2 = np.random.rand(input_nodes, hidden_nodes)\r\n",
        "b2 = np.random.rand(hidden_nodes)\r\n",
        "W3 = np.random.rand(hidden_nodes, output_nodes)\r\n",
        "b3 = np.random.rand(output_nodes)\r\n",
        "\r\n",
        "learning_rate = 1e-1\r\n",
        "\r\n",
        "f = lambda x : feed_forward(xdata, xor_tdata)\r\n",
        "\r\n",
        "print('initial loss value = ', loss_val(xdata, xor_tdata))\r\n",
        "\r\n",
        "start_time = datetime.now()\r\n",
        "\r\n",
        "for step in range(10001):\r\n",
        "    W2 -= learning_rate * numerical_derivative(f, W2)\r\n",
        "    b2 -= learning_rate * numerical_derivative(f, b2)\r\n",
        "    W3 -= learning_rate * numerical_derivative(f, W3)\r\n",
        "    b3 -= learning_rate * numerical_derivative(f, b3)\r\n",
        "\r\n",
        "    if (step % 500 == 0):\r\n",
        "        print('step = ', step, ', loss value = ', loss_val(xdata, xor_tdata))\r\n",
        "\r\n",
        "end_time = datetime.now()\r\n",
        "\r\n",
        "print('')\r\n",
        "print('Elapsed time => ', end_time - start_time)"
      ],
      "execution_count": 15,
      "outputs": [
        {
          "output_type": "stream",
          "text": [
            "initial loss value =  4.584226804725713\n",
            "step =  0 , loss value =  4.012208245729212\n",
            "step =  500 , loss value =  2.685358566987008\n",
            "step =  1000 , loss value =  1.6135869994746885\n",
            "step =  1500 , loss value =  0.28614720425181506\n",
            "step =  2000 , loss value =  0.11535584458511876\n",
            "step =  2500 , loss value =  0.07033233826075788\n",
            "step =  3000 , loss value =  0.05029861710318012\n",
            "step =  3500 , loss value =  0.03906387149937424\n",
            "step =  4000 , loss value =  0.031898181735393855\n",
            "step =  4500 , loss value =  0.026937820781539952\n",
            "step =  5000 , loss value =  0.02330384192110204\n",
            "step =  5500 , loss value =  0.02052860954054484\n",
            "step =  6000 , loss value =  0.018340765624149387\n",
            "step =  6500 , loss value =  0.01657217554624258\n",
            "step =  7000 , loss value =  0.015113172699923518\n",
            "step =  7500 , loss value =  0.0138892078194469\n",
            "step =  8000 , loss value =  0.012847850879363527\n",
            "step =  8500 , loss value =  0.011951163169860685\n",
            "step =  9000 , loss value =  0.01117101964849181\n",
            "step =  9500 , loss value =  0.01048613181292386\n",
            "step =  10000 , loss value =  0.009880091517305244\n",
            "\n",
            "Elapsed time =>  0:00:08.852308\n"
          ],
          "name": "stdout"
        }
      ]
    },
    {
      "cell_type": "code",
      "metadata": {
        "colab": {
          "base_uri": "https://localhost:8080/"
        },
        "id": "JPeywF-yDmCk",
        "outputId": "8cd131fc-bde0-439e-e500-033d717fd491"
      },
      "source": [
        "for data in test_data:\r\n",
        "    (real_val, logical_val) = predict(data)\r\n",
        "    print('real_val = ', real_val, ', logical_val = ', logical_val)"
      ],
      "execution_count": 16,
      "outputs": [
        {
          "output_type": "stream",
          "text": [
            "real_val =  [0.00039655] , logical_val =  0\n",
            "real_val =  [0.99754836] , logical_val =  1\n",
            "real_val =  [0.99732968] , logical_val =  1\n",
            "real_val =  [0.00434585] , logical_val =  0\n"
          ],
          "name": "stdout"
        }
      ]
    }
  ]
}