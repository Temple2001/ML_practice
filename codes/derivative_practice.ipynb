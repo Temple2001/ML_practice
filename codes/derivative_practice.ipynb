{
  "nbformat": 4,
  "nbformat_minor": 0,
  "metadata": {
    "colab": {
      "name": "derivative_practice.ipynb",
      "provenance": [],
      "authorship_tag": "ABX9TyPtslXXSN6efzfq7I6Z4vES",
      "include_colab_link": true
    },
    "kernelspec": {
      "name": "python3",
      "display_name": "Python 3"
    }
  },
  "cells": [
    {
      "cell_type": "markdown",
      "metadata": {
        "id": "view-in-github",
        "colab_type": "text"
      },
      "source": [
        "<a href=\"https://colab.research.google.com/github/Temple2001/ML_practice/blob/main/codes/derivative_practice.ipynb\" target=\"_parent\"><img src=\"https://colab.research.google.com/assets/colab-badge.svg\" alt=\"Open In Colab\"/></a>"
      ]
    },
    {
      "cell_type": "markdown",
      "metadata": {
        "id": "6vqfzOEAniLM"
      },
      "source": [
        "**f(x) = x^2 에서 f'(3.0)을 구하기**"
      ]
    },
    {
      "cell_type": "code",
      "metadata": {
        "colab": {
          "base_uri": "https://localhost:8080/"
        },
        "id": "zT0lTTv0kbVJ",
        "outputId": "f4f25a6e-8017-4b05-8fe0-ec29fa7da0c8"
      },
      "source": [
        "def func(x):\r\n",
        "  return x**2\r\n",
        "\r\n",
        "f = lambda x : func(x)\r\n",
        "\r\n",
        "# 수치미분 함수 (중앙차분법)\r\n",
        "def numerical_derivative(f,x):\r\n",
        "  delta_x = 1e-4\r\n",
        "  return (f(x+delta_x) - f(x-delta_x)) / (2*delta_x)\r\n",
        "\r\n",
        "ret1 = numerical_derivative(f, 3.0)\r\n",
        "print(ret1)\r\n",
        "\r\n",
        "ret2 = numerical_derivative(func, 3.0)\r\n",
        "print(ret2)"
      ],
      "execution_count": 1,
      "outputs": [
        {
          "output_type": "stream",
          "text": [
            "6.000000000012662\n",
            "6.000000000012662\n"
          ],
          "name": "stdout"
        }
      ]
    },
    {
      "cell_type": "markdown",
      "metadata": {
        "id": "-VM-KOA4qN9X"
      },
      "source": [
        "**f(x) = 3xe^x 를 미분하여 f'(2.0)을 구하기**"
      ]
    },
    {
      "cell_type": "code",
      "metadata": {
        "colab": {
          "base_uri": "https://localhost:8080/"
        },
        "id": "Ul0sfcEiqWxx",
        "outputId": "14a20b74-7ef6-483d-b84c-7e395294b1be"
      },
      "source": [
        "import numpy as np\r\n",
        "\r\n",
        "def numerical_derivative(f,x):\r\n",
        "  delta_x = 1e-4\r\n",
        "  return (f(x+delta_x) - f(x-delta_x)) / (2*delta_x)\r\n",
        "\r\n",
        "def func(x):\r\n",
        "  return 3*x*np.exp(x)\r\n",
        "\r\n",
        "f = lambda x : func(x)\r\n",
        "\r\n",
        "ret1 = numerical_derivative(f, 2.0)\r\n",
        "print(ret1)\r\n",
        "\r\n",
        "ret2 = numerical_derivative(func, 2.0)\r\n",
        "print(ret2)"
      ],
      "execution_count": 2,
      "outputs": [
        {
          "output_type": "stream",
          "text": [
            "66.50150507518049\n",
            "66.50150507518049\n"
          ],
          "name": "stdout"
        }
      ]
    },
    {
      "cell_type": "code",
      "metadata": {
        "id": "oBuv_Zjxw5KL"
      },
      "source": [
        "# 수치미분 함수 최종 버전\r\n",
        "import numpy as np\r\n",
        "\r\n",
        "def numerical_derivative(f,x):\r\n",
        "  delta_x = 1e-4\r\n",
        "  grad = np.zeros_like(x)\r\n",
        "\r\n",
        "  it = np.nditer(x, flags=['multi_index'], op_flags=['readwrite'])\r\n",
        "\r\n",
        "  while not it.finished:\r\n",
        "    idx = it.multi_index\r\n",
        "\r\n",
        "    tmp_val = x[idx]\r\n",
        "    x[idx] = float(tmp_val) + delta_x\r\n",
        "    fx1 = f(x)\r\n",
        "\r\n",
        "    x[idx] = float(tmp_val) - delta_x\r\n",
        "    fx2 = f(x)\r\n",
        "    grad[idx] = (fx1 - fx2) / (2*delta_x)\r\n",
        "\r\n",
        "    x[idx] = tmp_val\r\n",
        "    it.iternext()\r\n",
        "\r\n",
        "  return grad"
      ],
      "execution_count": null,
      "outputs": []
    },
    {
      "cell_type": "code",
      "metadata": {
        "colab": {
          "base_uri": "https://localhost:8080/"
        },
        "id": "Jc3QzF-NywRa",
        "outputId": "fff11acc-fe8d-4272-fa6c-cfd823628448"
      },
      "source": [
        "# 수치미분 함수 디버그\r\n",
        "import numpy as np\r\n",
        "\r\n",
        "def numerical_derivative(f,x):\r\n",
        "  delta_x = 1e-4\r\n",
        "  grad = np.zeros_like(x)\r\n",
        "  print('debug 1. initial input variable = ', x)\r\n",
        "  print('debug 2. initial grad = ', grad)\r\n",
        "  print('=========================================')\r\n",
        "\r\n",
        "  it = np.nditer(x, flags=['multi_index'], op_flags=['readwrite'])\r\n",
        "\r\n",
        "  while not it.finished:\r\n",
        "    idx = it.multi_index\r\n",
        "    print('debug 3. idx = ', idx, ', x[idx] = ', x[idx])\r\n",
        "\r\n",
        "    tmp_val = x[idx]\r\n",
        "    x[idx] = float(tmp_val) + delta_x\r\n",
        "    fx1 = f(x)\r\n",
        "\r\n",
        "    x[idx] = float(tmp_val) - delta_x\r\n",
        "    fx2 = f(x)\r\n",
        "    grad[idx] = (fx1 - fx2) / (2*delta_x)\r\n",
        "\r\n",
        "    print('debug 4. grad[idx] = ', grad[idx])\r\n",
        "    print('debug 5. grad = ', grad)\r\n",
        "    print('=========================================')\r\n",
        "\r\n",
        "    x[idx] = tmp_val\r\n",
        "    it.iternext()\r\n",
        "\r\n",
        "  return grad\r\n",
        "\r\n",
        "def func1(W):\r\n",
        "  x = W\r\n",
        "  return x**2\r\n",
        "\r\n",
        "f = lambda W : func1(W)\r\n",
        "\r\n",
        "W = np.array([3.0])\r\n",
        "\r\n",
        "ret = numerical_derivative(f, W)\r\n",
        "print('type(ret) = ', type(ret), 'ret_val = ', ret)"
      ],
      "execution_count": 4,
      "outputs": [
        {
          "output_type": "stream",
          "text": [
            "debug 1. initial input variable =  [3.]\n",
            "debug 2. initial grad =  [0.]\n",
            "=========================================\n",
            "debug 3. idx =  (0,) , x[idx] =  3.0\n",
            "debug 4. grad[idx] =  6.000000000012662\n",
            "debug 5. grad =  [6.]\n",
            "=========================================\n",
            "type(ret) =  <class 'numpy.ndarray'> ret_val =  [6.]\n"
          ],
          "name": "stdout"
        }
      ]
    },
    {
      "cell_type": "markdown",
      "metadata": {
        "id": "pKNB4Ldu5Gyx"
      },
      "source": [
        "**f(x,y) = 2x + 3xy + y^3 를 편미분하여 f'(1.0, 2.0)을 구하기**"
      ]
    },
    {
      "cell_type": "code",
      "metadata": {
        "colab": {
          "base_uri": "https://localhost:8080/"
        },
        "id": "J4m8oq9q1C5q",
        "outputId": "d137ac9b-b25b-4425-946a-a47b7aa18f39"
      },
      "source": [
        "def func2(W):\r\n",
        "  x = W[0]\r\n",
        "  y = W[1]\r\n",
        "\r\n",
        "  return (2*x + 3*x*y + np.power(y, 3))\r\n",
        "\r\n",
        "f = lambda W : func2(W)\r\n",
        "\r\n",
        "W = np.array([1.0, 2.0])\r\n",
        "\r\n",
        "numerical_derivative(f, W)\r\n"
      ],
      "execution_count": 7,
      "outputs": [
        {
          "output_type": "stream",
          "text": [
            "debug 1. initial input variable =  [1. 2.]\n",
            "debug 2. initial grad =  [0. 0.]\n",
            "=========================================\n",
            "debug 3. idx =  (0,) , x[idx] =  1.0\n",
            "debug 4. grad[idx] =  7.999999999990237\n",
            "debug 5. grad =  [8. 0.]\n",
            "=========================================\n",
            "debug 3. idx =  (1,) , x[idx] =  2.0\n",
            "debug 4. grad[idx] =  15.000000010019221\n",
            "debug 5. grad =  [ 8.         15.00000001]\n",
            "=========================================\n"
          ],
          "name": "stdout"
        },
        {
          "output_type": "execute_result",
          "data": {
            "text/plain": [
              "array([ 8.        , 15.00000001])"
            ]
          },
          "metadata": {
            "tags": []
          },
          "execution_count": 7
        }
      ]
    },
    {
      "cell_type": "markdown",
      "metadata": {
        "id": "fOcaJrlP-DtF"
      },
      "source": [
        "**f(w,x,y,z) = wx + xyz + 3w +zy^2를 편미분하여 f'(1.0, 2.0, 3.0, 4.0)을 구하기**"
      ]
    },
    {
      "cell_type": "code",
      "metadata": {
        "colab": {
          "base_uri": "https://localhost:8080/"
        },
        "id": "2Y8tMGGW_xis",
        "outputId": "b2117780-cbee-45e1-a2b4-59eb5ff258c1"
      },
      "source": [
        "def func(input_data):\r\n",
        "  w = input_data[0, 0]\r\n",
        "  x = input_data[0, 1]\r\n",
        "  y = input_data[1, 0]\r\n",
        "  z = input_data[1, 1]\r\n",
        "\r\n",
        "  return (w*x + x*y*z + 3*w + z*np.power(y, 2))\r\n",
        "\r\n",
        "f = lambda W : func(W)\r\n",
        "\r\n",
        "input_data = np.array([[1.0, 2.0], [3.0, 4.0]])\r\n",
        "\r\n",
        "ret = numerical_derivative(f, input_data)\r\n",
        "print(ret)"
      ],
      "execution_count": 8,
      "outputs": [
        {
          "output_type": "stream",
          "text": [
            "debug 1. initial input variable =  [[1. 2.]\n",
            " [3. 4.]]\n",
            "debug 2. initial grad =  [[0. 0.]\n",
            " [0. 0.]]\n",
            "=========================================\n",
            "debug 3. idx =  (0, 0) , x[idx] =  1.0\n",
            "debug 4. grad[idx] =  5.000000000023874\n",
            "debug 5. grad =  [[5. 0.]\n",
            " [0. 0.]]\n",
            "=========================================\n",
            "debug 3. idx =  (0, 1) , x[idx] =  2.0\n",
            "debug 4. grad[idx] =  13.00000000000523\n",
            "debug 5. grad =  [[ 5. 13.]\n",
            " [ 0.  0.]]\n",
            "=========================================\n",
            "debug 3. idx =  (1, 0) , x[idx] =  3.0\n",
            "debug 4. grad[idx] =  32.00000000006753\n",
            "debug 5. grad =  [[ 5. 13.]\n",
            " [32.  0.]]\n",
            "=========================================\n",
            "debug 3. idx =  (1, 1) , x[idx] =  4.0\n",
            "debug 4. grad[idx] =  15.000000000000568\n",
            "debug 5. grad =  [[ 5. 13.]\n",
            " [32. 15.]]\n",
            "=========================================\n",
            "[[ 5. 13.]\n",
            " [32. 15.]]\n"
          ],
          "name": "stdout"
        }
      ]
    }
  ]
}